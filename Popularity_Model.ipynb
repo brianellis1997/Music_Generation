{
  "nbformat": 4,
  "nbformat_minor": 0,
  "metadata": {
    "colab": {
      "provenance": [],
      "machine_shape": "hm",
      "gpuType": "V100",
      "authorship_tag": "ABX9TyP0hvMM6Ze48PE1MMq0N1az",
      "include_colab_link": true
    },
    "kernelspec": {
      "name": "python3",
      "display_name": "Python 3"
    },
    "language_info": {
      "name": "python"
    },
    "accelerator": "GPU"
  },
  "cells": [
    {
      "cell_type": "markdown",
      "metadata": {
        "id": "view-in-github",
        "colab_type": "text"
      },
      "source": [
        "<a href=\"https://colab.research.google.com/github/brianellis1997/Music_Generation/blob/main/Popularity_Model.ipynb\" target=\"_parent\"><img src=\"https://colab.research.google.com/assets/colab-badge.svg\" alt=\"Open In Colab\"/></a>"
      ]
    },
    {
      "cell_type": "code",
      "source": [
        "!git clone https://github.com/brianellis1997/Music_Generation.git"
      ],
      "metadata": {
        "colab": {
          "base_uri": "https://localhost:8080/"
        },
        "id": "Xqvo69MVYiV-",
        "outputId": "2f212b2a-1234-4d61-ed78-5314eb8e36c1"
      },
      "execution_count": 1,
      "outputs": [
        {
          "output_type": "stream",
          "name": "stdout",
          "text": [
            "Cloning into 'Music_Generation'...\n",
            "remote: Enumerating objects: 186, done.\u001b[K\n",
            "remote: Counting objects: 100% (186/186), done.\u001b[K\n",
            "remote: Compressing objects: 100% (175/175), done.\u001b[K\n",
            "remote: Total 186 (delta 92), reused 37 (delta 7), pack-reused 0\u001b[K\n",
            "Receiving objects: 100% (186/186), 23.36 MiB | 11.62 MiB/s, done.\n",
            "Resolving deltas: 100% (92/92), done.\n"
          ]
        }
      ]
    },
    {
      "cell_type": "code",
      "source": [
        "from google.colab import drive\n",
        "drive.mount('/content/drive')"
      ],
      "metadata": {
        "id": "kFqAxbBlhxGs",
        "outputId": "b01292cd-a59d-4fbf-f835-b0490eddb51b",
        "colab": {
          "base_uri": "https://localhost:8080/"
        }
      },
      "execution_count": 2,
      "outputs": [
        {
          "output_type": "stream",
          "name": "stdout",
          "text": [
            "Mounted at /content/drive\n"
          ]
        }
      ]
    },
    {
      "cell_type": "code",
      "source": [
        "import pandas as pd\n",
        "from matplotlib import pyplot as plt"
      ],
      "metadata": {
        "id": "fUjNUjHGfKQ0"
      },
      "execution_count": 3,
      "outputs": []
    },
    {
      "cell_type": "code",
      "source": [
        "df = pd.read_csv('/content/drive/MyDrive/DS340/spotify_data.csv')\n",
        "df.info()"
      ],
      "metadata": {
        "colab": {
          "base_uri": "https://localhost:8080/"
        },
        "id": "zxWn8O_ffMbq",
        "outputId": "551a2809-17d6-4e0e-938b-de5c92a18125"
      },
      "execution_count": 4,
      "outputs": [
        {
          "output_type": "stream",
          "name": "stdout",
          "text": [
            "<class 'pandas.core.frame.DataFrame'>\n",
            "RangeIndex: 170653 entries, 0 to 170652\n",
            "Data columns (total 19 columns):\n",
            " #   Column            Non-Null Count   Dtype  \n",
            "---  ------            --------------   -----  \n",
            " 0   valence           170653 non-null  float64\n",
            " 1   year              170653 non-null  int64  \n",
            " 2   acousticness      170653 non-null  float64\n",
            " 3   artists           170653 non-null  object \n",
            " 4   danceability      170653 non-null  float64\n",
            " 5   duration_ms       170653 non-null  int64  \n",
            " 6   energy            170653 non-null  float64\n",
            " 7   explicit          170653 non-null  int64  \n",
            " 8   id                170653 non-null  object \n",
            " 9   instrumentalness  170653 non-null  float64\n",
            " 10  key               170653 non-null  int64  \n",
            " 11  liveness          170653 non-null  float64\n",
            " 12  loudness          170653 non-null  float64\n",
            " 13  mode              170653 non-null  int64  \n",
            " 14  name              170653 non-null  object \n",
            " 15  popularity        170653 non-null  int64  \n",
            " 16  release_date      170653 non-null  object \n",
            " 17  speechiness       170653 non-null  float64\n",
            " 18  tempo             170653 non-null  float64\n",
            "dtypes: float64(9), int64(6), object(4)\n",
            "memory usage: 24.7+ MB\n"
          ]
        }
      ]
    },
    {
      "cell_type": "code",
      "source": [
        "df.head()"
      ],
      "metadata": {
        "colab": {
          "base_uri": "https://localhost:8080/",
          "height": 504
        },
        "id": "VCD1DJ43fTzA",
        "outputId": "8477d25b-4c68-4431-fa15-ef0f5509c843"
      },
      "execution_count": null,
      "outputs": [
        {
          "output_type": "execute_result",
          "data": {
            "text/plain": [
              "   valence  year  acousticness  \\\n",
              "0   0.0594  1921         0.982   \n",
              "1   0.9630  1921         0.732   \n",
              "2   0.0394  1921         0.961   \n",
              "3   0.1650  1921         0.967   \n",
              "4   0.2530  1921         0.957   \n",
              "\n",
              "                                             artists  danceability  \\\n",
              "0  ['Sergei Rachmaninoff', 'James Levine', 'Berli...         0.279   \n",
              "1                                     ['Dennis Day']         0.819   \n",
              "2  ['KHP Kridhamardawa Karaton Ngayogyakarta Hadi...         0.328   \n",
              "3                                   ['Frank Parker']         0.275   \n",
              "4                                     ['Phil Regan']         0.418   \n",
              "\n",
              "   duration_ms  energy  explicit                      id  instrumentalness  \\\n",
              "0       831667   0.211         0  4BJqT0PrAfrxzMOxytFOIz          0.878000   \n",
              "1       180533   0.341         0  7xPhfUan2yNtyFG0cUWkt8          0.000000   \n",
              "2       500062   0.166         0  1o6I8BglA6ylDMrIELygv1          0.913000   \n",
              "3       210000   0.309         0  3ftBPsC5vPBKxYSee08FDH          0.000028   \n",
              "4       166693   0.193         0  4d6HGyGT8e121BsdKmw9v6          0.000002   \n",
              "\n",
              "   key  liveness  loudness  mode  \\\n",
              "0   10     0.665   -20.096     1   \n",
              "1    7     0.160   -12.441     1   \n",
              "2    3     0.101   -14.850     1   \n",
              "3    5     0.381    -9.316     1   \n",
              "4    3     0.229   -10.096     1   \n",
              "\n",
              "                                                name  popularity release_date  \\\n",
              "0  Piano Concerto No. 3 in D Minor, Op. 30: III. ...           4         1921   \n",
              "1                            Clancy Lowered the Boom           5         1921   \n",
              "2                                          Gati Bali           5         1921   \n",
              "3                                          Danny Boy           3         1921   \n",
              "4                        When Irish Eyes Are Smiling           2         1921   \n",
              "\n",
              "   speechiness    tempo  \n",
              "0       0.0366   80.954  \n",
              "1       0.4150   60.936  \n",
              "2       0.0339  110.339  \n",
              "3       0.0354  100.109  \n",
              "4       0.0380  101.665  "
            ],
            "text/html": [
              "\n",
              "  <div id=\"df-57c149a7-daee-4eb0-8f93-76cf04b2e29d\" class=\"colab-df-container\">\n",
              "    <div>\n",
              "<style scoped>\n",
              "    .dataframe tbody tr th:only-of-type {\n",
              "        vertical-align: middle;\n",
              "    }\n",
              "\n",
              "    .dataframe tbody tr th {\n",
              "        vertical-align: top;\n",
              "    }\n",
              "\n",
              "    .dataframe thead th {\n",
              "        text-align: right;\n",
              "    }\n",
              "</style>\n",
              "<table border=\"1\" class=\"dataframe\">\n",
              "  <thead>\n",
              "    <tr style=\"text-align: right;\">\n",
              "      <th></th>\n",
              "      <th>valence</th>\n",
              "      <th>year</th>\n",
              "      <th>acousticness</th>\n",
              "      <th>artists</th>\n",
              "      <th>danceability</th>\n",
              "      <th>duration_ms</th>\n",
              "      <th>energy</th>\n",
              "      <th>explicit</th>\n",
              "      <th>id</th>\n",
              "      <th>instrumentalness</th>\n",
              "      <th>key</th>\n",
              "      <th>liveness</th>\n",
              "      <th>loudness</th>\n",
              "      <th>mode</th>\n",
              "      <th>name</th>\n",
              "      <th>popularity</th>\n",
              "      <th>release_date</th>\n",
              "      <th>speechiness</th>\n",
              "      <th>tempo</th>\n",
              "    </tr>\n",
              "  </thead>\n",
              "  <tbody>\n",
              "    <tr>\n",
              "      <th>0</th>\n",
              "      <td>0.0594</td>\n",
              "      <td>1921</td>\n",
              "      <td>0.982</td>\n",
              "      <td>['Sergei Rachmaninoff', 'James Levine', 'Berli...</td>\n",
              "      <td>0.279</td>\n",
              "      <td>831667</td>\n",
              "      <td>0.211</td>\n",
              "      <td>0</td>\n",
              "      <td>4BJqT0PrAfrxzMOxytFOIz</td>\n",
              "      <td>0.878000</td>\n",
              "      <td>10</td>\n",
              "      <td>0.665</td>\n",
              "      <td>-20.096</td>\n",
              "      <td>1</td>\n",
              "      <td>Piano Concerto No. 3 in D Minor, Op. 30: III. ...</td>\n",
              "      <td>4</td>\n",
              "      <td>1921</td>\n",
              "      <td>0.0366</td>\n",
              "      <td>80.954</td>\n",
              "    </tr>\n",
              "    <tr>\n",
              "      <th>1</th>\n",
              "      <td>0.9630</td>\n",
              "      <td>1921</td>\n",
              "      <td>0.732</td>\n",
              "      <td>['Dennis Day']</td>\n",
              "      <td>0.819</td>\n",
              "      <td>180533</td>\n",
              "      <td>0.341</td>\n",
              "      <td>0</td>\n",
              "      <td>7xPhfUan2yNtyFG0cUWkt8</td>\n",
              "      <td>0.000000</td>\n",
              "      <td>7</td>\n",
              "      <td>0.160</td>\n",
              "      <td>-12.441</td>\n",
              "      <td>1</td>\n",
              "      <td>Clancy Lowered the Boom</td>\n",
              "      <td>5</td>\n",
              "      <td>1921</td>\n",
              "      <td>0.4150</td>\n",
              "      <td>60.936</td>\n",
              "    </tr>\n",
              "    <tr>\n",
              "      <th>2</th>\n",
              "      <td>0.0394</td>\n",
              "      <td>1921</td>\n",
              "      <td>0.961</td>\n",
              "      <td>['KHP Kridhamardawa Karaton Ngayogyakarta Hadi...</td>\n",
              "      <td>0.328</td>\n",
              "      <td>500062</td>\n",
              "      <td>0.166</td>\n",
              "      <td>0</td>\n",
              "      <td>1o6I8BglA6ylDMrIELygv1</td>\n",
              "      <td>0.913000</td>\n",
              "      <td>3</td>\n",
              "      <td>0.101</td>\n",
              "      <td>-14.850</td>\n",
              "      <td>1</td>\n",
              "      <td>Gati Bali</td>\n",
              "      <td>5</td>\n",
              "      <td>1921</td>\n",
              "      <td>0.0339</td>\n",
              "      <td>110.339</td>\n",
              "    </tr>\n",
              "    <tr>\n",
              "      <th>3</th>\n",
              "      <td>0.1650</td>\n",
              "      <td>1921</td>\n",
              "      <td>0.967</td>\n",
              "      <td>['Frank Parker']</td>\n",
              "      <td>0.275</td>\n",
              "      <td>210000</td>\n",
              "      <td>0.309</td>\n",
              "      <td>0</td>\n",
              "      <td>3ftBPsC5vPBKxYSee08FDH</td>\n",
              "      <td>0.000028</td>\n",
              "      <td>5</td>\n",
              "      <td>0.381</td>\n",
              "      <td>-9.316</td>\n",
              "      <td>1</td>\n",
              "      <td>Danny Boy</td>\n",
              "      <td>3</td>\n",
              "      <td>1921</td>\n",
              "      <td>0.0354</td>\n",
              "      <td>100.109</td>\n",
              "    </tr>\n",
              "    <tr>\n",
              "      <th>4</th>\n",
              "      <td>0.2530</td>\n",
              "      <td>1921</td>\n",
              "      <td>0.957</td>\n",
              "      <td>['Phil Regan']</td>\n",
              "      <td>0.418</td>\n",
              "      <td>166693</td>\n",
              "      <td>0.193</td>\n",
              "      <td>0</td>\n",
              "      <td>4d6HGyGT8e121BsdKmw9v6</td>\n",
              "      <td>0.000002</td>\n",
              "      <td>3</td>\n",
              "      <td>0.229</td>\n",
              "      <td>-10.096</td>\n",
              "      <td>1</td>\n",
              "      <td>When Irish Eyes Are Smiling</td>\n",
              "      <td>2</td>\n",
              "      <td>1921</td>\n",
              "      <td>0.0380</td>\n",
              "      <td>101.665</td>\n",
              "    </tr>\n",
              "  </tbody>\n",
              "</table>\n",
              "</div>\n",
              "    <div class=\"colab-df-buttons\">\n",
              "\n",
              "  <div class=\"colab-df-container\">\n",
              "    <button class=\"colab-df-convert\" onclick=\"convertToInteractive('df-57c149a7-daee-4eb0-8f93-76cf04b2e29d')\"\n",
              "            title=\"Convert this dataframe to an interactive table.\"\n",
              "            style=\"display:none;\">\n",
              "\n",
              "  <svg xmlns=\"http://www.w3.org/2000/svg\" height=\"24px\" viewBox=\"0 -960 960 960\">\n",
              "    <path d=\"M120-120v-720h720v720H120Zm60-500h600v-160H180v160Zm220 220h160v-160H400v160Zm0 220h160v-160H400v160ZM180-400h160v-160H180v160Zm440 0h160v-160H620v160ZM180-180h160v-160H180v160Zm440 0h160v-160H620v160Z\"/>\n",
              "  </svg>\n",
              "    </button>\n",
              "\n",
              "  <style>\n",
              "    .colab-df-container {\n",
              "      display:flex;\n",
              "      gap: 12px;\n",
              "    }\n",
              "\n",
              "    .colab-df-convert {\n",
              "      background-color: #E8F0FE;\n",
              "      border: none;\n",
              "      border-radius: 50%;\n",
              "      cursor: pointer;\n",
              "      display: none;\n",
              "      fill: #1967D2;\n",
              "      height: 32px;\n",
              "      padding: 0 0 0 0;\n",
              "      width: 32px;\n",
              "    }\n",
              "\n",
              "    .colab-df-convert:hover {\n",
              "      background-color: #E2EBFA;\n",
              "      box-shadow: 0px 1px 2px rgba(60, 64, 67, 0.3), 0px 1px 3px 1px rgba(60, 64, 67, 0.15);\n",
              "      fill: #174EA6;\n",
              "    }\n",
              "\n",
              "    .colab-df-buttons div {\n",
              "      margin-bottom: 4px;\n",
              "    }\n",
              "\n",
              "    [theme=dark] .colab-df-convert {\n",
              "      background-color: #3B4455;\n",
              "      fill: #D2E3FC;\n",
              "    }\n",
              "\n",
              "    [theme=dark] .colab-df-convert:hover {\n",
              "      background-color: #434B5C;\n",
              "      box-shadow: 0px 1px 3px 1px rgba(0, 0, 0, 0.15);\n",
              "      filter: drop-shadow(0px 1px 2px rgba(0, 0, 0, 0.3));\n",
              "      fill: #FFFFFF;\n",
              "    }\n",
              "  </style>\n",
              "\n",
              "    <script>\n",
              "      const buttonEl =\n",
              "        document.querySelector('#df-57c149a7-daee-4eb0-8f93-76cf04b2e29d button.colab-df-convert');\n",
              "      buttonEl.style.display =\n",
              "        google.colab.kernel.accessAllowed ? 'block' : 'none';\n",
              "\n",
              "      async function convertToInteractive(key) {\n",
              "        const element = document.querySelector('#df-57c149a7-daee-4eb0-8f93-76cf04b2e29d');\n",
              "        const dataTable =\n",
              "          await google.colab.kernel.invokeFunction('convertToInteractive',\n",
              "                                                    [key], {});\n",
              "        if (!dataTable) return;\n",
              "\n",
              "        const docLinkHtml = 'Like what you see? Visit the ' +\n",
              "          '<a target=\"_blank\" href=https://colab.research.google.com/notebooks/data_table.ipynb>data table notebook</a>'\n",
              "          + ' to learn more about interactive tables.';\n",
              "        element.innerHTML = '';\n",
              "        dataTable['output_type'] = 'display_data';\n",
              "        await google.colab.output.renderOutput(dataTable, element);\n",
              "        const docLink = document.createElement('div');\n",
              "        docLink.innerHTML = docLinkHtml;\n",
              "        element.appendChild(docLink);\n",
              "      }\n",
              "    </script>\n",
              "  </div>\n",
              "\n",
              "\n",
              "<div id=\"df-07860b01-e5f2-4549-bd4e-0d468b3b5292\">\n",
              "  <button class=\"colab-df-quickchart\" onclick=\"quickchart('df-07860b01-e5f2-4549-bd4e-0d468b3b5292')\"\n",
              "            title=\"Suggest charts\"\n",
              "            style=\"display:none;\">\n",
              "\n",
              "<svg xmlns=\"http://www.w3.org/2000/svg\" height=\"24px\"viewBox=\"0 0 24 24\"\n",
              "     width=\"24px\">\n",
              "    <g>\n",
              "        <path d=\"M19 3H5c-1.1 0-2 .9-2 2v14c0 1.1.9 2 2 2h14c1.1 0 2-.9 2-2V5c0-1.1-.9-2-2-2zM9 17H7v-7h2v7zm4 0h-2V7h2v10zm4 0h-2v-4h2v4z\"/>\n",
              "    </g>\n",
              "</svg>\n",
              "  </button>\n",
              "\n",
              "<style>\n",
              "  .colab-df-quickchart {\n",
              "      --bg-color: #E8F0FE;\n",
              "      --fill-color: #1967D2;\n",
              "      --hover-bg-color: #E2EBFA;\n",
              "      --hover-fill-color: #174EA6;\n",
              "      --disabled-fill-color: #AAA;\n",
              "      --disabled-bg-color: #DDD;\n",
              "  }\n",
              "\n",
              "  [theme=dark] .colab-df-quickchart {\n",
              "      --bg-color: #3B4455;\n",
              "      --fill-color: #D2E3FC;\n",
              "      --hover-bg-color: #434B5C;\n",
              "      --hover-fill-color: #FFFFFF;\n",
              "      --disabled-bg-color: #3B4455;\n",
              "      --disabled-fill-color: #666;\n",
              "  }\n",
              "\n",
              "  .colab-df-quickchart {\n",
              "    background-color: var(--bg-color);\n",
              "    border: none;\n",
              "    border-radius: 50%;\n",
              "    cursor: pointer;\n",
              "    display: none;\n",
              "    fill: var(--fill-color);\n",
              "    height: 32px;\n",
              "    padding: 0;\n",
              "    width: 32px;\n",
              "  }\n",
              "\n",
              "  .colab-df-quickchart:hover {\n",
              "    background-color: var(--hover-bg-color);\n",
              "    box-shadow: 0 1px 2px rgba(60, 64, 67, 0.3), 0 1px 3px 1px rgba(60, 64, 67, 0.15);\n",
              "    fill: var(--button-hover-fill-color);\n",
              "  }\n",
              "\n",
              "  .colab-df-quickchart-complete:disabled,\n",
              "  .colab-df-quickchart-complete:disabled:hover {\n",
              "    background-color: var(--disabled-bg-color);\n",
              "    fill: var(--disabled-fill-color);\n",
              "    box-shadow: none;\n",
              "  }\n",
              "\n",
              "  .colab-df-spinner {\n",
              "    border: 2px solid var(--fill-color);\n",
              "    border-color: transparent;\n",
              "    border-bottom-color: var(--fill-color);\n",
              "    animation:\n",
              "      spin 1s steps(1) infinite;\n",
              "  }\n",
              "\n",
              "  @keyframes spin {\n",
              "    0% {\n",
              "      border-color: transparent;\n",
              "      border-bottom-color: var(--fill-color);\n",
              "      border-left-color: var(--fill-color);\n",
              "    }\n",
              "    20% {\n",
              "      border-color: transparent;\n",
              "      border-left-color: var(--fill-color);\n",
              "      border-top-color: var(--fill-color);\n",
              "    }\n",
              "    30% {\n",
              "      border-color: transparent;\n",
              "      border-left-color: var(--fill-color);\n",
              "      border-top-color: var(--fill-color);\n",
              "      border-right-color: var(--fill-color);\n",
              "    }\n",
              "    40% {\n",
              "      border-color: transparent;\n",
              "      border-right-color: var(--fill-color);\n",
              "      border-top-color: var(--fill-color);\n",
              "    }\n",
              "    60% {\n",
              "      border-color: transparent;\n",
              "      border-right-color: var(--fill-color);\n",
              "    }\n",
              "    80% {\n",
              "      border-color: transparent;\n",
              "      border-right-color: var(--fill-color);\n",
              "      border-bottom-color: var(--fill-color);\n",
              "    }\n",
              "    90% {\n",
              "      border-color: transparent;\n",
              "      border-bottom-color: var(--fill-color);\n",
              "    }\n",
              "  }\n",
              "</style>\n",
              "\n",
              "  <script>\n",
              "    async function quickchart(key) {\n",
              "      const quickchartButtonEl =\n",
              "        document.querySelector('#' + key + ' button');\n",
              "      quickchartButtonEl.disabled = true;  // To prevent multiple clicks.\n",
              "      quickchartButtonEl.classList.add('colab-df-spinner');\n",
              "      try {\n",
              "        const charts = await google.colab.kernel.invokeFunction(\n",
              "            'suggestCharts', [key], {});\n",
              "      } catch (error) {\n",
              "        console.error('Error during call to suggestCharts:', error);\n",
              "      }\n",
              "      quickchartButtonEl.classList.remove('colab-df-spinner');\n",
              "      quickchartButtonEl.classList.add('colab-df-quickchart-complete');\n",
              "    }\n",
              "    (() => {\n",
              "      let quickchartButtonEl =\n",
              "        document.querySelector('#df-07860b01-e5f2-4549-bd4e-0d468b3b5292 button');\n",
              "      quickchartButtonEl.style.display =\n",
              "        google.colab.kernel.accessAllowed ? 'block' : 'none';\n",
              "    })();\n",
              "  </script>\n",
              "</div>\n",
              "\n",
              "    </div>\n",
              "  </div>\n"
            ],
            "application/vnd.google.colaboratory.intrinsic+json": {
              "type": "dataframe",
              "variable_name": "df"
            }
          },
          "metadata": {},
          "execution_count": 5
        }
      ]
    },
    {
      "cell_type": "markdown",
      "source": [
        "# MIDI Feature Extractor"
      ],
      "metadata": {
        "id": "yTD_-A5m3sSK"
      }
    },
    {
      "cell_type": "code",
      "source": [
        "from music21 import *\n",
        "\n",
        "# Load MIDI file\n",
        "midi_file_path = '/content/drive/MyDrive/DS340/Johann Sebastian Bach/Invention 1, BWV 772.mid'\n",
        "midi_stream = converter.parse(midi_file_path)"
      ],
      "metadata": {
        "id": "5CS8gei642YE"
      },
      "execution_count": null,
      "outputs": []
    },
    {
      "cell_type": "code",
      "source": [
        "for event in midi_stream.flat:\n",
        "  print(event)"
      ],
      "metadata": {
        "id": "vZkhT7hv5JJj",
        "outputId": "951a6aa5-0bdf-422c-e4f8-e7eef9d3ad65",
        "colab": {
          "base_uri": "https://localhost:8080/"
        }
      },
      "execution_count": null,
      "outputs": [
        {
          "output_type": "stream",
          "name": "stdout",
          "text": [
            "<music21.metadata.Metadata object at 0x7b6cf03dc220>\n",
            "RH: \n",
            "LH: \n",
            "<music21.clef.TrebleClef>\n",
            "<music21.clef.BassClef>\n",
            "<music21.tempo.MetronomeMark andantino Quarter=80>\n",
            "<music21.tempo.MetronomeMark andantino Quarter=80>\n",
            "G# major\n",
            "G# major\n",
            "<music21.meter.TimeSignature 4/4>\n",
            "<music21.meter.TimeSignature 4/4>\n",
            "<music21.note.Rest 16th>\n",
            "<music21.note.Rest 2.25ql>\n",
            "<music21.note.Note C>\n",
            "<music21.note.Note D>\n",
            "<music21.note.Note E>\n",
            "<music21.note.Note F>\n",
            "<music21.note.Note D>\n",
            "<music21.note.Note E>\n",
            "<music21.note.Note C>\n",
            "<music21.note.Note G>\n",
            "<music21.note.Note C>\n",
            "<music21.note.Note C>\n",
            "<music21.note.Note D>\n",
            "<music21.note.Note E>\n",
            "<music21.note.Note B>\n",
            "<music21.note.Note F>\n",
            "<music21.note.Note D>\n",
            "<music21.note.Note C>\n",
            "<music21.note.Note E>\n",
            "<music21.note.Note C>\n",
            "<music21.note.Note D>\n",
            "<music21.note.Note G>\n",
            "<music21.note.Note G>\n",
            "<music21.note.Note A>\n",
            "<music21.note.Note G>\n",
            "<music21.note.Note B>\n",
            "<music21.note.Note C>\n",
            "<music21.note.Rest 1.25ql>\n",
            "<music21.note.Note A>\n",
            "<music21.note.Note B>\n",
            "<music21.note.Note G>\n",
            "<music21.note.Note D>\n",
            "<music21.note.Note G>\n",
            "<music21.note.Note G>\n",
            "<music21.note.Note A>\n",
            "<music21.note.Note B>\n",
            "<music21.note.Note F>\n",
            "<music21.note.Note C>\n",
            "<music21.note.Note A>\n",
            "<music21.note.Note G>\n",
            "<music21.note.Note B>\n",
            "<music21.note.Note G>\n",
            "<music21.note.Note E>\n",
            "<music21.note.Note C>\n",
            "<music21.note.Note A>\n",
            "<music21.note.Note G>\n",
            "<music21.note.Note B>\n",
            "<music21.note.Note F>\n",
            "<music21.note.Note E>\n",
            "<music21.note.Note C>\n",
            "<music21.note.Note G>\n",
            "<music21.note.Note F>\n",
            "<music21.note.Note D>\n",
            "<music21.note.Note A>\n",
            "<music21.note.Note G>\n",
            "<music21.note.Note E>\n",
            "<music21.note.Note F>\n",
            "<music21.note.Note E>\n",
            "<music21.note.Note G>\n",
            "<music21.note.Note D>\n",
            "<music21.note.Note C>\n",
            "<music21.note.Note A>\n",
            "<music21.note.Note E>\n",
            "<music21.note.Note D>\n",
            "<music21.note.Note B>\n",
            "<music21.note.Note F>\n",
            "<music21.note.Note E>\n",
            "<music21.note.Note C>\n",
            "<music21.note.Note D>\n",
            "<music21.note.Note C>\n",
            "<music21.note.Note E>\n",
            "<music21.note.Note B>\n",
            "<music21.note.Note A>\n",
            "<music21.note.Note F#>\n",
            "<music21.note.Note C>\n",
            "<music21.note.Note B>\n",
            "<music21.note.Note G>\n",
            "<music21.note.Note D>\n",
            "<music21.note.Note C>\n",
            "<music21.note.Note A>\n",
            "<music21.note.Note B>\n",
            "<music21.note.Note A>\n",
            "<music21.note.Note B>\n",
            "<music21.note.Note G>\n",
            "<music21.note.Note F#>\n",
            "<music21.note.Note C>\n",
            "<music21.note.Note A>\n",
            "<music21.note.Note G>\n",
            "<music21.note.Note B>\n",
            "<music21.note.Note A>\n",
            "<music21.note.Rest 16th>\n",
            "<music21.note.Note D>\n",
            "<music21.note.Note D>\n",
            "<music21.note.Note E>\n",
            "<music21.note.Note F#>\n",
            "<music21.note.Note C>\n",
            "<music21.note.Note G>\n",
            "<music21.note.Note E>\n",
            "<music21.note.Note F#>\n",
            "<music21.note.Note D>\n",
            "<music21.note.Note D>\n",
            "<music21.note.Note B>\n",
            "<music21.note.Note G>\n",
            "<music21.note.Note A>\n",
            "<music21.note.Note G>\n",
            "<music21.note.Note B>\n",
            "<music21.note.Note F#>\n",
            "<music21.note.Note E>\n",
            "<music21.note.Note C>\n",
            "<music21.note.Note G>\n",
            "<music21.note.Note F#>\n",
            "<music21.note.Note D>\n",
            "<music21.note.Note A>\n",
            "<music21.note.Note G>\n",
            "<music21.note.Note E>\n",
            "<music21.note.Note B>\n",
            "<music21.note.Note A>\n",
            "<music21.note.Note F#>\n",
            "<music21.note.Note C>\n",
            "<music21.note.Note B>\n",
            "<music21.note.Note G>\n",
            "<music21.note.Note D>\n",
            "<music21.note.Note C>\n",
            "<music21.note.Note E>\n",
            "<music21.note.Note E>\n",
            "<music21.note.Note D>\n",
            "<music21.note.Note B>\n",
            "<music21.chord.Chord B4 C5>\n",
            "<music21.note.Note D>\n",
            "<music21.note.Note G>\n",
            "<music21.note.Note C>\n",
            "<music21.note.Note B>\n",
            "<music21.note.Note D>\n",
            "<music21.note.Note A>\n",
            "<music21.note.Note D>\n",
            "<music21.note.Note G>\n",
            "<music21.note.Note G>\n",
            "<music21.note.Rest 16th>\n",
            "<music21.note.Note G>\n",
            "<music21.note.Note A>\n",
            "<music21.note.Note B>\n",
            "<music21.note.Rest 1.25ql>\n",
            "<music21.note.Note C>\n",
            "<music21.note.Note A>\n",
            "<music21.note.Note B>\n",
            "<music21.note.Note G>\n",
            "<music21.note.Note D>\n",
            "<music21.note.Note G>\n",
            "<music21.note.Note A>\n",
            "<music21.note.Note G>\n",
            "<music21.note.Note B>\n",
            "<music21.note.Note C>\n",
            "<music21.note.Note F#>\n",
            "<music21.note.Note A>\n",
            "<music21.note.Note B>\n",
            "<music21.note.Note G>\n",
            "<music21.note.Note G>\n",
            "<music21.note.Note F#>\n",
            "<music21.note.Note A>\n",
            "<music21.note.Note D>\n",
            "<music21.note.Note E>\n",
            "<music21.note.Note F#>\n",
            "<music21.note.Rest 1.25ql>\n",
            "<music21.note.Note G>\n",
            "<music21.note.Note E>\n",
            "<music21.note.Note F#>\n",
            "<music21.note.Note D>\n",
            "<music21.note.Note A>\n",
            "<music21.note.Note A>\n",
            "<music21.note.Note B>\n",
            "<music21.note.Note D>\n",
            "<music21.note.Note C>\n",
            "<music21.note.Note D>\n",
            "<music21.note.Note C>\n",
            "<music21.note.Note B>\n",
            "<music21.note.Note C>\n",
            "<music21.note.Note D>\n",
            "<music21.note.Note A>\n",
            "<music21.note.Note B>\n",
            "<music21.note.Note G>\n",
            "<music21.note.Note G>\n",
            "<music21.note.Note F>\n",
            "<music21.note.Note E>\n",
            "<music21.note.Rest 1.25ql>\n",
            "<music21.note.Note D>\n",
            "<music21.note.Note F>\n",
            "<music21.note.Note E>\n",
            "<music21.note.Note G>\n",
            "<music21.note.Note F>\n",
            "<music21.note.Note D>\n",
            "<music21.note.Note C>\n",
            "<music21.note.Note E>\n",
            "<music21.note.Note B>\n",
            "<music21.note.Note A>\n",
            "<music21.note.Note F>\n",
            "<music21.note.Note C>\n",
            "<music21.note.Note B>\n",
            "<music21.note.Note D>\n",
            "<music21.note.Note D>\n",
            "<music21.note.Note C>\n",
            "<music21.note.Note E>\n",
            "<music21.note.Note A>\n",
            "<music21.note.Note G>\n",
            "<music21.note.Note F>\n",
            "<music21.note.Rest 1.25ql>\n",
            "<music21.note.Note E>\n",
            "<music21.note.Note G>\n",
            "<music21.note.Note F>\n",
            "<music21.note.Note A>\n",
            "<music21.note.Note G>\n",
            "<music21.note.Note E>\n",
            "<music21.note.Note D>\n",
            "<music21.note.Note F>\n",
            "<music21.note.Note C>\n",
            "<music21.note.Note B>\n",
            "<music21.note.Note G>\n",
            "<music21.note.Note D>\n",
            "<music21.note.Note C#>\n",
            "<music21.note.Note E>\n",
            "<music21.note.Note E>\n",
            "<music21.note.Note D>\n",
            "<music21.note.Note F>\n",
            "<music21.note.Note B->\n",
            "<music21.note.Note C#>\n",
            "<music21.note.Note A>\n",
            "<music21.note.Note G>\n",
            "<music21.note.Note D>\n",
            "<music21.note.Note F>\n",
            "<music21.note.Note A>\n",
            "<music21.note.Note E>\n",
            "<music21.note.Note G>\n",
            "<music21.note.Note B->\n",
            "<music21.note.Note F>\n",
            "<music21.note.Note A>\n",
            "<music21.note.Note G>\n",
            "<music21.note.Note A>\n",
            "<music21.note.Note F>\n",
            "<music21.note.Note E>\n",
            "<music21.note.Note B>\n",
            "<music21.note.Note D>\n",
            "<music21.note.Note F>\n",
            "<music21.note.Note C#>\n",
            "<music21.note.Note E>\n",
            "<music21.note.Note G>\n",
            "<music21.note.Note D>\n",
            "<music21.note.Note F>\n",
            "<music21.note.Note E>\n",
            "<music21.note.Note F#>\n",
            "<music21.note.Note D>\n",
            "<music21.note.Note C>\n",
            "<music21.note.Note G#>\n",
            "<music21.note.Note B>\n",
            "<music21.note.Note D>\n",
            "<music21.note.Note A>\n",
            "<music21.note.Note C>\n",
            "<music21.note.Note E>\n",
            "<music21.note.Note B>\n",
            "<music21.note.Note D>\n",
            "<music21.note.Note C>\n",
            "<music21.note.Note C>\n",
            "<music21.note.Note B>\n",
            "<music21.note.Note A>\n",
            "<music21.note.Note D>\n",
            "<music21.note.Note G#>\n",
            "<music21.note.Note B>\n",
            "<music21.note.Note A>\n",
            "<music21.note.Note C>\n",
            "<music21.note.Rest 16th>\n",
            "<music21.note.Note B>\n",
            "<music21.note.Note E>\n",
            "<music21.note.Note F#>\n",
            "<music21.note.Note E>\n",
            "<music21.note.Note G#>\n",
            "<music21.note.Note A>\n",
            "<music21.note.Note D>\n",
            "<music21.note.Note F#>\n",
            "<music21.note.Note G#>\n",
            "<music21.note.Note E>\n",
            "<music21.note.Note E>\n",
            "<music21.note.Note E>\n",
            "<music21.note.Note C>\n",
            "<music21.note.Note D>\n",
            "<music21.note.Note B>\n",
            "<music21.note.Note C>\n",
            "<music21.note.Note A>\n",
            "<music21.note.Note E>\n",
            "<music21.note.Note G>\n",
            "<music21.note.Note D>\n",
            "<music21.note.Note F#>\n",
            "<music21.note.Note C>\n",
            "<music21.note.Note A>\n",
            "<music21.note.Note B>\n",
            "<music21.note.Note G#>\n",
            "<music21.note.Note D>\n",
            "<music21.note.Note B>\n",
            "<music21.note.Note C>\n",
            "<music21.note.Note A>\n",
            "<music21.note.Note A>\n",
            "<music21.note.Note C>\n",
            "<music21.note.Note G#>\n",
            "<music21.note.Note B>\n",
            "<music21.note.Note B>\n",
            "<music21.note.Note D>\n",
            "<music21.note.Note A>\n",
            "<music21.note.Note C>\n",
            "<music21.note.Note E>\n",
            "<music21.note.Note E>\n",
            "<music21.note.Note F>\n",
            "<music21.note.Note D>\n",
            "<music21.note.Note D>\n",
            "<music21.note.Note F>\n",
            "<music21.note.Note G#>\n",
            "<music21.note.Note E>\n",
            "<music21.note.Note F>\n",
            "<music21.note.Note E>\n",
            "<music21.note.Note A>\n",
            "<music21.note.Note D>\n",
            "<music21.note.Note C>\n",
            "<music21.note.Note E>\n",
            "<music21.note.Note B>\n",
            "<music21.note.Note E>\n",
            "<music21.note.Note A>\n",
            "<music21.note.Note A>\n",
            "<music21.note.Note A>\n",
            "<music21.note.Note A>\n",
            "<music21.note.Note G>\n",
            "<music21.note.Note A>\n",
            "<music21.note.Note F>\n",
            "<music21.note.Note E>\n",
            "<music21.note.Rest 1.25ql>\n",
            "<music21.note.Note G>\n",
            "<music21.note.Note F>\n",
            "<music21.note.Note A>\n",
            "<music21.note.Note G>\n",
            "<music21.note.Note E>\n",
            "<music21.note.Note D>\n",
            "<music21.note.Note C>\n",
            "<music21.note.Note B>\n",
            "<music21.note.Note D>\n",
            "<music21.note.Note C#>\n",
            "<music21.note.Note E>\n",
            "<music21.note.Rest 16th>\n",
            "<music21.note.Note D>\n",
            "<music21.note.Note E>\n",
            "<music21.note.Note F>\n",
            "<music21.note.Note G>\n",
            "<music21.note.Note A>\n",
            "<music21.note.Note F>\n",
            "<music21.note.Note G>\n",
            "<music21.note.Note E>\n",
            "<music21.note.Note F>\n",
            "<music21.note.Rest 16th>\n",
            "<music21.note.Note A>\n",
            "<music21.note.Note B>\n",
            "<music21.note.Note C>\n",
            "<music21.note.Note D>\n",
            "<music21.note.Note B>\n",
            "<music21.note.Note C>\n",
            "<music21.note.Note A>\n",
            "<music21.note.Rest 16th>\n",
            "<music21.note.Note B>\n",
            "<music21.note.Note G>\n",
            "<music21.note.Note F>\n",
            "<music21.note.Note E>\n",
            "<music21.note.Note D>\n",
            "<music21.note.Note F>\n",
            "<music21.note.Note E>\n",
            "<music21.note.Note G>\n",
            "<music21.note.Note F>\n",
            "<music21.note.Rest 16th>\n",
            "<music21.note.Note D>\n",
            "<music21.note.Note C>\n",
            "<music21.note.Note B>\n",
            "<music21.note.Note A>\n",
            "<music21.note.Note C>\n",
            "<music21.note.Note B>\n",
            "<music21.note.Note D>\n",
            "<music21.note.Rest 16th>\n",
            "<music21.note.Note C>\n",
            "<music21.note.Note D>\n",
            "<music21.note.Note E>\n",
            "<music21.note.Note F>\n",
            "<music21.note.Note G>\n",
            "<music21.note.Note E>\n",
            "<music21.note.Note F>\n",
            "<music21.note.Note D>\n",
            "<music21.note.Note E>\n",
            "<music21.note.Rest 16th>\n",
            "<music21.note.Note G>\n",
            "<music21.note.Note A>\n",
            "<music21.note.Note B->\n",
            "<music21.note.Note C>\n",
            "<music21.note.Note A>\n",
            "<music21.note.Note B->\n",
            "<music21.note.Note G>\n",
            "<music21.note.Rest 16th>\n",
            "<music21.note.Note A>\n",
            "<music21.note.Note C>\n",
            "<music21.note.Note D>\n",
            "<music21.note.Note B->\n",
            "<music21.note.Note E>\n",
            "<music21.note.Note F>\n",
            "<music21.note.Note A>\n",
            "<music21.note.Note D>\n",
            "<music21.note.Note E>\n",
            "<music21.note.Note G>\n",
            "<music21.note.Note C>\n",
            "<music21.note.Note D>\n",
            "<music21.note.Note F>\n",
            "<music21.note.Note E>\n",
            "<music21.note.Note F>\n",
            "<music21.note.Note D>\n",
            "<music21.note.Note G>\n",
            "<music21.note.Note A>\n",
            "<music21.note.Note C>\n",
            "<music21.note.Note F>\n",
            "<music21.note.Note G>\n",
            "<music21.note.Note B->\n",
            "<music21.note.Note E>\n",
            "<music21.note.Note F>\n",
            "<music21.note.Note A>\n",
            "<music21.note.Note G>\n",
            "<music21.note.Note A>\n",
            "<music21.note.Note F>\n",
            "<music21.note.Note B>\n",
            "<music21.note.Note C>\n",
            "<music21.note.Note E>\n",
            "<music21.note.Note A>\n",
            "<music21.note.Note B>\n",
            "<music21.note.Note D>\n",
            "<music21.note.Note G>\n",
            "<music21.note.Note C>\n",
            "<music21.note.Note E>\n",
            "<music21.note.Note D>\n",
            "<music21.note.Note G>\n",
            "<music21.note.Note E>\n",
            "<music21.note.Note F>\n",
            "<music21.note.Note E>\n",
            "<music21.note.Note G>\n",
            "<music21.note.Note E>\n",
            "<music21.note.Note D>\n",
            "<music21.note.Note F>\n",
            "<music21.note.Note C>\n",
            "<music21.note.Note D>\n",
            "<music21.note.Note C>\n",
            "<music21.note.Note E>\n",
            "<music21.note.Note B->\n",
            "<music21.note.Note A>\n",
            "<music21.note.Note C>\n",
            "<music21.note.Note G>\n",
            "<music21.note.Note F>\n",
            "<music21.note.Note D>\n",
            "<music21.note.Note A>\n",
            "<music21.note.Note G>\n",
            "<music21.note.Note E>\n",
            "<music21.note.Note B->\n",
            "<music21.note.Note A>\n",
            "<music21.note.Note F>\n",
            "<music21.note.Note B>\n",
            "<music21.note.Note D>\n",
            "<music21.note.Note C>\n",
            "<music21.note.Note E>\n",
            "<music21.note.Note E>\n",
            "<music21.note.Note F>\n",
            "<music21.note.Note D>\n",
            "<music21.note.Note G>\n",
            "<music21.note.Note C>\n",
            "<music21.note.Note F>\n",
            "<music21.note.Note G>\n",
            "<music21.note.Note B>\n",
            "<music21.chord.Chord E4 G4 C5>\n",
            "<music21.chord.Chord C2 C3>\n",
            "<music21.bar.Barline type=final>\n",
            "<music21.bar.Barline type=final>\n"
          ]
        },
        {
          "output_type": "stream",
          "name": "stderr",
          "text": [
            "/usr/local/lib/python3.10/dist-packages/IPython/core/interactiveshell.py:3553: Music21DeprecationWarning: .flat is deprecated.  Call .flatten() instead\n",
            "  exec(code_obj, self.user_global_ns, self.user_ns)\n"
          ]
        }
      ]
    },
    {
      "cell_type": "markdown",
      "source": [
        "## Key Signiature"
      ],
      "metadata": {
        "id": "bwXakPih0wAg"
      }
    },
    {
      "cell_type": "code",
      "source": [
        "def key_signature_extract(midi_stream):\n",
        "  # Extract key signature\n",
        "  key_signature = None\n",
        "  for event in midi_stream.flat.getElementsByClass('KeySignature'):\n",
        "      key_signature = event\n",
        "      break\n",
        "\n",
        "  if key_signature:\n",
        "      return key_signature\n",
        "  else:\n",
        "      print(\"Key signature not found in the MIDI file.\")"
      ],
      "metadata": {
        "id": "xhwNUeEL004A"
      },
      "execution_count": null,
      "outputs": []
    },
    {
      "cell_type": "code",
      "source": [
        "bach_key = key_signature_extract(midi_stream)\n",
        "bach_key"
      ],
      "metadata": {
        "id": "zK6laBv81Ln6",
        "outputId": "14e0629b-1156-4123-b054-33425990a94b",
        "colab": {
          "base_uri": "https://localhost:8080/"
        }
      },
      "execution_count": null,
      "outputs": [
        {
          "output_type": "stream",
          "name": "stderr",
          "text": [
            "/usr/local/lib/python3.10/dist-packages/music21/stream/base.py:3694: Music21DeprecationWarning: .flat is deprecated.  Call .flatten() instead\n",
            "  return self.iter().getElementsByClass(classFilterList)\n"
          ]
        },
        {
          "output_type": "execute_result",
          "data": {
            "text/plain": [
              "<music21.key.Key of G# major>"
            ]
          },
          "metadata": {},
          "execution_count": 8
        }
      ]
    },
    {
      "cell_type": "markdown",
      "source": [
        "## Tempo"
      ],
      "metadata": {
        "id": "CpVJPYSd1iXf"
      }
    },
    {
      "cell_type": "code",
      "source": [
        "# We can see there are multiple tempos throughout a piece\n",
        "for event in midi_stream.flat:\n",
        "    if 'MetronomeMark' in event.classes:\n",
        "      print(event)"
      ],
      "metadata": {
        "colab": {
          "base_uri": "https://localhost:8080/"
        },
        "id": "ffPZeevIE0lt",
        "outputId": "4183674e-6090-48a6-85cf-5a06cd83d2b4"
      },
      "execution_count": null,
      "outputs": [
        {
          "output_type": "stream",
          "name": "stdout",
          "text": [
            "<music21.tempo.MetronomeMark andantino Quarter=80>\n",
            "<music21.tempo.MetronomeMark andantino Quarter=80>\n"
          ]
        }
      ]
    },
    {
      "cell_type": "code",
      "source": [
        "def tempo_extract(midi_stream):\n",
        "  # Extract tempo\n",
        "  tempos = []\n",
        "  tempo_value = 0\n",
        "  for event in midi_stream.flatten():\n",
        "      if 'MetronomeMark' in event.classes:\n",
        "          tempos.append(int(event.number))\n",
        "\n",
        "  if tempos is not None:\n",
        "    num_tempos = len(tempos)\n",
        "    for tempo in tempos:\n",
        "      tempo_value += tempo\n",
        "    return tempo_value/num_tempos\n",
        "\n",
        "  else:\n",
        "      print(\"Tempo information not found in the MIDI file.\")"
      ],
      "metadata": {
        "id": "rxcLXupW_qZl"
      },
      "execution_count": null,
      "outputs": []
    },
    {
      "cell_type": "code",
      "source": [
        "bach_tempo = tempo_extract(midi_stream)\n",
        "bach_tempo"
      ],
      "metadata": {
        "id": "w5Qu9LkT1r1h",
        "outputId": "ea28ea44-3980-40c5-edec-4b3fdaa520fe",
        "colab": {
          "base_uri": "https://localhost:8080/"
        }
      },
      "execution_count": null,
      "outputs": [
        {
          "output_type": "execute_result",
          "data": {
            "text/plain": [
              "80.0"
            ]
          },
          "metadata": {},
          "execution_count": 11
        }
      ]
    },
    {
      "cell_type": "markdown",
      "source": [
        "## Duration (min)"
      ],
      "metadata": {
        "id": "K-BrKW7B2XIv"
      }
    },
    {
      "cell_type": "code",
      "source": [
        "def duration_extract(midi_stream):\n",
        "  # Get total duration of the piece\n",
        "  quarter_lengths = midi_stream.duration.quarterLength\n",
        "  tempo_value = tempo_extract(midi_stream)\n",
        "\n",
        "  duration_min = quarter_lengths/tempo_value\n",
        "  return duration_min"
      ],
      "metadata": {
        "id": "es4D_xRR2aJF"
      },
      "execution_count": null,
      "outputs": []
    },
    {
      "cell_type": "code",
      "source": [
        "bach_duration = duration_extract(midi_stream)\n",
        "bach_duration"
      ],
      "metadata": {
        "colab": {
          "base_uri": "https://localhost:8080/"
        },
        "id": "-ODVnu0VDb0a",
        "outputId": "135a8d6a-05b9-48fa-9495-66f36da46fe1"
      },
      "execution_count": null,
      "outputs": [
        {
          "output_type": "execute_result",
          "data": {
            "text/plain": [
              "1.1"
            ]
          },
          "metadata": {},
          "execution_count": 13
        }
      ]
    },
    {
      "cell_type": "markdown",
      "source": [
        "### Another Example"
      ],
      "metadata": {
        "id": "ZtrgavOP3BTC"
      }
    },
    {
      "cell_type": "code",
      "source": [
        "# Load MIDI file\n",
        "midi_file_path = '/content/drive/MyDrive/DS340/Johann Sebastian Bach/Invention 15.mid'\n",
        "midi_stream = converter.parse(midi_file_path)\n",
        "\n",
        "# Extract key signature\n",
        "bach_key2 = key_signature_extract(midi_stream)\n",
        "bach_tempo2 = tempo_extract(midi_stream)\n",
        "bach_duration2 = duration_extract(midi_stream)\n",
        "\n",
        "bach_key2, bach_tempo2, bach_duration2"
      ],
      "metadata": {
        "colab": {
          "base_uri": "https://localhost:8080/"
        },
        "id": "8HBO1NarD8uw",
        "outputId": "efecc106-2635-478d-cce0-655261aa67c8"
      },
      "execution_count": null,
      "outputs": [
        {
          "output_type": "execute_result",
          "data": {
            "text/plain": [
              "(<music21.key.Key of g# minor>, 105.0, 0.8380952380952381)"
            ]
          },
          "metadata": {},
          "execution_count": 14
        }
      ]
    },
    {
      "cell_type": "code",
      "source": [
        "# installs and imports to convert MIDI into audio\n",
        "!pip install pretty_midi\n",
        "!wget https://www.dropbox.com/s/4x27l49kxcwamp5/GeneralUser_GS_1.471.zip\n",
        "!unzip GeneralUser_GS_1.471.zip\n",
        "!apt install -y fluidsynth\n",
        "from pretty_midi import PrettyMIDI\n",
        "from IPython.display import Audio\n",
        "from scipy.io.wavfile import write\n",
        "import librosa"
      ],
      "metadata": {
        "id": "C5quXpCA32-Q"
      },
      "execution_count": null,
      "outputs": []
    },
    {
      "cell_type": "code",
      "source": [
        "# render the example\n",
        "!fluidsynth -ni GeneralUser\\ GS\\ 1.471/GeneralUser\\ GS\\ v1.471.sf2 \"/content/drive/MyDrive/DS340/Johann Sebastian Bach/Invention 15.mid\" -F example.wav -r 44100\n",
        "\n",
        "# hear the example\n",
        "x,sr=librosa.load('example.wav')\n",
        "Audio(x,rate=sr)"
      ],
      "metadata": {
        "id": "M17iy6Ip4Vhz"
      },
      "execution_count": null,
      "outputs": []
    },
    {
      "cell_type": "markdown",
      "source": [
        "## Mode"
      ],
      "metadata": {
        "id": "ReJwilPk8Zey"
      }
    },
    {
      "cell_type": "code",
      "source": [
        "# Load MIDI file\n",
        "midi_file_path = '/content/drive/MyDrive/DS340/Johann Sebastian Bach/Air in D Major.mid'\n",
        "midi_stream = converter.parse(midi_file_path)\n",
        "\n",
        "# Extract key signature\n",
        "bach_key2 = key_signature_extract(midi_stream)\n",
        "bach_tempo2 = tempo_extract(midi_stream)\n",
        "bach_duration2 = duration_extract(midi_stream)\n",
        "\n",
        "bach_key2, bach_tempo2, bach_duration2"
      ],
      "metadata": {
        "id": "3gejzjkW8zBe",
        "outputId": "a90a7726-07c7-416e-a76a-39ea8254ecdc",
        "colab": {
          "base_uri": "https://localhost:8080/"
        }
      },
      "execution_count": null,
      "outputs": [
        {
          "output_type": "stream",
          "name": "stderr",
          "text": [
            "/usr/local/lib/python3.10/dist-packages/music21/stream/base.py:3694: Music21DeprecationWarning: .flat is deprecated.  Call .flatten() instead\n",
            "  return self.iter().getElementsByClass(classFilterList)\n"
          ]
        },
        {
          "output_type": "execute_result",
          "data": {
            "text/plain": [
              "(<music21.key.Key of D major>, 80.0, 3.6)"
            ]
          },
          "metadata": {},
          "execution_count": 17
        }
      ]
    },
    {
      "cell_type": "code",
      "source": [
        "for event in midi_stream.flatten():\n",
        "  print(event)"
      ],
      "metadata": {
        "id": "BkcCB26k8lyA",
        "outputId": "c8a53672-b4a3-4949-8880-68f3128ee14f",
        "colab": {
          "base_uri": "https://localhost:8080/"
        }
      },
      "execution_count": null,
      "outputs": [
        {
          "output_type": "stream",
          "name": "stdout",
          "text": [
            "<music21.metadata.Metadata object at 0x7b6cdbdf7160>\n",
            "RH: \n",
            "LH: \n",
            "<music21.clef.TrebleClef>\n",
            "<music21.clef.BassClef>\n",
            "<music21.tempo.MetronomeMark andantino Quarter=80>\n",
            "<music21.tempo.MetronomeMark andantino Quarter=80>\n",
            "D major\n",
            "D major\n",
            "<music21.meter.TimeSignature 4/4>\n",
            "<music21.meter.TimeSignature 4/4>\n",
            "<music21.chord.Chord D5 F#5>\n",
            "<music21.note.Note D>\n",
            "<music21.note.Note D>\n",
            "<music21.note.Note C#>\n",
            "<music21.note.Note C#>\n",
            "<music21.note.Rest whole>\n",
            "<music21.note.Note B>\n",
            "<music21.note.Note B>\n",
            "<music21.note.Note A>\n",
            "<music21.note.Note A>\n",
            "<music21.note.Rest quarter>\n",
            "<music21.note.Rest 1.75ql>\n",
            "<music21.note.Note G>\n",
            "<music21.note.Note B>\n",
            "<music21.note.Note G>\n",
            "<music21.note.Note G>\n",
            "<music21.note.Note F#>\n",
            "<music21.note.Rest 1/6ql>\n",
            "<music21.chord.Chord B4 E5>\n",
            "<music21.note.Rest half>\n",
            "<music21.note.Note G#>\n",
            "<music21.note.Note D>\n",
            "<music21.note.Note C#>\n",
            "<music21.note.Note G#>\n",
            "<music21.note.Note D>\n",
            "<music21.chord.Chord A4 C#5>\n",
            "<music21.note.Note A>\n",
            "<music21.note.Note A>\n",
            "<music21.note.Note B>\n",
            "<music21.note.Note G>\n",
            "<music21.note.Note A>\n",
            "<music21.note.Note G>\n",
            "<music21.note.Rest quarter>\n",
            "<music21.note.Note F#>\n",
            "<music21.note.Note C>\n",
            "<music21.note.Note F#>\n",
            "<music21.note.Note B>\n",
            "<music21.note.Note C>\n",
            "<music21.note.Note E>\n",
            "<music21.note.Note A>\n",
            "<music21.note.Note E>\n",
            "<music21.note.Note C>\n",
            "<music21.note.Note B>\n",
            "<music21.note.Note E->\n",
            "<music21.note.Note F#>\n",
            "<music21.note.Note C>\n",
            "<music21.note.Note E->\n",
            "<music21.note.Note B>\n",
            "<music21.note.Note E>\n",
            "<music21.note.Note B>\n",
            "<music21.note.Note E->\n",
            "<music21.note.Note A>\n",
            "<music21.note.Note B>\n",
            "<music21.note.Note G>\n",
            "<music21.note.Note B>\n",
            "<music21.note.Note E>\n",
            "<music21.note.Note E>\n",
            "<music21.note.Note E>\n",
            "<music21.note.Note D>\n",
            "<music21.note.Note E>\n",
            "<music21.note.Note D>\n",
            "<music21.note.Note F#>\n",
            "<music21.note.Note G>\n",
            "<music21.note.Note D>\n",
            "<music21.note.Note E>\n",
            "<music21.note.Note A>\n",
            "<music21.note.Note C#>\n",
            "<music21.note.Note E>\n",
            "<music21.note.Note B>\n",
            "<music21.note.Note C#>\n",
            "<music21.note.Note A>\n",
            "<music21.note.Note D>\n",
            "<music21.note.Note A>\n",
            "<music21.note.Note C#>\n",
            "<music21.note.Note G>\n",
            "<music21.note.Note A>\n",
            "<music21.note.Note F#>\n",
            "<music21.chord.Chord A4 F#5>\n",
            "<music21.note.Note D>\n",
            "<music21.note.Note D>\n",
            "<music21.note.Note C#>\n",
            "<music21.note.Note G#>\n",
            "<music21.note.Note C#>\n",
            "<music21.note.Note A>\n",
            "<music21.note.Note D>\n",
            "<music21.note.Note B>\n",
            "<music21.chord.Chord G#4 D5>\n",
            "<music21.note.Note B>\n",
            "<music21.note.Note E>\n",
            "<music21.note.Note F#>\n",
            "<music21.note.Note B>\n",
            "<music21.note.Note G#>\n",
            "<music21.note.Note E>\n",
            "<music21.chord.Chord G#4 E5>\n",
            "<music21.note.Note E>\n",
            "<music21.note.Note D>\n",
            "<music21.chord.Chord A4 C#5>\n",
            "<music21.note.Note A>\n",
            "<music21.note.Note B>\n",
            "<music21.note.Note B>\n",
            "<music21.note.Note D>\n",
            "<music21.note.Note C#>\n",
            "<music21.note.Note D>\n",
            "<music21.note.Note G#>\n",
            "<music21.note.Note E>\n",
            "<music21.chord.Chord E4 C#5>\n",
            "<music21.note.Note E>\n",
            "<music21.note.Note B>\n",
            "<music21.chord.Chord C#4 A4>\n",
            "<music21.note.Note A>\n",
            "<music21.note.Note B>\n",
            "<music21.note.Note C#>\n",
            "<music21.note.Note D>\n",
            "<music21.note.Note E>\n",
            "<music21.note.Note G>\n",
            "<music21.note.Note F#>\n",
            "<music21.note.Note E>\n",
            "<music21.chord.Chord D5 F#5>\n",
            "<music21.note.Note D>\n",
            "<music21.note.Note D>\n",
            "<music21.note.Note C#>\n",
            "<music21.note.Note C#>\n",
            "<music21.note.Rest whole>\n",
            "<music21.note.Note B>\n",
            "<music21.note.Note B>\n",
            "<music21.note.Note A>\n",
            "<music21.note.Note A>\n",
            "<music21.note.Rest quarter>\n",
            "<music21.note.Rest 1.75ql>\n",
            "<music21.note.Note G>\n",
            "<music21.note.Note B>\n",
            "<music21.note.Note G>\n",
            "<music21.note.Note G>\n",
            "<music21.note.Note F#>\n",
            "<music21.note.Rest 1/6ql>\n",
            "<music21.chord.Chord B4 E5>\n",
            "<music21.note.Rest half>\n",
            "<music21.note.Note G#>\n",
            "<music21.note.Note D>\n",
            "<music21.note.Note C#>\n",
            "<music21.note.Note G#>\n",
            "<music21.note.Note D>\n",
            "<music21.chord.Chord A4 C#5>\n",
            "<music21.note.Note A>\n",
            "<music21.note.Note A>\n",
            "<music21.note.Note B>\n",
            "<music21.note.Note G>\n",
            "<music21.note.Note A>\n",
            "<music21.note.Note G>\n",
            "<music21.note.Rest quarter>\n",
            "<music21.note.Note F#>\n",
            "<music21.note.Note C>\n",
            "<music21.note.Note F#>\n",
            "<music21.note.Note B>\n",
            "<music21.note.Note C>\n",
            "<music21.note.Note E>\n",
            "<music21.note.Note A>\n",
            "<music21.note.Note E>\n",
            "<music21.note.Note C>\n",
            "<music21.note.Note B>\n",
            "<music21.note.Note E->\n",
            "<music21.note.Note F#>\n",
            "<music21.note.Note C>\n",
            "<music21.note.Note E->\n",
            "<music21.note.Note B>\n",
            "<music21.note.Note E>\n",
            "<music21.note.Note B>\n",
            "<music21.note.Note E->\n",
            "<music21.note.Note A>\n",
            "<music21.note.Note B>\n",
            "<music21.note.Note G>\n",
            "<music21.note.Note B>\n",
            "<music21.note.Note E>\n",
            "<music21.note.Note E>\n",
            "<music21.note.Note E>\n",
            "<music21.note.Note D>\n",
            "<music21.note.Note E>\n",
            "<music21.note.Note D>\n",
            "<music21.note.Note F#>\n",
            "<music21.note.Note G>\n",
            "<music21.note.Note D>\n",
            "<music21.note.Note E>\n",
            "<music21.note.Note A>\n",
            "<music21.note.Note C#>\n",
            "<music21.note.Note E>\n",
            "<music21.note.Note B>\n",
            "<music21.note.Note C#>\n",
            "<music21.note.Note A>\n",
            "<music21.note.Note D>\n",
            "<music21.note.Note A>\n",
            "<music21.note.Note C#>\n",
            "<music21.note.Note G>\n",
            "<music21.note.Note A>\n",
            "<music21.note.Note F#>\n",
            "<music21.chord.Chord A4 F#5>\n",
            "<music21.note.Note D>\n",
            "<music21.note.Note D>\n",
            "<music21.note.Note C#>\n",
            "<music21.note.Note G#>\n",
            "<music21.note.Note C#>\n",
            "<music21.note.Note A>\n",
            "<music21.note.Note D>\n",
            "<music21.note.Note B>\n",
            "<music21.chord.Chord G#4 D5>\n",
            "<music21.note.Note B>\n",
            "<music21.note.Note E>\n",
            "<music21.note.Note F#>\n",
            "<music21.note.Note B>\n",
            "<music21.note.Note G#>\n",
            "<music21.note.Note E>\n",
            "<music21.chord.Chord G#4 E5>\n",
            "<music21.note.Note E>\n",
            "<music21.note.Note D>\n",
            "<music21.chord.Chord A4 C#5>\n",
            "<music21.note.Note A>\n",
            "<music21.note.Note B>\n",
            "<music21.note.Note B>\n",
            "<music21.note.Note D>\n",
            "<music21.note.Note C#>\n",
            "<music21.note.Note D>\n",
            "<music21.note.Note G#>\n",
            "<music21.note.Note E>\n",
            "<music21.chord.Chord E4 C#5>\n",
            "<music21.note.Note E>\n",
            "<music21.note.Note B>\n",
            "<music21.chord.Chord C#4 A4>\n",
            "<music21.note.Note A>\n",
            "<music21.chord.Chord E4 C#5>\n",
            "<music21.note.Note A>\n",
            "<music21.note.Note A>\n",
            "<music21.note.Rest quarter>\n",
            "<music21.note.Note G>\n",
            "<music21.note.Note D>\n",
            "<music21.note.Note C#>\n",
            "<music21.note.Note B>\n",
            "<music21.note.Note G>\n",
            "<music21.note.Note C#>\n",
            "<music21.note.Note A>\n",
            "<music21.note.Note A>\n",
            "<music21.note.Note F#>\n",
            "<music21.note.Note B>\n",
            "<music21.chord.Chord E-4 C5>\n",
            "<music21.note.Note F#>\n",
            "<music21.note.Note E>\n",
            "<music21.note.Note F#>\n",
            "<music21.note.Note E>\n",
            "<music21.note.Note B>\n",
            "<music21.note.Note A>\n",
            "<music21.note.Note E>\n",
            "<music21.note.Note G>\n",
            "<music21.chord.Chord F#4 B4>\n",
            "<music21.note.Note E->\n",
            "<music21.note.Note B>\n",
            "<music21.note.Note E->\n",
            "<music21.note.Rest quarter>\n",
            "<music21.note.Note G>\n",
            "<music21.note.Note A>\n",
            "<music21.chord.Chord E-5 G5>\n",
            "<music21.note.Note B>\n",
            "<music21.note.Note F#>\n",
            "<music21.chord.Chord B4 G5>\n",
            "<music21.note.Note E>\n",
            "<music21.note.Note E>\n",
            "<music21.note.Note D>\n",
            "<music21.note.Note F#>\n",
            "<music21.note.Note E>\n",
            "<music21.note.Note D>\n",
            "<music21.note.Note C#>\n",
            "<music21.note.Note D>\n",
            "<music21.note.Note B>\n",
            "<music21.chord.Chord E4 B-4>\n",
            "<music21.note.Note C#>\n",
            "<music21.note.Note B>\n",
            "<music21.note.Note C#>\n",
            "<music21.note.Note C#>\n",
            "<music21.chord.Chord G4 C#5>\n",
            "<music21.note.Note B>\n",
            "<music21.note.Note D>\n",
            "<music21.note.Note E>\n",
            "<music21.note.Note B>\n",
            "<music21.chord.Chord F#4 E5>\n",
            "<music21.note.Note B->\n",
            "<music21.note.Note F#>\n",
            "<music21.chord.Chord C#5 G5>\n",
            "<music21.note.Note B>\n",
            "<music21.note.Note B>\n",
            "<music21.note.Note B->\n",
            "<music21.note.Note C#>\n",
            "<music21.note.Note B>\n",
            "<music21.chord.Chord C#5 F#5>\n",
            "<music21.note.Note B->\n",
            "<music21.chord.Chord F#4 E5>\n",
            "<music21.note.Note B>\n",
            "<music21.note.Note D>\n",
            "<music21.note.Note C#>\n",
            "<music21.note.Note G>\n",
            "<music21.note.Note B>\n",
            "<music21.chord.Chord G4 C#5>\n",
            "<music21.note.Note E>\n",
            "<music21.note.Note D>\n",
            "<music21.note.Note E>\n",
            "<music21.chord.Chord F#4 D5>\n",
            "<music21.note.Note F#>\n",
            "<music21.note.Note E>\n",
            "<music21.chord.Chord E4 B4>\n",
            "<music21.note.Note B>\n",
            "<music21.note.Note D>\n",
            "<music21.note.Note B>\n",
            "<music21.note.Note A>\n",
            "<music21.note.Note A>\n",
            "<music21.note.Rest eighth>\n",
            "<music21.chord.Chord E4 D5>\n",
            "<music21.note.Note G#>\n",
            "<music21.note.Note G#>\n",
            "<music21.note.Rest quarter>\n",
            "<music21.note.Note F#>\n",
            "<music21.note.Note F#>\n",
            "<music21.note.Note E>\n",
            "<music21.note.Note F#>\n",
            "<music21.note.Note D>\n",
            "<music21.note.Note B>\n",
            "<music21.note.Note E>\n",
            "<music21.note.Note E>\n",
            "<music21.note.Note E>\n",
            "<music21.note.Note F#>\n",
            "<music21.note.Note G#>\n",
            "<music21.note.Note D>\n",
            "<music21.note.Note A>\n",
            "<music21.chord.Chord B4 A5>\n",
            "<music21.note.Note D>\n",
            "<music21.note.Note G#>\n",
            "<music21.note.Note F#>\n",
            "<music21.note.Note C#>\n",
            "<music21.note.Note E>\n",
            "<music21.note.Note A>\n",
            "<music21.note.Note A>\n",
            "<music21.note.Note C#>\n",
            "<music21.note.Note B>\n",
            "<music21.note.Note D>\n",
            "<music21.note.Note G#>\n",
            "<music21.note.Note E>\n",
            "<music21.note.Note C#>\n",
            "<music21.note.Note D>\n",
            "<music21.note.Note C#>\n",
            "<music21.note.Note A>\n",
            "<music21.note.Note A>\n",
            "<music21.note.Note B>\n",
            "<music21.note.Note A>\n",
            "<music21.note.Note G>\n",
            "<music21.note.Note G>\n",
            "<music21.note.Note D>\n",
            "<music21.note.Note F#>\n",
            "<music21.note.Note B>\n",
            "<music21.note.Note F#>\n",
            "<music21.note.Note C>\n",
            "<music21.note.Note B>\n",
            "<music21.note.Note G>\n",
            "<music21.note.Note C#>\n",
            "<music21.chord.Chord D5 F#5>\n",
            "<music21.note.Note G>\n",
            "<music21.note.Note E>\n",
            "<music21.note.Note E>\n",
            "<music21.note.Note G#>\n",
            "<music21.note.Note C#>\n",
            "<music21.note.Note G#>\n",
            "<music21.note.Note B>\n",
            "<music21.note.Note C#>\n",
            "<music21.note.Note A>\n",
            "<music21.note.Note E->\n",
            "<music21.chord.Chord E5 G5>\n",
            "<music21.note.Note A>\n",
            "<music21.note.Note F#>\n",
            "<music21.note.Note F#>\n",
            "<music21.note.Note B->\n",
            "<music21.note.Note E->\n",
            "<music21.note.Note B->\n",
            "<music21.note.Note C#>\n",
            "<music21.note.Note E->\n",
            "<music21.note.Note B>\n",
            "<music21.note.Note E>\n",
            "<music21.chord.Chord F#5 A5>\n",
            "<music21.note.Note B>\n",
            "<music21.note.Note G>\n",
            "<music21.note.Note G>\n",
            "<music21.note.Note E>\n",
            "<music21.note.Note E->\n",
            "<music21.note.Note E>\n",
            "<music21.note.Note E>\n",
            "<music21.note.Note B>\n",
            "<music21.note.Note E>\n",
            "<music21.note.Note D>\n",
            "<music21.note.Note D>\n",
            "<music21.note.Note A>\n",
            "<music21.note.Note C#>\n",
            "<music21.note.Note C#>\n",
            "<music21.note.Note E>\n",
            "<music21.note.Note C#>\n",
            "<music21.note.Note A>\n",
            "<music21.note.Note C#>\n",
            "<music21.note.Note A>\n",
            "<music21.note.Note C#>\n",
            "<music21.chord.Chord A4 E5>\n",
            "<music21.note.Note C#>\n",
            "<music21.note.Note G>\n",
            "<music21.note.Note G>\n",
            "<music21.note.Note D>\n",
            "<music21.note.Note E>\n",
            "<music21.chord.Chord C#5 F#5>\n",
            "<music21.note.Note D>\n",
            "<music21.note.Note D>\n",
            "<music21.note.Note D>\n",
            "<music21.note.Note C>\n",
            "<music21.note.Note C>\n",
            "<music21.note.Note G>\n",
            "<music21.note.Note A>\n",
            "<music21.note.Note D>\n",
            "<music21.note.Note B>\n",
            "<music21.note.Note E>\n",
            "<music21.note.Note B>\n",
            "<music21.note.Note F#>\n",
            "<music21.note.Note A>\n",
            "<music21.note.Note F#>\n",
            "<music21.note.Note A>\n",
            "<music21.note.Note A>\n",
            "<music21.note.Note C>\n",
            "<music21.chord.Chord D5 B5>\n",
            "<music21.note.Note G>\n",
            "<music21.note.Note G>\n",
            "<music21.note.Note F#>\n",
            "<music21.note.Note D>\n",
            "<music21.note.Note F#>\n",
            "<music21.chord.Chord G4 C#5>\n",
            "<music21.note.Note E>\n",
            "<music21.note.Note E>\n",
            "<music21.note.Note G>\n",
            "<music21.note.Note E>\n",
            "<music21.note.Note E>\n",
            "<music21.note.Note D>\n",
            "<music21.note.Note B>\n",
            "<music21.note.Note D>\n",
            "<music21.note.Note A>\n",
            "<music21.note.Note C#>\n",
            "<music21.note.Note D>\n",
            "<music21.note.Note E>\n",
            "<music21.note.Note A>\n",
            "<music21.note.Note F#>\n",
            "<music21.note.Note G>\n",
            "<music21.note.Rest eighth>\n",
            "<music21.note.Note D>\n",
            "<music21.note.Note F#>\n",
            "<music21.note.Note B>\n",
            "<music21.note.Note G>\n",
            "<music21.note.Note E>\n",
            "<music21.chord.Chord A4 D5>\n",
            "<music21.note.Note A>\n",
            "<music21.note.Note C#>\n",
            "<music21.note.Note B>\n",
            "<music21.note.Rest eighth>\n",
            "<music21.note.Note G>\n",
            "<music21.note.Note C#>\n",
            "<music21.chord.Chord G4 D5>\n",
            "<music21.note.Note A>\n",
            "<music21.note.Note F#>\n",
            "<music21.chord.Chord G4 C#5>\n",
            "<music21.note.Note A>\n",
            "<music21.note.Note D>\n",
            "<music21.chord.Chord D4 F#4 D5>\n",
            "<music21.note.Note D>\n",
            "<music21.chord.Chord E4 C#5>\n",
            "<music21.note.Note A>\n",
            "<music21.note.Note A>\n",
            "<music21.note.Rest quarter>\n",
            "<music21.note.Note G>\n",
            "<music21.note.Note D>\n",
            "<music21.note.Note C#>\n",
            "<music21.note.Note B>\n",
            "<music21.note.Note G>\n",
            "<music21.note.Note C#>\n",
            "<music21.note.Note A>\n",
            "<music21.note.Note A>\n",
            "<music21.note.Note F#>\n",
            "<music21.note.Note B>\n",
            "<music21.chord.Chord E-4 C5>\n",
            "<music21.note.Note F#>\n",
            "<music21.note.Note E>\n",
            "<music21.note.Note F#>\n",
            "<music21.note.Note E>\n",
            "<music21.note.Note B>\n",
            "<music21.note.Note A>\n",
            "<music21.note.Note E>\n",
            "<music21.note.Note G>\n",
            "<music21.chord.Chord F#4 B4>\n",
            "<music21.note.Note E->\n",
            "<music21.note.Note B>\n",
            "<music21.note.Note E->\n",
            "<music21.note.Rest eighth>\n",
            "<music21.note.Note G>\n",
            "<music21.note.Note A>\n",
            "<music21.chord.Chord E-5 G5>\n",
            "<music21.note.Note B>\n",
            "<music21.note.Note F#>\n",
            "<music21.chord.Chord B4 G5>\n",
            "<music21.note.Note E>\n",
            "<music21.note.Note E>\n",
            "<music21.note.Note D>\n",
            "<music21.note.Note F#>\n",
            "<music21.note.Note E>\n",
            "<music21.note.Note D>\n",
            "<music21.note.Note C#>\n",
            "<music21.note.Note D>\n",
            "<music21.note.Note B>\n",
            "<music21.chord.Chord E4 B-4>\n",
            "<music21.note.Note C#>\n",
            "<music21.note.Note B>\n",
            "<music21.note.Note C#>\n",
            "<music21.note.Note C#>\n",
            "<music21.chord.Chord G4 C#5>\n",
            "<music21.note.Note B>\n",
            "<music21.note.Note D>\n",
            "<music21.note.Note E>\n",
            "<music21.note.Note B>\n",
            "<music21.chord.Chord F#4 E5>\n",
            "<music21.note.Note B->\n",
            "<music21.note.Note F#>\n",
            "<music21.chord.Chord C#5 G5>\n",
            "<music21.note.Note B>\n",
            "<music21.note.Note B>\n",
            "<music21.note.Note B->\n",
            "<music21.note.Note C#>\n",
            "<music21.note.Note B>\n",
            "<music21.chord.Chord C#5 F#5>\n",
            "<music21.note.Note B->\n",
            "<music21.chord.Chord F#4 E5>\n",
            "<music21.note.Note B>\n",
            "<music21.note.Note D>\n",
            "<music21.note.Note C#>\n",
            "<music21.note.Note G>\n",
            "<music21.note.Note B>\n",
            "<music21.chord.Chord G4 C#5>\n",
            "<music21.note.Note E>\n",
            "<music21.note.Note D>\n",
            "<music21.note.Note E>\n",
            "<music21.chord.Chord F#4 D5>\n",
            "<music21.note.Note F#>\n",
            "<music21.note.Note E>\n",
            "<music21.chord.Chord E4 B4>\n",
            "<music21.note.Note B>\n",
            "<music21.note.Note D>\n",
            "<music21.note.Rest dotted-half>\n",
            "<music21.note.Note B>\n",
            "<music21.note.Note A>\n",
            "<music21.note.Note A>\n",
            "<music21.chord.Chord E4 D5>\n",
            "<music21.note.Note G#>\n",
            "<music21.note.Note G#>\n",
            "<music21.note.Rest eighth>\n",
            "<music21.note.Note F#>\n",
            "<music21.note.Note F#>\n",
            "<music21.note.Note E>\n",
            "<music21.note.Note F#>\n",
            "<music21.note.Note D>\n",
            "<music21.note.Note B>\n",
            "<music21.note.Note E>\n",
            "<music21.note.Note E>\n",
            "<music21.note.Note E>\n",
            "<music21.note.Note F#>\n",
            "<music21.note.Note G#>\n",
            "<music21.note.Note D>\n",
            "<music21.note.Note A>\n",
            "<music21.chord.Chord B4 A5>\n",
            "<music21.note.Note D>\n",
            "<music21.note.Note G#>\n",
            "<music21.note.Note F#>\n",
            "<music21.note.Note C#>\n",
            "<music21.note.Note E>\n",
            "<music21.note.Note A>\n",
            "<music21.note.Note A>\n",
            "<music21.note.Note C#>\n",
            "<music21.note.Note B>\n",
            "<music21.note.Note D>\n",
            "<music21.note.Note G#>\n",
            "<music21.note.Note E>\n",
            "<music21.note.Note C#>\n",
            "<music21.note.Note D>\n",
            "<music21.note.Note C#>\n",
            "<music21.note.Note A>\n",
            "<music21.note.Note A>\n",
            "<music21.note.Note B>\n",
            "<music21.note.Note A>\n",
            "<music21.note.Note G>\n",
            "<music21.note.Note G>\n",
            "<music21.note.Note D>\n",
            "<music21.note.Note F#>\n",
            "<music21.note.Note B>\n",
            "<music21.note.Note F#>\n",
            "<music21.note.Note C>\n",
            "<music21.note.Note B>\n",
            "<music21.note.Note G>\n",
            "<music21.note.Note C#>\n",
            "<music21.chord.Chord D5 F#5>\n",
            "<music21.note.Note G>\n",
            "<music21.note.Note E>\n",
            "<music21.note.Note E>\n",
            "<music21.note.Note G#>\n",
            "<music21.note.Note C#>\n",
            "<music21.note.Note G#>\n",
            "<music21.note.Note B>\n",
            "<music21.note.Note C#>\n",
            "<music21.note.Note A>\n",
            "<music21.note.Note E->\n",
            "<music21.chord.Chord E5 G5>\n",
            "<music21.note.Note A>\n",
            "<music21.note.Note F#>\n",
            "<music21.note.Note F#>\n",
            "<music21.note.Note B->\n",
            "<music21.note.Note E->\n",
            "<music21.note.Note B->\n",
            "<music21.note.Note C#>\n",
            "<music21.note.Note E->\n",
            "<music21.note.Note B>\n",
            "<music21.note.Note E>\n",
            "<music21.chord.Chord F#5 A5>\n",
            "<music21.note.Note B>\n",
            "<music21.note.Note G>\n",
            "<music21.note.Note G>\n",
            "<music21.note.Note E>\n",
            "<music21.note.Note E->\n",
            "<music21.note.Note E>\n",
            "<music21.note.Note E>\n",
            "<music21.note.Note B>\n",
            "<music21.note.Note E>\n",
            "<music21.note.Note D>\n",
            "<music21.note.Note D>\n",
            "<music21.note.Note A>\n",
            "<music21.note.Note C#>\n",
            "<music21.note.Note C#>\n",
            "<music21.note.Note E>\n",
            "<music21.note.Note C#>\n",
            "<music21.note.Note A>\n",
            "<music21.note.Note C#>\n",
            "<music21.note.Note A>\n",
            "<music21.note.Note C#>\n",
            "<music21.chord.Chord A4 E5>\n",
            "<music21.note.Note C#>\n",
            "<music21.note.Note G>\n",
            "<music21.note.Note G>\n",
            "<music21.note.Note D>\n",
            "<music21.note.Note E>\n",
            "<music21.chord.Chord C#5 F#5>\n",
            "<music21.note.Note D>\n",
            "<music21.note.Note D>\n",
            "<music21.note.Note D>\n",
            "<music21.note.Note C>\n",
            "<music21.note.Note C>\n",
            "<music21.note.Note G>\n",
            "<music21.note.Note A>\n",
            "<music21.note.Note D>\n",
            "<music21.note.Note B>\n",
            "<music21.note.Note E>\n",
            "<music21.note.Note B>\n",
            "<music21.note.Note F#>\n",
            "<music21.note.Note A>\n",
            "<music21.note.Note F#>\n",
            "<music21.note.Note A>\n",
            "<music21.note.Note A>\n",
            "<music21.note.Note C>\n",
            "<music21.chord.Chord D5 B5>\n",
            "<music21.note.Note G>\n",
            "<music21.note.Note G>\n",
            "<music21.note.Note F#>\n",
            "<music21.note.Note D>\n",
            "<music21.note.Note F#>\n",
            "<music21.chord.Chord G4 C#5>\n",
            "<music21.note.Note E>\n",
            "<music21.note.Note E>\n",
            "<music21.note.Note G>\n",
            "<music21.note.Note E>\n",
            "<music21.note.Note E>\n",
            "<music21.note.Note D>\n",
            "<music21.note.Note B>\n",
            "<music21.note.Note D>\n",
            "<music21.note.Note A>\n",
            "<music21.note.Note C#>\n",
            "<music21.note.Note D>\n",
            "<music21.note.Note E>\n",
            "<music21.note.Note A>\n",
            "<music21.note.Note F#>\n",
            "<music21.note.Note G>\n",
            "<music21.note.Rest eighth>\n",
            "<music21.note.Note D>\n",
            "<music21.note.Note F#>\n",
            "<music21.note.Note B>\n",
            "<music21.note.Note G>\n",
            "<music21.note.Note E>\n",
            "<music21.chord.Chord A4 D5>\n",
            "<music21.note.Note A>\n",
            "<music21.note.Note C#>\n",
            "<music21.note.Note B>\n",
            "<music21.note.Rest eighth>\n",
            "<music21.note.Note G>\n",
            "<music21.note.Note C#>\n",
            "<music21.chord.Chord G4 D5>\n",
            "<music21.note.Note A>\n",
            "<music21.note.Note F#>\n",
            "<music21.chord.Chord G4 C#5>\n",
            "<music21.note.Note A>\n",
            "<music21.note.Note D>\n",
            "<music21.chord.Chord D4 F#4 D5>\n",
            "<music21.note.Note D>\n",
            "<music21.bar.Barline type=final>\n",
            "<music21.bar.Barline type=final>\n"
          ]
        }
      ]
    },
    {
      "cell_type": "code",
      "source": [
        "# Understand how many major and minor chords in piece\n",
        "\n",
        "# Extract chords from the MIDI file\n",
        "chords = midi_stream.chordify()\n",
        "\n",
        "# Initialize counters for major and minor chords\n",
        "major_chords_count = 0\n",
        "minor_chords_count = 0\n",
        "\n",
        "# Iterate through chords and count major and minor chords\n",
        "for chord in chords.recurse().getElementsByClass('Chord'):\n",
        "    if chord.isMajorTriad():\n",
        "        major_chords_count += 1\n",
        "    elif chord.isMinorTriad():\n",
        "        minor_chords_count += 1\n",
        "\n",
        "# Print the counts\n",
        "print(\"Major chords count:\", major_chords_count)\n",
        "print(\"Minor chords count:\", minor_chords_count)"
      ],
      "metadata": {
        "id": "H-bXGlz6E5W5",
        "outputId": "ee0623ee-6784-4055-db27-8e192be61b19",
        "colab": {
          "base_uri": "https://localhost:8080/"
        }
      },
      "execution_count": null,
      "outputs": [
        {
          "output_type": "stream",
          "name": "stdout",
          "text": [
            "Major chords count: 16\n",
            "Minor chords count: 5\n"
          ]
        }
      ]
    },
    {
      "cell_type": "code",
      "source": [
        "def mode_extract(midi_stream):\n",
        "  # key_val = 0\n",
        "  major_chords_count = 0\n",
        "  minor_chords_count = 0\n",
        "\n",
        "  # key = key_signature_extract(midi_stream)\n",
        "  # if str(key).contains('major'):\n",
        "  #   key_val = 1\n",
        "\n",
        "  for chord in chords.recurse().getElementsByClass('Chord'):\n",
        "    if chord.isMajorTriad():\n",
        "        major_chords_count += 1\n",
        "    elif chord.isMinorTriad():\n",
        "        minor_chords_count += 1\n",
        "\n",
        "  # Catch division by zero\n",
        "  if major_chords_count > 0:\n",
        "    if minor_chords_count == 0:\n",
        "      mode = 1\n",
        "      return mode\n",
        "    else:\n",
        "      mode = major_chords_count/(major_chords_count+minor_chords_count)\n",
        "    return mode\n",
        "  return 0"
      ],
      "metadata": {
        "id": "swkhu8Qy8YS5"
      },
      "execution_count": null,
      "outputs": []
    },
    {
      "cell_type": "code",
      "source": [
        "bach_mode = mode_extract(midi_stream)\n",
        "bach_mode"
      ],
      "metadata": {
        "id": "_D8Bt8lk8YVF",
        "outputId": "887cf763-ea95-415c-e950-cb70eea4cda6",
        "colab": {
          "base_uri": "https://localhost:8080/"
        }
      },
      "execution_count": null,
      "outputs": [
        {
          "output_type": "execute_result",
          "data": {
            "text/plain": [
              "0.7619047619047619"
            ]
          },
          "metadata": {},
          "execution_count": 22
        }
      ]
    },
    {
      "cell_type": "code",
      "source": [],
      "metadata": {
        "id": "4xMN5ORa8YXR"
      },
      "execution_count": null,
      "outputs": []
    },
    {
      "cell_type": "code",
      "source": [],
      "metadata": {
        "id": "rcUKJIT28YZo"
      },
      "execution_count": null,
      "outputs": []
    },
    {
      "cell_type": "code",
      "source": [],
      "metadata": {
        "id": "bvtQoNDT8Yb5"
      },
      "execution_count": null,
      "outputs": []
    },
    {
      "cell_type": "code",
      "source": [],
      "metadata": {
        "id": "j_EdM81k8YeH"
      },
      "execution_count": null,
      "outputs": []
    },
    {
      "cell_type": "markdown",
      "source": [
        "# EDA"
      ],
      "metadata": {
        "id": "Z_O0xIkj3xRs"
      }
    },
    {
      "cell_type": "code",
      "source": [
        "df.describe(include='all')"
      ],
      "metadata": {
        "id": "4bTzIPah3zMA",
        "outputId": "0d04e967-23fd-4b5a-f9ef-dbde7976df54",
        "colab": {
          "base_uri": "https://localhost:8080/",
          "height": 431
        }
      },
      "execution_count": null,
      "outputs": [
        {
          "output_type": "execute_result",
          "data": {
            "text/plain": [
              "              valence           year   acousticness               artists  \\\n",
              "count   170653.000000  170653.000000  170653.000000                170653   \n",
              "unique            NaN            NaN            NaN                 34088   \n",
              "top               NaN            NaN            NaN  ['Эрнест Хемингуэй']   \n",
              "freq              NaN            NaN            NaN                  1211   \n",
              "mean         0.528587    1976.787241       0.502115                   NaN   \n",
              "std          0.263171      25.917853       0.376032                   NaN   \n",
              "min          0.000000    1921.000000       0.000000                   NaN   \n",
              "25%          0.317000    1956.000000       0.102000                   NaN   \n",
              "50%          0.540000    1977.000000       0.516000                   NaN   \n",
              "75%          0.747000    1999.000000       0.893000                   NaN   \n",
              "max          1.000000    2020.000000       0.996000                   NaN   \n",
              "\n",
              "         danceability   duration_ms         energy       explicit  \\\n",
              "count   170653.000000  1.706530e+05  170653.000000  170653.000000   \n",
              "unique            NaN           NaN            NaN            NaN   \n",
              "top               NaN           NaN            NaN            NaN   \n",
              "freq              NaN           NaN            NaN            NaN   \n",
              "mean         0.537396  2.309483e+05       0.482389       0.084575   \n",
              "std          0.176138  1.261184e+05       0.267646       0.278249   \n",
              "min          0.000000  5.108000e+03       0.000000       0.000000   \n",
              "25%          0.415000  1.698270e+05       0.255000       0.000000   \n",
              "50%          0.548000  2.074670e+05       0.471000       0.000000   \n",
              "75%          0.668000  2.624000e+05       0.703000       0.000000   \n",
              "max          0.988000  5.403500e+06       1.000000       1.000000   \n",
              "\n",
              "                            id  instrumentalness            key  \\\n",
              "count                   170653     170653.000000  170653.000000   \n",
              "unique                  170653               NaN            NaN   \n",
              "top     4BJqT0PrAfrxzMOxytFOIz               NaN            NaN   \n",
              "freq                         1               NaN            NaN   \n",
              "mean                       NaN          0.167010       5.199844   \n",
              "std                        NaN          0.313475       3.515094   \n",
              "min                        NaN          0.000000       0.000000   \n",
              "25%                        NaN          0.000000       2.000000   \n",
              "50%                        NaN          0.000216       5.000000   \n",
              "75%                        NaN          0.102000       8.000000   \n",
              "max                        NaN          1.000000      11.000000   \n",
              "\n",
              "             liveness       loudness           mode             name  \\\n",
              "count   170653.000000  170653.000000  170653.000000           170653   \n",
              "unique            NaN            NaN            NaN           133638   \n",
              "top               NaN            NaN            NaN  White Christmas   \n",
              "freq              NaN            NaN            NaN               73   \n",
              "mean         0.205839     -11.467990       0.706902              NaN   \n",
              "std          0.174805       5.697943       0.455184              NaN   \n",
              "min          0.000000     -60.000000       0.000000              NaN   \n",
              "25%          0.098800     -14.615000       0.000000              NaN   \n",
              "50%          0.136000     -10.580000       1.000000              NaN   \n",
              "75%          0.261000      -7.183000       1.000000              NaN   \n",
              "max          1.000000       3.855000       1.000000              NaN   \n",
              "\n",
              "           popularity release_date    speechiness          tempo  \n",
              "count   170653.000000       170653  170653.000000  170653.000000  \n",
              "unique            NaN        11244            NaN            NaN  \n",
              "top               NaN         1945            NaN            NaN  \n",
              "freq              NaN         1446            NaN            NaN  \n",
              "mean        31.431794          NaN       0.098393     116.861590  \n",
              "std         21.826615          NaN       0.162740      30.708533  \n",
              "min          0.000000          NaN       0.000000       0.000000  \n",
              "25%         11.000000          NaN       0.034900      93.421000  \n",
              "50%         33.000000          NaN       0.045000     114.729000  \n",
              "75%         48.000000          NaN       0.075600     135.537000  \n",
              "max        100.000000          NaN       0.970000     243.507000  "
            ],
            "text/html": [
              "\n",
              "  <div id=\"df-a0fc8d0d-f90c-4270-9c02-0bf48800a679\" class=\"colab-df-container\">\n",
              "    <div>\n",
              "<style scoped>\n",
              "    .dataframe tbody tr th:only-of-type {\n",
              "        vertical-align: middle;\n",
              "    }\n",
              "\n",
              "    .dataframe tbody tr th {\n",
              "        vertical-align: top;\n",
              "    }\n",
              "\n",
              "    .dataframe thead th {\n",
              "        text-align: right;\n",
              "    }\n",
              "</style>\n",
              "<table border=\"1\" class=\"dataframe\">\n",
              "  <thead>\n",
              "    <tr style=\"text-align: right;\">\n",
              "      <th></th>\n",
              "      <th>valence</th>\n",
              "      <th>year</th>\n",
              "      <th>acousticness</th>\n",
              "      <th>artists</th>\n",
              "      <th>danceability</th>\n",
              "      <th>duration_ms</th>\n",
              "      <th>energy</th>\n",
              "      <th>explicit</th>\n",
              "      <th>id</th>\n",
              "      <th>instrumentalness</th>\n",
              "      <th>key</th>\n",
              "      <th>liveness</th>\n",
              "      <th>loudness</th>\n",
              "      <th>mode</th>\n",
              "      <th>name</th>\n",
              "      <th>popularity</th>\n",
              "      <th>release_date</th>\n",
              "      <th>speechiness</th>\n",
              "      <th>tempo</th>\n",
              "    </tr>\n",
              "  </thead>\n",
              "  <tbody>\n",
              "    <tr>\n",
              "      <th>count</th>\n",
              "      <td>170653.000000</td>\n",
              "      <td>170653.000000</td>\n",
              "      <td>170653.000000</td>\n",
              "      <td>170653</td>\n",
              "      <td>170653.000000</td>\n",
              "      <td>1.706530e+05</td>\n",
              "      <td>170653.000000</td>\n",
              "      <td>170653.000000</td>\n",
              "      <td>170653</td>\n",
              "      <td>170653.000000</td>\n",
              "      <td>170653.000000</td>\n",
              "      <td>170653.000000</td>\n",
              "      <td>170653.000000</td>\n",
              "      <td>170653.000000</td>\n",
              "      <td>170653</td>\n",
              "      <td>170653.000000</td>\n",
              "      <td>170653</td>\n",
              "      <td>170653.000000</td>\n",
              "      <td>170653.000000</td>\n",
              "    </tr>\n",
              "    <tr>\n",
              "      <th>unique</th>\n",
              "      <td>NaN</td>\n",
              "      <td>NaN</td>\n",
              "      <td>NaN</td>\n",
              "      <td>34088</td>\n",
              "      <td>NaN</td>\n",
              "      <td>NaN</td>\n",
              "      <td>NaN</td>\n",
              "      <td>NaN</td>\n",
              "      <td>170653</td>\n",
              "      <td>NaN</td>\n",
              "      <td>NaN</td>\n",
              "      <td>NaN</td>\n",
              "      <td>NaN</td>\n",
              "      <td>NaN</td>\n",
              "      <td>133638</td>\n",
              "      <td>NaN</td>\n",
              "      <td>11244</td>\n",
              "      <td>NaN</td>\n",
              "      <td>NaN</td>\n",
              "    </tr>\n",
              "    <tr>\n",
              "      <th>top</th>\n",
              "      <td>NaN</td>\n",
              "      <td>NaN</td>\n",
              "      <td>NaN</td>\n",
              "      <td>['Эрнест Хемингуэй']</td>\n",
              "      <td>NaN</td>\n",
              "      <td>NaN</td>\n",
              "      <td>NaN</td>\n",
              "      <td>NaN</td>\n",
              "      <td>4BJqT0PrAfrxzMOxytFOIz</td>\n",
              "      <td>NaN</td>\n",
              "      <td>NaN</td>\n",
              "      <td>NaN</td>\n",
              "      <td>NaN</td>\n",
              "      <td>NaN</td>\n",
              "      <td>White Christmas</td>\n",
              "      <td>NaN</td>\n",
              "      <td>1945</td>\n",
              "      <td>NaN</td>\n",
              "      <td>NaN</td>\n",
              "    </tr>\n",
              "    <tr>\n",
              "      <th>freq</th>\n",
              "      <td>NaN</td>\n",
              "      <td>NaN</td>\n",
              "      <td>NaN</td>\n",
              "      <td>1211</td>\n",
              "      <td>NaN</td>\n",
              "      <td>NaN</td>\n",
              "      <td>NaN</td>\n",
              "      <td>NaN</td>\n",
              "      <td>1</td>\n",
              "      <td>NaN</td>\n",
              "      <td>NaN</td>\n",
              "      <td>NaN</td>\n",
              "      <td>NaN</td>\n",
              "      <td>NaN</td>\n",
              "      <td>73</td>\n",
              "      <td>NaN</td>\n",
              "      <td>1446</td>\n",
              "      <td>NaN</td>\n",
              "      <td>NaN</td>\n",
              "    </tr>\n",
              "    <tr>\n",
              "      <th>mean</th>\n",
              "      <td>0.528587</td>\n",
              "      <td>1976.787241</td>\n",
              "      <td>0.502115</td>\n",
              "      <td>NaN</td>\n",
              "      <td>0.537396</td>\n",
              "      <td>2.309483e+05</td>\n",
              "      <td>0.482389</td>\n",
              "      <td>0.084575</td>\n",
              "      <td>NaN</td>\n",
              "      <td>0.167010</td>\n",
              "      <td>5.199844</td>\n",
              "      <td>0.205839</td>\n",
              "      <td>-11.467990</td>\n",
              "      <td>0.706902</td>\n",
              "      <td>NaN</td>\n",
              "      <td>31.431794</td>\n",
              "      <td>NaN</td>\n",
              "      <td>0.098393</td>\n",
              "      <td>116.861590</td>\n",
              "    </tr>\n",
              "    <tr>\n",
              "      <th>std</th>\n",
              "      <td>0.263171</td>\n",
              "      <td>25.917853</td>\n",
              "      <td>0.376032</td>\n",
              "      <td>NaN</td>\n",
              "      <td>0.176138</td>\n",
              "      <td>1.261184e+05</td>\n",
              "      <td>0.267646</td>\n",
              "      <td>0.278249</td>\n",
              "      <td>NaN</td>\n",
              "      <td>0.313475</td>\n",
              "      <td>3.515094</td>\n",
              "      <td>0.174805</td>\n",
              "      <td>5.697943</td>\n",
              "      <td>0.455184</td>\n",
              "      <td>NaN</td>\n",
              "      <td>21.826615</td>\n",
              "      <td>NaN</td>\n",
              "      <td>0.162740</td>\n",
              "      <td>30.708533</td>\n",
              "    </tr>\n",
              "    <tr>\n",
              "      <th>min</th>\n",
              "      <td>0.000000</td>\n",
              "      <td>1921.000000</td>\n",
              "      <td>0.000000</td>\n",
              "      <td>NaN</td>\n",
              "      <td>0.000000</td>\n",
              "      <td>5.108000e+03</td>\n",
              "      <td>0.000000</td>\n",
              "      <td>0.000000</td>\n",
              "      <td>NaN</td>\n",
              "      <td>0.000000</td>\n",
              "      <td>0.000000</td>\n",
              "      <td>0.000000</td>\n",
              "      <td>-60.000000</td>\n",
              "      <td>0.000000</td>\n",
              "      <td>NaN</td>\n",
              "      <td>0.000000</td>\n",
              "      <td>NaN</td>\n",
              "      <td>0.000000</td>\n",
              "      <td>0.000000</td>\n",
              "    </tr>\n",
              "    <tr>\n",
              "      <th>25%</th>\n",
              "      <td>0.317000</td>\n",
              "      <td>1956.000000</td>\n",
              "      <td>0.102000</td>\n",
              "      <td>NaN</td>\n",
              "      <td>0.415000</td>\n",
              "      <td>1.698270e+05</td>\n",
              "      <td>0.255000</td>\n",
              "      <td>0.000000</td>\n",
              "      <td>NaN</td>\n",
              "      <td>0.000000</td>\n",
              "      <td>2.000000</td>\n",
              "      <td>0.098800</td>\n",
              "      <td>-14.615000</td>\n",
              "      <td>0.000000</td>\n",
              "      <td>NaN</td>\n",
              "      <td>11.000000</td>\n",
              "      <td>NaN</td>\n",
              "      <td>0.034900</td>\n",
              "      <td>93.421000</td>\n",
              "    </tr>\n",
              "    <tr>\n",
              "      <th>50%</th>\n",
              "      <td>0.540000</td>\n",
              "      <td>1977.000000</td>\n",
              "      <td>0.516000</td>\n",
              "      <td>NaN</td>\n",
              "      <td>0.548000</td>\n",
              "      <td>2.074670e+05</td>\n",
              "      <td>0.471000</td>\n",
              "      <td>0.000000</td>\n",
              "      <td>NaN</td>\n",
              "      <td>0.000216</td>\n",
              "      <td>5.000000</td>\n",
              "      <td>0.136000</td>\n",
              "      <td>-10.580000</td>\n",
              "      <td>1.000000</td>\n",
              "      <td>NaN</td>\n",
              "      <td>33.000000</td>\n",
              "      <td>NaN</td>\n",
              "      <td>0.045000</td>\n",
              "      <td>114.729000</td>\n",
              "    </tr>\n",
              "    <tr>\n",
              "      <th>75%</th>\n",
              "      <td>0.747000</td>\n",
              "      <td>1999.000000</td>\n",
              "      <td>0.893000</td>\n",
              "      <td>NaN</td>\n",
              "      <td>0.668000</td>\n",
              "      <td>2.624000e+05</td>\n",
              "      <td>0.703000</td>\n",
              "      <td>0.000000</td>\n",
              "      <td>NaN</td>\n",
              "      <td>0.102000</td>\n",
              "      <td>8.000000</td>\n",
              "      <td>0.261000</td>\n",
              "      <td>-7.183000</td>\n",
              "      <td>1.000000</td>\n",
              "      <td>NaN</td>\n",
              "      <td>48.000000</td>\n",
              "      <td>NaN</td>\n",
              "      <td>0.075600</td>\n",
              "      <td>135.537000</td>\n",
              "    </tr>\n",
              "    <tr>\n",
              "      <th>max</th>\n",
              "      <td>1.000000</td>\n",
              "      <td>2020.000000</td>\n",
              "      <td>0.996000</td>\n",
              "      <td>NaN</td>\n",
              "      <td>0.988000</td>\n",
              "      <td>5.403500e+06</td>\n",
              "      <td>1.000000</td>\n",
              "      <td>1.000000</td>\n",
              "      <td>NaN</td>\n",
              "      <td>1.000000</td>\n",
              "      <td>11.000000</td>\n",
              "      <td>1.000000</td>\n",
              "      <td>3.855000</td>\n",
              "      <td>1.000000</td>\n",
              "      <td>NaN</td>\n",
              "      <td>100.000000</td>\n",
              "      <td>NaN</td>\n",
              "      <td>0.970000</td>\n",
              "      <td>243.507000</td>\n",
              "    </tr>\n",
              "  </tbody>\n",
              "</table>\n",
              "</div>\n",
              "    <div class=\"colab-df-buttons\">\n",
              "\n",
              "  <div class=\"colab-df-container\">\n",
              "    <button class=\"colab-df-convert\" onclick=\"convertToInteractive('df-a0fc8d0d-f90c-4270-9c02-0bf48800a679')\"\n",
              "            title=\"Convert this dataframe to an interactive table.\"\n",
              "            style=\"display:none;\">\n",
              "\n",
              "  <svg xmlns=\"http://www.w3.org/2000/svg\" height=\"24px\" viewBox=\"0 -960 960 960\">\n",
              "    <path d=\"M120-120v-720h720v720H120Zm60-500h600v-160H180v160Zm220 220h160v-160H400v160Zm0 220h160v-160H400v160ZM180-400h160v-160H180v160Zm440 0h160v-160H620v160ZM180-180h160v-160H180v160Zm440 0h160v-160H620v160Z\"/>\n",
              "  </svg>\n",
              "    </button>\n",
              "\n",
              "  <style>\n",
              "    .colab-df-container {\n",
              "      display:flex;\n",
              "      gap: 12px;\n",
              "    }\n",
              "\n",
              "    .colab-df-convert {\n",
              "      background-color: #E8F0FE;\n",
              "      border: none;\n",
              "      border-radius: 50%;\n",
              "      cursor: pointer;\n",
              "      display: none;\n",
              "      fill: #1967D2;\n",
              "      height: 32px;\n",
              "      padding: 0 0 0 0;\n",
              "      width: 32px;\n",
              "    }\n",
              "\n",
              "    .colab-df-convert:hover {\n",
              "      background-color: #E2EBFA;\n",
              "      box-shadow: 0px 1px 2px rgba(60, 64, 67, 0.3), 0px 1px 3px 1px rgba(60, 64, 67, 0.15);\n",
              "      fill: #174EA6;\n",
              "    }\n",
              "\n",
              "    .colab-df-buttons div {\n",
              "      margin-bottom: 4px;\n",
              "    }\n",
              "\n",
              "    [theme=dark] .colab-df-convert {\n",
              "      background-color: #3B4455;\n",
              "      fill: #D2E3FC;\n",
              "    }\n",
              "\n",
              "    [theme=dark] .colab-df-convert:hover {\n",
              "      background-color: #434B5C;\n",
              "      box-shadow: 0px 1px 3px 1px rgba(0, 0, 0, 0.15);\n",
              "      filter: drop-shadow(0px 1px 2px rgba(0, 0, 0, 0.3));\n",
              "      fill: #FFFFFF;\n",
              "    }\n",
              "  </style>\n",
              "\n",
              "    <script>\n",
              "      const buttonEl =\n",
              "        document.querySelector('#df-a0fc8d0d-f90c-4270-9c02-0bf48800a679 button.colab-df-convert');\n",
              "      buttonEl.style.display =\n",
              "        google.colab.kernel.accessAllowed ? 'block' : 'none';\n",
              "\n",
              "      async function convertToInteractive(key) {\n",
              "        const element = document.querySelector('#df-a0fc8d0d-f90c-4270-9c02-0bf48800a679');\n",
              "        const dataTable =\n",
              "          await google.colab.kernel.invokeFunction('convertToInteractive',\n",
              "                                                    [key], {});\n",
              "        if (!dataTable) return;\n",
              "\n",
              "        const docLinkHtml = 'Like what you see? Visit the ' +\n",
              "          '<a target=\"_blank\" href=https://colab.research.google.com/notebooks/data_table.ipynb>data table notebook</a>'\n",
              "          + ' to learn more about interactive tables.';\n",
              "        element.innerHTML = '';\n",
              "        dataTable['output_type'] = 'display_data';\n",
              "        await google.colab.output.renderOutput(dataTable, element);\n",
              "        const docLink = document.createElement('div');\n",
              "        docLink.innerHTML = docLinkHtml;\n",
              "        element.appendChild(docLink);\n",
              "      }\n",
              "    </script>\n",
              "  </div>\n",
              "\n",
              "\n",
              "<div id=\"df-07c8d6b7-4183-403d-9d43-04291c484199\">\n",
              "  <button class=\"colab-df-quickchart\" onclick=\"quickchart('df-07c8d6b7-4183-403d-9d43-04291c484199')\"\n",
              "            title=\"Suggest charts\"\n",
              "            style=\"display:none;\">\n",
              "\n",
              "<svg xmlns=\"http://www.w3.org/2000/svg\" height=\"24px\"viewBox=\"0 0 24 24\"\n",
              "     width=\"24px\">\n",
              "    <g>\n",
              "        <path d=\"M19 3H5c-1.1 0-2 .9-2 2v14c0 1.1.9 2 2 2h14c1.1 0 2-.9 2-2V5c0-1.1-.9-2-2-2zM9 17H7v-7h2v7zm4 0h-2V7h2v10zm4 0h-2v-4h2v4z\"/>\n",
              "    </g>\n",
              "</svg>\n",
              "  </button>\n",
              "\n",
              "<style>\n",
              "  .colab-df-quickchart {\n",
              "      --bg-color: #E8F0FE;\n",
              "      --fill-color: #1967D2;\n",
              "      --hover-bg-color: #E2EBFA;\n",
              "      --hover-fill-color: #174EA6;\n",
              "      --disabled-fill-color: #AAA;\n",
              "      --disabled-bg-color: #DDD;\n",
              "  }\n",
              "\n",
              "  [theme=dark] .colab-df-quickchart {\n",
              "      --bg-color: #3B4455;\n",
              "      --fill-color: #D2E3FC;\n",
              "      --hover-bg-color: #434B5C;\n",
              "      --hover-fill-color: #FFFFFF;\n",
              "      --disabled-bg-color: #3B4455;\n",
              "      --disabled-fill-color: #666;\n",
              "  }\n",
              "\n",
              "  .colab-df-quickchart {\n",
              "    background-color: var(--bg-color);\n",
              "    border: none;\n",
              "    border-radius: 50%;\n",
              "    cursor: pointer;\n",
              "    display: none;\n",
              "    fill: var(--fill-color);\n",
              "    height: 32px;\n",
              "    padding: 0;\n",
              "    width: 32px;\n",
              "  }\n",
              "\n",
              "  .colab-df-quickchart:hover {\n",
              "    background-color: var(--hover-bg-color);\n",
              "    box-shadow: 0 1px 2px rgba(60, 64, 67, 0.3), 0 1px 3px 1px rgba(60, 64, 67, 0.15);\n",
              "    fill: var(--button-hover-fill-color);\n",
              "  }\n",
              "\n",
              "  .colab-df-quickchart-complete:disabled,\n",
              "  .colab-df-quickchart-complete:disabled:hover {\n",
              "    background-color: var(--disabled-bg-color);\n",
              "    fill: var(--disabled-fill-color);\n",
              "    box-shadow: none;\n",
              "  }\n",
              "\n",
              "  .colab-df-spinner {\n",
              "    border: 2px solid var(--fill-color);\n",
              "    border-color: transparent;\n",
              "    border-bottom-color: var(--fill-color);\n",
              "    animation:\n",
              "      spin 1s steps(1) infinite;\n",
              "  }\n",
              "\n",
              "  @keyframes spin {\n",
              "    0% {\n",
              "      border-color: transparent;\n",
              "      border-bottom-color: var(--fill-color);\n",
              "      border-left-color: var(--fill-color);\n",
              "    }\n",
              "    20% {\n",
              "      border-color: transparent;\n",
              "      border-left-color: var(--fill-color);\n",
              "      border-top-color: var(--fill-color);\n",
              "    }\n",
              "    30% {\n",
              "      border-color: transparent;\n",
              "      border-left-color: var(--fill-color);\n",
              "      border-top-color: var(--fill-color);\n",
              "      border-right-color: var(--fill-color);\n",
              "    }\n",
              "    40% {\n",
              "      border-color: transparent;\n",
              "      border-right-color: var(--fill-color);\n",
              "      border-top-color: var(--fill-color);\n",
              "    }\n",
              "    60% {\n",
              "      border-color: transparent;\n",
              "      border-right-color: var(--fill-color);\n",
              "    }\n",
              "    80% {\n",
              "      border-color: transparent;\n",
              "      border-right-color: var(--fill-color);\n",
              "      border-bottom-color: var(--fill-color);\n",
              "    }\n",
              "    90% {\n",
              "      border-color: transparent;\n",
              "      border-bottom-color: var(--fill-color);\n",
              "    }\n",
              "  }\n",
              "</style>\n",
              "\n",
              "  <script>\n",
              "    async function quickchart(key) {\n",
              "      const quickchartButtonEl =\n",
              "        document.querySelector('#' + key + ' button');\n",
              "      quickchartButtonEl.disabled = true;  // To prevent multiple clicks.\n",
              "      quickchartButtonEl.classList.add('colab-df-spinner');\n",
              "      try {\n",
              "        const charts = await google.colab.kernel.invokeFunction(\n",
              "            'suggestCharts', [key], {});\n",
              "      } catch (error) {\n",
              "        console.error('Error during call to suggestCharts:', error);\n",
              "      }\n",
              "      quickchartButtonEl.classList.remove('colab-df-spinner');\n",
              "      quickchartButtonEl.classList.add('colab-df-quickchart-complete');\n",
              "    }\n",
              "    (() => {\n",
              "      let quickchartButtonEl =\n",
              "        document.querySelector('#df-07c8d6b7-4183-403d-9d43-04291c484199 button');\n",
              "      quickchartButtonEl.style.display =\n",
              "        google.colab.kernel.accessAllowed ? 'block' : 'none';\n",
              "    })();\n",
              "  </script>\n",
              "</div>\n",
              "\n",
              "    </div>\n",
              "  </div>\n"
            ],
            "application/vnd.google.colaboratory.intrinsic+json": {
              "type": "dataframe",
              "summary": "{\n  \"name\": \"df\",\n  \"rows\": 11,\n  \"fields\": [\n    {\n      \"column\": \"valence\",\n      \"properties\": {\n        \"dtype\": \"number\",\n        \"std\": 60334.775253971864,\n        \"min\": 0.0,\n        \"max\": 170653.0,\n        \"num_unique_values\": 8,\n        \"samples\": [\n          0.5285872111424939,\n          0.54,\n          170653.0\n        ],\n        \"semantic_type\": \"\",\n        \"description\": \"\"\n      }\n    },\n    {\n      \"column\": \"year\",\n      \"properties\": {\n        \"dtype\": \"number\",\n        \"std\": 59739.03348571177,\n        \"min\": 25.91785256455797,\n        \"max\": 170653.0,\n        \"num_unique_values\": 8,\n        \"samples\": [\n          1976.7872407751402,\n          1977.0,\n          170653.0\n        ],\n        \"semantic_type\": \"\",\n        \"description\": \"\"\n      }\n    },\n    {\n      \"column\": \"acousticness\",\n      \"properties\": {\n        \"dtype\": \"number\",\n        \"std\": 60334.77579017084,\n        \"min\": 0.0,\n        \"max\": 170653.0,\n        \"num_unique_values\": 8,\n        \"samples\": [\n          0.5021147637067032,\n          0.516,\n          170653.0\n        ],\n        \"semantic_type\": \"\",\n        \"description\": \"\"\n      }\n    },\n    {\n      \"column\": \"artists\",\n      \"properties\": {\n        \"dtype\": \"category\",\n        \"num_unique_values\": 4,\n        \"samples\": [\n          34088,\n          \"1211\",\n          \"170653\"\n        ],\n        \"semantic_type\": \"\",\n        \"description\": \"\"\n      }\n    },\n    {\n      \"column\": \"danceability\",\n      \"properties\": {\n        \"dtype\": \"number\",\n        \"std\": 60334.77844730948,\n        \"min\": 0.0,\n        \"max\": 170653.0,\n        \"num_unique_values\": 8,\n        \"samples\": [\n          0.5373955347986852,\n          0.5479999999999999,\n          170653.0\n        ],\n        \"semantic_type\": \"\",\n        \"description\": \"\"\n      }\n    },\n    {\n      \"column\": \"duration_ms\",\n      \"properties\": {\n        \"dtype\": \"number\",\n        \"std\": 1852852.3792212622,\n        \"min\": 5108.0,\n        \"max\": 5403500.0,\n        \"num_unique_values\": 8,\n        \"samples\": [\n          230948.3106655025,\n          207467.0,\n          170653.0\n        ],\n        \"semantic_type\": \"\",\n        \"description\": \"\"\n      }\n    },\n    {\n      \"column\": \"energy\",\n      \"properties\": {\n        \"dtype\": \"number\",\n        \"std\": 60334.786200182105,\n        \"min\": 0.0,\n        \"max\": 170653.0,\n        \"num_unique_values\": 8,\n        \"samples\": [\n          0.4823888351127728,\n          0.471,\n          170653.0\n        ],\n        \"semantic_type\": \"\",\n        \"description\": \"\"\n      }\n    },\n    {\n      \"column\": \"explicit\",\n      \"properties\": {\n        \"dtype\": \"number\",\n        \"std\": 60334.8779328591,\n        \"min\": 0.0,\n        \"max\": 170653.0,\n        \"num_unique_values\": 5,\n        \"samples\": [\n          0.08457513199299163,\n          1.0,\n          0.2782492277184763\n        ],\n        \"semantic_type\": \"\",\n        \"description\": \"\"\n      }\n    },\n    {\n      \"column\": \"id\",\n      \"properties\": {\n        \"dtype\": \"category\",\n        \"num_unique_values\": 3,\n        \"samples\": [\n          \"170653\",\n          \"4BJqT0PrAfrxzMOxytFOIz\",\n          \"1\"\n        ],\n        \"semantic_type\": \"\",\n        \"description\": \"\"\n      }\n    },\n    {\n      \"column\": \"instrumentalness\",\n      \"properties\": {\n        \"dtype\": \"number\",\n        \"std\": 60334.86682740137,\n        \"min\": 0.0,\n        \"max\": 170653.0,\n        \"num_unique_values\": 7,\n        \"samples\": [\n          170653.0,\n          0.16700958082940237,\n          0.102\n        ],\n        \"semantic_type\": \"\",\n        \"description\": \"\"\n      }\n    },\n    {\n      \"column\": \"key\",\n      \"properties\": {\n        \"dtype\": \"number\",\n        \"std\": 60333.19349193669,\n        \"min\": 0.0,\n        \"max\": 170653.0,\n        \"num_unique_values\": 8,\n        \"samples\": [\n          5.199844128143074,\n          5.0,\n          170653.0\n        ],\n        \"semantic_type\": \"\",\n        \"description\": \"\"\n      }\n    },\n    {\n      \"column\": \"liveness\",\n      \"properties\": {\n        \"dtype\": \"number\",\n        \"std\": 60334.851991003205,\n        \"min\": 0.0,\n        \"max\": 170653.0,\n        \"num_unique_values\": 8,\n        \"samples\": [\n          0.20583865545873795,\n          0.136,\n          170653.0\n        ],\n        \"semantic_type\": \"\",\n        \"description\": \"\"\n      }\n    },\n    {\n      \"column\": \"loudness\",\n      \"properties\": {\n        \"dtype\": \"number\",\n        \"std\": 60339.71269912774,\n        \"min\": -60.0,\n        \"max\": 170653.0,\n        \"num_unique_values\": 8,\n        \"samples\": [\n          -11.467990038264784,\n          -10.58,\n          170653.0\n        ],\n        \"semantic_type\": \"\",\n        \"description\": \"\"\n      }\n    },\n    {\n      \"column\": \"mode\",\n      \"properties\": {\n        \"dtype\": \"number\",\n        \"std\": 60334.736549259185,\n        \"min\": 0.0,\n        \"max\": 170653.0,\n        \"num_unique_values\": 5,\n        \"samples\": [\n          0.7069023105365859,\n          1.0,\n          0.45518419130201376\n        ],\n        \"semantic_type\": \"\",\n        \"description\": \"\"\n      }\n    },\n    {\n      \"column\": \"name\",\n      \"properties\": {\n        \"dtype\": \"category\",\n        \"num_unique_values\": 4,\n        \"samples\": [\n          133638,\n          \"73\",\n          \"170653\"\n        ],\n        \"semantic_type\": \"\",\n        \"description\": \"\"\n      }\n    },\n    {\n      \"column\": \"popularity\",\n      \"properties\": {\n        \"dtype\": \"number\",\n        \"std\": 60322.56690544658,\n        \"min\": 0.0,\n        \"max\": 170653.0,\n        \"num_unique_values\": 8,\n        \"samples\": [\n          31.431794342906365,\n          33.0,\n          170653.0\n        ],\n        \"semantic_type\": \"\",\n        \"description\": \"\"\n      }\n    },\n    {\n      \"column\": \"release_date\",\n      \"properties\": {\n        \"dtype\": \"date\",\n        \"min\": \"1945-01-01 00:00:00\",\n        \"max\": \"1970-01-01 00:00:00.000170653\",\n        \"num_unique_values\": 4,\n        \"samples\": [\n          11244,\n          \"1446\",\n          \"170653\"\n        ],\n        \"semantic_type\": \"\",\n        \"description\": \"\"\n      }\n    },\n    {\n      \"column\": \"speechiness\",\n      \"properties\": {\n        \"dtype\": \"number\",\n        \"std\": 60334.876730196505,\n        \"min\": 0.0,\n        \"max\": 170653.0,\n        \"num_unique_values\": 8,\n        \"samples\": [\n          0.09839326235108671,\n          0.045,\n          170653.0\n        ],\n        \"semantic_type\": \"\",\n        \"description\": \"\"\n      }\n    },\n    {\n      \"column\": \"tempo\",\n      \"properties\": {\n        \"dtype\": \"number\",\n        \"std\": 60297.87943847581,\n        \"min\": 0.0,\n        \"max\": 170653.0,\n        \"num_unique_values\": 8,\n        \"samples\": [\n          116.86158961752797,\n          114.729,\n          170653.0\n        ],\n        \"semantic_type\": \"\",\n        \"description\": \"\"\n      }\n    }\n  ]\n}"
            }
          },
          "metadata": {},
          "execution_count": 23
        }
      ]
    },
    {
      "cell_type": "code",
      "source": [
        "import matplotlib.pyplot as plt\n",
        "\n",
        "# Assuming you have a DataFrame df with columns 'key' and 'valence'\n",
        "\n",
        "# Create a list of valence values for each key category\n",
        "valence_by_key = [df[df['key'] == key]['valence'] for key in range(12)]\n",
        "\n",
        "# Create a box plot\n",
        "plt.boxplot(valence_by_key)\n",
        "plt.xlabel('Key')\n",
        "plt.ylabel('Valence')\n",
        "plt.title('Valence Distribution by Key')\n",
        "plt.xticks(range(1, 13), range(12))  # Assuming 'key' ranges from 0 to 11\n",
        "plt.show()\n"
      ],
      "metadata": {
        "id": "ob3iV04B34NH",
        "outputId": "5f9e48e5-20f2-46e5-e76e-c15d314cb701",
        "colab": {
          "base_uri": "https://localhost:8080/",
          "height": 471
        }
      },
      "execution_count": null,
      "outputs": [
        {
          "output_type": "display_data",
          "data": {
            "text/plain": [
              "<Figure size 640x480 with 1 Axes>"
            ],
            "image/png": "[encoded data removed]"
          },
          "metadata": {
            "image/png": {
              "width": 567,
              "height": 454
            }
          }
        }
      ]
    },
    {
      "cell_type": "code",
      "source": [
        "plt.hist(df['popularity'])\n",
        "plt.title('Distribution of Popularity')\n",
        "plt.xlabel('Popularity Value')\n",
        "plt.show()"
      ],
      "metadata": {
        "colab": {
          "base_uri": "https://localhost:8080/",
          "height": 472
        },
        "id": "KTgDlLVNfYKg",
        "outputId": "90eb02ee-e56b-4438-c13e-070d06396b35"
      },
      "execution_count": null,
      "outputs": [
        {
          "output_type": "display_data",
          "data": {
            "text/plain": [
              "<Figure size 640x480 with 1 Axes>"
            ],
            "image/png": "[encoded data removed]"
          },
          "metadata": {}
        }
      ]
    },
    {
      "cell_type": "code",
      "source": [
        "plt.scatter(x=df['duration_ms'], y=df['popularity'])\n",
        "plt.xlabel('Duration (ms)')\n",
        "plt.ylabel('Popularity')\n",
        "plt.title('Duration vs Popularity')\n",
        "plt.show()"
      ],
      "metadata": {
        "colab": {
          "base_uri": "https://localhost:8080/",
          "height": 472
        },
        "id": "fMieZd2jfkGb",
        "outputId": "602e5b43-5592-41d9-ccec-553f528c7b52"
      },
      "execution_count": null,
      "outputs": [
        {
          "output_type": "display_data",
          "data": {
            "text/plain": [
              "<Figure size 640x480 with 1 Axes>"
            ],
            "image/png": "[encoded data removed]"
          },
          "metadata": {}
        }
      ]
    },
    {
      "cell_type": "code",
      "source": [
        "plt.scatter(x=df['tempo'], y=df['popularity'])\n",
        "plt.xlabel('Tempo (bpm)')\n",
        "plt.ylabel('Popularity')\n",
        "plt.title('Tempo vs Popularity')\n",
        "plt.show()"
      ],
      "metadata": {
        "colab": {
          "base_uri": "https://localhost:8080/",
          "height": 472
        },
        "id": "V0ETLH6Tf-KP",
        "outputId": "f3901114-036f-4e83-ea49-cb243dc76991"
      },
      "execution_count": null,
      "outputs": [
        {
          "output_type": "display_data",
          "data": {
            "text/plain": [
              "<Figure size 640x480 with 1 Axes>"
            ],
            "image/png": "[encoded data removed]"
          },
          "metadata": {}
        }
      ]
    },
    {
      "cell_type": "code",
      "source": [
        "plt.scatter(x=df['tempo'], y=df['danceability'])\n",
        "plt.xlabel('Tempo (bpm)')\n",
        "plt.ylabel('Danceability')\n",
        "plt.title('Tempo vs Danceability')\n",
        "plt.show()"
      ],
      "metadata": {
        "colab": {
          "base_uri": "https://localhost:8080/",
          "height": 472
        },
        "id": "PZi0tnNQgLAT",
        "outputId": "21602b34-428c-42f7-bfdc-a009f47d80b3"
      },
      "execution_count": null,
      "outputs": [
        {
          "output_type": "display_data",
          "data": {
            "text/plain": [
              "<Figure size 640x480 with 1 Axes>"
            ],
            "image/png": "[encoded data removed]"
          },
          "metadata": {}
        }
      ]
    },
    {
      "cell_type": "code",
      "source": [
        "plt.hist(df['key'])\n",
        "plt.title('Distribution of Key')\n",
        "plt.xlabel('Key')\n",
        "plt.show()"
      ],
      "metadata": {
        "colab": {
          "base_uri": "https://localhost:8080/",
          "height": 472
        },
        "id": "IppaBDjhgSNK",
        "outputId": "a6392961-95c4-43a6-8bdf-858624cde564"
      },
      "execution_count": null,
      "outputs": [
        {
          "output_type": "display_data",
          "data": {
            "text/plain": [
              "<Figure size 640x480 with 1 Axes>"
            ],
            "image/png": "[encoded data removed]"
          },
          "metadata": {}
        }
      ]
    },
    {
      "cell_type": "code",
      "source": [
        "plt.hist(df['tempo'])\n",
        "plt.title('Distribution of Tempo')\n",
        "plt.xlabel('Tempo (bpm)')\n",
        "plt.show()"
      ],
      "metadata": {
        "colab": {
          "base_uri": "https://localhost:8080/",
          "height": 472
        },
        "id": "CR7zZQktgm7U",
        "outputId": "9266135e-5526-4884-ff4d-4092f081a927"
      },
      "execution_count": null,
      "outputs": [
        {
          "output_type": "display_data",
          "data": {
            "text/plain": [
              "<Figure size 640x480 with 1 Axes>"
            ],
            "image/png": "[encoded data removed]"
          },
          "metadata": {}
        }
      ]
    },
    {
      "cell_type": "code",
      "source": [
        "plt.hist(df['speechiness'])\n",
        "plt.title('Distribution of Speechiness')\n",
        "plt.xlabel('Speechiness')\n",
        "plt.show()"
      ],
      "metadata": {
        "colab": {
          "base_uri": "https://localhost:8080/",
          "height": 472
        },
        "id": "OqLlZZQng1dj",
        "outputId": "17f1bdd4-20dc-42cb-966c-7dbc54a91b6a"
      },
      "execution_count": null,
      "outputs": [
        {
          "output_type": "display_data",
          "data": {
            "text/plain": [
              "<Figure size 640x480 with 1 Axes>"
            ],
            "image/png": "[encoded data removed]"
          },
          "metadata": {}
        }
      ]
    },
    {
      "cell_type": "code",
      "source": [
        "df['mode'].value_counts()"
      ],
      "metadata": {
        "colab": {
          "base_uri": "https://localhost:8080/"
        },
        "id": "LSZLLTcVhG_4",
        "outputId": "09f970ff-066e-423a-a477-7fb4276f2ce8"
      },
      "execution_count": null,
      "outputs": [
        {
          "output_type": "execute_result",
          "data": {
            "text/plain": [
              "1    120635\n",
              "0     50018\n",
              "Name: mode, dtype: int64"
            ]
          },
          "metadata": {},
          "execution_count": 12
        }
      ]
    },
    {
      "cell_type": "code",
      "source": [
        "# Liveness\n",
        "plt.hist(df['liveness'])\n",
        "plt.title('Distribution of Liveness')\n",
        "plt.show()"
      ],
      "metadata": {
        "id": "sZO6QnpC-1ja",
        "outputId": "cf1d95d4-7252-4da1-906a-948502584b62",
        "colab": {
          "base_uri": "https://localhost:8080/",
          "height": 451
        }
      },
      "execution_count": null,
      "outputs": [
        {
          "output_type": "display_data",
          "data": {
            "text/plain": [
              "<Figure size 640x480 with 1 Axes>"
            ],
            "image/png": "[encoded data removed]"
          },
          "metadata": {
            "image/png": {
              "width": 570,
              "height": 434
            }
          }
        }
      ]
    },
    {
      "cell_type": "code",
      "source": [],
      "metadata": {
        "id": "0VwfBnka_tSH"
      },
      "execution_count": null,
      "outputs": []
    },
    {
      "cell_type": "code",
      "source": [
        "df.info()"
      ],
      "metadata": {
        "id": "pevPi55P_v4G",
        "outputId": "522eb962-1381-4ec4-99a7-5740bb7c0c13",
        "colab": {
          "base_uri": "https://localhost:8080/"
        }
      },
      "execution_count": null,
      "outputs": [
        {
          "output_type": "stream",
          "name": "stdout",
          "text": [
            "<class 'pandas.core.frame.DataFrame'>\n",
            "RangeIndex: 170653 entries, 0 to 170652\n",
            "Data columns (total 19 columns):\n",
            " #   Column            Non-Null Count   Dtype  \n",
            "---  ------            --------------   -----  \n",
            " 0   valence           170653 non-null  float64\n",
            " 1   year              170653 non-null  int64  \n",
            " 2   acousticness      170653 non-null  float64\n",
            " 3   artists           170653 non-null  object \n",
            " 4   danceability      170653 non-null  float64\n",
            " 5   duration_ms       170653 non-null  int64  \n",
            " 6   energy            170653 non-null  float64\n",
            " 7   explicit          170653 non-null  int64  \n",
            " 8   id                170653 non-null  object \n",
            " 9   instrumentalness  170653 non-null  float64\n",
            " 10  key               170653 non-null  int64  \n",
            " 11  liveness          170653 non-null  float64\n",
            " 12  loudness          170653 non-null  float64\n",
            " 13  mode              170653 non-null  int64  \n",
            " 14  name              170653 non-null  object \n",
            " 15  popularity        170653 non-null  int64  \n",
            " 16  release_date      170653 non-null  object \n",
            " 17  speechiness       170653 non-null  float64\n",
            " 18  tempo             170653 non-null  float64\n",
            "dtypes: float64(9), int64(6), object(4)\n",
            "memory usage: 24.7+ MB\n"
          ]
        }
      ]
    },
    {
      "cell_type": "code",
      "source": [
        "df2 = df.drop(columns=['year', 'acousticness', 'artists', 'popularity', 'energy', 'explicit', 'id', 'instrumentalness', 'liveness', 'name', 'mode', 'release_date', 'speechiness'])\n",
        "\n",
        "X = df2.drop('danceability', axis=1)\n",
        "y = df['danceability']"
      ],
      "metadata": {
        "id": "aQsyBP5-_ww7"
      },
      "execution_count": null,
      "outputs": []
    },
    {
      "cell_type": "code",
      "source": [
        "from sklearn.linear_model import LinearRegression\n",
        "from sklearn.model_selection import train_test_split\n",
        "from sklearn.preprocessing import StandardScaler"
      ],
      "metadata": {
        "id": "WZZbY3apAIuh"
      },
      "execution_count": null,
      "outputs": []
    },
    {
      "cell_type": "code",
      "source": [
        "X_train, X_test, y_train, y_test = train_test_split(X, y, test_size=0.2, random_state=42)\n",
        "\n",
        "X_train.shape, X_test.shape"
      ],
      "metadata": {
        "id": "BGZJMY_-AN-C",
        "outputId": "24955cee-f67c-4cba-be68-5d1a2bc8a8dc",
        "colab": {
          "base_uri": "https://localhost:8080/"
        }
      },
      "execution_count": null,
      "outputs": [
        {
          "output_type": "execute_result",
          "data": {
            "text/plain": [
              "((136522, 5), (34131, 5))"
            ]
          },
          "metadata": {},
          "execution_count": 8
        }
      ]
    },
    {
      "cell_type": "code",
      "source": [
        "sc = StandardScaler()\n",
        "\n",
        "X_train = sc.fit_transform(X_train)\n",
        "X_test = sc.transform(X_test)"
      ],
      "metadata": {
        "id": "SOYGI_QUAs1_"
      },
      "execution_count": null,
      "outputs": []
    },
    {
      "cell_type": "code",
      "source": [
        "lr = LinearRegression()\n",
        "\n",
        "lr.fit(X_train, y_train)"
      ],
      "metadata": {
        "id": "9oxCBfYXA0vX",
        "outputId": "53e5f26c-0185-4c52-cd6e-13bf4ab1519f",
        "colab": {
          "base_uri": "https://localhost:8080/",
          "height": 74
        }
      },
      "execution_count": null,
      "outputs": [
        {
          "output_type": "execute_result",
          "data": {
            "text/plain": [
              "LinearRegression()"
            ],
            "text/html": [
              "<style>#sk-container-id-1 {color: black;background-color: white;}#sk-container-id-1 pre{padding: 0;}#sk-container-id-1 div.sk-toggleable {background-color: white;}#sk-container-id-1 label.sk-toggleable__label {cursor: pointer;display: block;width: 100%;margin-bottom: 0;padding: 0.3em;box-sizing: border-box;text-align: center;}#sk-container-id-1 label.sk-toggleable__label-arrow:before {content: \"▸\";float: left;margin-right: 0.25em;color: #696969;}#sk-container-id-1 label.sk-toggleable__label-arrow:hover:before {color: black;}#sk-container-id-1 div.sk-estimator:hover label.sk-toggleable__label-arrow:before {color: black;}#sk-container-id-1 div.sk-toggleable__content {max-height: 0;max-width: 0;overflow: hidden;text-align: left;background-color: #f0f8ff;}#sk-container-id-1 div.sk-toggleable__content pre {margin: 0.2em;color: black;border-radius: 0.25em;background-color: #f0f8ff;}#sk-container-id-1 input.sk-toggleable__control:checked~div.sk-toggleable__content {max-height: 200px;max-width: 100%;overflow: auto;}#sk-container-id-1 input.sk-toggleable__control:checked~label.sk-toggleable__label-arrow:before {content: \"▾\";}#sk-container-id-1 div.sk-estimator input.sk-toggleable__control:checked~label.sk-toggleable__label {background-color: #d4ebff;}#sk-container-id-1 div.sk-label input.sk-toggleable__control:checked~label.sk-toggleable__label {background-color: #d4ebff;}#sk-container-id-1 input.sk-hidden--visually {border: 0;clip: rect(1px 1px 1px 1px);clip: rect(1px, 1px, 1px, 1px);height: 1px;margin: -1px;overflow: hidden;padding: 0;position: absolute;width: 1px;}#sk-container-id-1 div.sk-estimator {font-family: monospace;background-color: #f0f8ff;border: 1px dotted black;border-radius: 0.25em;box-sizing: border-box;margin-bottom: 0.5em;}#sk-container-id-1 div.sk-estimator:hover {background-color: #d4ebff;}#sk-container-id-1 div.sk-parallel-item::after {content: \"\";width: 100%;border-bottom: 1px solid gray;flex-grow: 1;}#sk-container-id-1 div.sk-label:hover label.sk-toggleable__label {background-color: #d4ebff;}#sk-container-id-1 div.sk-serial::before {content: \"\";position: absolute;border-left: 1px solid gray;box-sizing: border-box;top: 0;bottom: 0;left: 50%;z-index: 0;}#sk-container-id-1 div.sk-serial {display: flex;flex-direction: column;align-items: center;background-color: white;padding-right: 0.2em;padding-left: 0.2em;position: relative;}#sk-container-id-1 div.sk-item {position: relative;z-index: 1;}#sk-container-id-1 div.sk-parallel {display: flex;align-items: stretch;justify-content: center;background-color: white;position: relative;}#sk-container-id-1 div.sk-item::before, #sk-container-id-1 div.sk-parallel-item::before {content: \"\";position: absolute;border-left: 1px solid gray;box-sizing: border-box;top: 0;bottom: 0;left: 50%;z-index: -1;}#sk-container-id-1 div.sk-parallel-item {display: flex;flex-direction: column;z-index: 1;position: relative;background-color: white;}#sk-container-id-1 div.sk-parallel-item:first-child::after {align-self: flex-end;width: 50%;}#sk-container-id-1 div.sk-parallel-item:last-child::after {align-self: flex-start;width: 50%;}#sk-container-id-1 div.sk-parallel-item:only-child::after {width: 0;}#sk-container-id-1 div.sk-dashed-wrapped {border: 1px dashed gray;margin: 0 0.4em 0.5em 0.4em;box-sizing: border-box;padding-bottom: 0.4em;background-color: white;}#sk-container-id-1 div.sk-label label {font-family: monospace;font-weight: bold;display: inline-block;line-height: 1.2em;}#sk-container-id-1 div.sk-label-container {text-align: center;}#sk-container-id-1 div.sk-container {/* jupyter's `normalize.less` sets `[hidden] { display: none; }` but bootstrap.min.css set `[hidden] { display: none !important; }` so we also need the `!important` here to be able to override the default hidden behavior on the sphinx rendered scikit-learn.org. See: https://github.com/scikit-learn/scikit-learn/issues/21755 */display: inline-block !important;position: relative;}#sk-container-id-1 div.sk-text-repr-fallback {display: none;}</style><div id=\"sk-container-id-1\" class=\"sk-top-container\"><div class=\"sk-text-repr-fallback\"><pre>LinearRegression()</pre><b>In a Jupyter environment, please rerun this cell to show the HTML representation or trust the notebook. <br />On GitHub, the HTML representation is unable to render, please try loading this page with nbviewer.org.</b></div><div class=\"sk-container\" hidden><div class=\"sk-item\"><div class=\"sk-estimator sk-toggleable\"><input class=\"sk-toggleable__control sk-hidden--visually\" id=\"sk-estimator-id-1\" type=\"checkbox\" checked><label for=\"sk-estimator-id-1\" class=\"sk-toggleable__label sk-toggleable__label-arrow\">LinearRegression</label><div class=\"sk-toggleable__content\"><pre>LinearRegression()</pre></div></div></div></div></div>"
            ]
          },
          "metadata": {},
          "execution_count": 10
        }
      ]
    },
    {
      "cell_type": "code",
      "source": [
        "from sklearn.metrics import mean_squared_error\n",
        "import numpy as np\n",
        "\n",
        "y_pred = lr.predict(X_test)\n",
        "\n",
        "mse = mean_squared_error(y_pred, y_test)\n",
        "\n",
        "print(np.sqrt(mse))"
      ],
      "metadata": {
        "id": "UArnC0nzA48_",
        "outputId": "e06a89ea-4bbc-4642-89ae-f8265f70d4ce",
        "colab": {
          "base_uri": "https://localhost:8080/"
        }
      },
      "execution_count": null,
      "outputs": [
        {
          "output_type": "stream",
          "name": "stdout",
          "text": [
            "0.14297840157216396\n"
          ]
        }
      ]
    },
    {
      "cell_type": "code",
      "source": [
        "plt.scatter(y_pred, y_test)\n",
        "plt.title('Predicting Danceability')\n",
        "plt.show()"
      ],
      "metadata": {
        "id": "bB8pk05FBO3J",
        "outputId": "cca062d2-b482-4630-8b00-7be1015dcab1",
        "colab": {
          "base_uri": "https://localhost:8080/",
          "height": 452
        }
      },
      "execution_count": null,
      "outputs": [
        {
          "output_type": "display_data",
          "data": {
            "text/plain": [
              "<Figure size 640x480 with 1 Axes>"
            ],
            "image/png": "[encoded data removed]"
          },
          "metadata": {}
        }
      ]
    },
    {
      "cell_type": "code",
      "source": [],
      "metadata": {
        "id": "Hjx3GjIIBUpw"
      },
      "execution_count": null,
      "outputs": []
    },
    {
      "cell_type": "code",
      "source": [
        "df2 = df.drop(columns=['year', 'acousticness', 'artists', 'popularity', 'danceability', 'explicit', 'id', 'instrumentalness', 'liveness', 'name', 'mode', 'release_date', 'speechiness'])\n",
        "\n",
        "X = df2.drop('energy', axis=1)\n",
        "y = df['energy']"
      ],
      "metadata": {
        "id": "UxzPAOrlbcuj"
      },
      "execution_count": null,
      "outputs": []
    },
    {
      "cell_type": "code",
      "source": [
        "from sklearn.linear_model import LinearRegression\n",
        "from sklearn.model_selection import train_test_split\n",
        "from sklearn.preprocessing import StandardScaler"
      ],
      "metadata": {
        "id": "ykNIC6YZbcuk"
      },
      "execution_count": null,
      "outputs": []
    },
    {
      "cell_type": "code",
      "source": [
        "X_train, X_test, y_train, y_test = train_test_split(X, y, test_size=0.2, random_state=42)\n",
        "\n",
        "X_train.shape, X_test.shape"
      ],
      "metadata": {
        "outputId": "eaa92b12-b56a-42e9-eb4c-9a5af3116439",
        "colab": {
          "base_uri": "https://localhost:8080/"
        },
        "id": "PLLSPcNcbcuk"
      },
      "execution_count": null,
      "outputs": [
        {
          "output_type": "execute_result",
          "data": {
            "text/plain": [
              "((136522, 5), (34131, 5))"
            ]
          },
          "metadata": {},
          "execution_count": 15
        }
      ]
    },
    {
      "cell_type": "code",
      "source": [
        "sc = StandardScaler()\n",
        "\n",
        "X_train = sc.fit_transform(X_train)\n",
        "X_test = sc.transform(X_test)"
      ],
      "metadata": {
        "id": "rVgJOt74bcul"
      },
      "execution_count": null,
      "outputs": []
    },
    {
      "cell_type": "code",
      "source": [
        "lr = LinearRegression()\n",
        "\n",
        "lr.fit(X_train, y_train)"
      ],
      "metadata": {
        "colab": {
          "base_uri": "https://localhost:8080/",
          "height": 74
        },
        "outputId": "674c14cd-405e-4a25-9a90-639ed0bbbb66",
        "id": "i-wQl7h-bcul"
      },
      "execution_count": null,
      "outputs": [
        {
          "output_type": "execute_result",
          "data": {
            "text/plain": [
              "LinearRegression()"
            ],
            "text/html": [
              "<style>#sk-container-id-2 {color: black;background-color: white;}#sk-container-id-2 pre{padding: 0;}#sk-container-id-2 div.sk-toggleable {background-color: white;}#sk-container-id-2 label.sk-toggleable__label {cursor: pointer;display: block;width: 100%;margin-bottom: 0;padding: 0.3em;box-sizing: border-box;text-align: center;}#sk-container-id-2 label.sk-toggleable__label-arrow:before {content: \"▸\";float: left;margin-right: 0.25em;color: #696969;}#sk-container-id-2 label.sk-toggleable__label-arrow:hover:before {color: black;}#sk-container-id-2 div.sk-estimator:hover label.sk-toggleable__label-arrow:before {color: black;}#sk-container-id-2 div.sk-toggleable__content {max-height: 0;max-width: 0;overflow: hidden;text-align: left;background-color: #f0f8ff;}#sk-container-id-2 div.sk-toggleable__content pre {margin: 0.2em;color: black;border-radius: 0.25em;background-color: #f0f8ff;}#sk-container-id-2 input.sk-toggleable__control:checked~div.sk-toggleable__content {max-height: 200px;max-width: 100%;overflow: auto;}#sk-container-id-2 input.sk-toggleable__control:checked~label.sk-toggleable__label-arrow:before {content: \"▾\";}#sk-container-id-2 div.sk-estimator input.sk-toggleable__control:checked~label.sk-toggleable__label {background-color: #d4ebff;}#sk-container-id-2 div.sk-label input.sk-toggleable__control:checked~label.sk-toggleable__label {background-color: #d4ebff;}#sk-container-id-2 input.sk-hidden--visually {border: 0;clip: rect(1px 1px 1px 1px);clip: rect(1px, 1px, 1px, 1px);height: 1px;margin: -1px;overflow: hidden;padding: 0;position: absolute;width: 1px;}#sk-container-id-2 div.sk-estimator {font-family: monospace;background-color: #f0f8ff;border: 1px dotted black;border-radius: 0.25em;box-sizing: border-box;margin-bottom: 0.5em;}#sk-container-id-2 div.sk-estimator:hover {background-color: #d4ebff;}#sk-container-id-2 div.sk-parallel-item::after {content: \"\";width: 100%;border-bottom: 1px solid gray;flex-grow: 1;}#sk-container-id-2 div.sk-label:hover label.sk-toggleable__label {background-color: #d4ebff;}#sk-container-id-2 div.sk-serial::before {content: \"\";position: absolute;border-left: 1px solid gray;box-sizing: border-box;top: 0;bottom: 0;left: 50%;z-index: 0;}#sk-container-id-2 div.sk-serial {display: flex;flex-direction: column;align-items: center;background-color: white;padding-right: 0.2em;padding-left: 0.2em;position: relative;}#sk-container-id-2 div.sk-item {position: relative;z-index: 1;}#sk-container-id-2 div.sk-parallel {display: flex;align-items: stretch;justify-content: center;background-color: white;position: relative;}#sk-container-id-2 div.sk-item::before, #sk-container-id-2 div.sk-parallel-item::before {content: \"\";position: absolute;border-left: 1px solid gray;box-sizing: border-box;top: 0;bottom: 0;left: 50%;z-index: -1;}#sk-container-id-2 div.sk-parallel-item {display: flex;flex-direction: column;z-index: 1;position: relative;background-color: white;}#sk-container-id-2 div.sk-parallel-item:first-child::after {align-self: flex-end;width: 50%;}#sk-container-id-2 div.sk-parallel-item:last-child::after {align-self: flex-start;width: 50%;}#sk-container-id-2 div.sk-parallel-item:only-child::after {width: 0;}#sk-container-id-2 div.sk-dashed-wrapped {border: 1px dashed gray;margin: 0 0.4em 0.5em 0.4em;box-sizing: border-box;padding-bottom: 0.4em;background-color: white;}#sk-container-id-2 div.sk-label label {font-family: monospace;font-weight: bold;display: inline-block;line-height: 1.2em;}#sk-container-id-2 div.sk-label-container {text-align: center;}#sk-container-id-2 div.sk-container {/* jupyter's `normalize.less` sets `[hidden] { display: none; }` but bootstrap.min.css set `[hidden] { display: none !important; }` so we also need the `!important` here to be able to override the default hidden behavior on the sphinx rendered scikit-learn.org. See: https://github.com/scikit-learn/scikit-learn/issues/21755 */display: inline-block !important;position: relative;}#sk-container-id-2 div.sk-text-repr-fallback {display: none;}</style><div id=\"sk-container-id-2\" class=\"sk-top-container\"><div class=\"sk-text-repr-fallback\"><pre>LinearRegression()</pre><b>In a Jupyter environment, please rerun this cell to show the HTML representation or trust the notebook. <br />On GitHub, the HTML representation is unable to render, please try loading this page with nbviewer.org.</b></div><div class=\"sk-container\" hidden><div class=\"sk-item\"><div class=\"sk-estimator sk-toggleable\"><input class=\"sk-toggleable__control sk-hidden--visually\" id=\"sk-estimator-id-2\" type=\"checkbox\" checked><label for=\"sk-estimator-id-2\" class=\"sk-toggleable__label sk-toggleable__label-arrow\">LinearRegression</label><div class=\"sk-toggleable__content\"><pre>LinearRegression()</pre></div></div></div></div></div>"
            ]
          },
          "metadata": {},
          "execution_count": 17
        }
      ]
    },
    {
      "cell_type": "code",
      "source": [
        "from sklearn.metrics import mean_squared_error\n",
        "import numpy as np\n",
        "\n",
        "y_pred = lr.predict(X_test)\n",
        "\n",
        "mse = mean_squared_error(y_pred, y_test)\n",
        "\n",
        "print(np.sqrt(mse))"
      ],
      "metadata": {
        "outputId": "048831e8-cc93-4569-d4b1-c29c138591ca",
        "colab": {
          "base_uri": "https://localhost:8080/"
        },
        "id": "iZnmziBdbcul"
      },
      "execution_count": null,
      "outputs": [
        {
          "output_type": "stream",
          "name": "stdout",
          "text": [
            "0.1612730609001531\n"
          ]
        }
      ]
    },
    {
      "cell_type": "code",
      "source": [
        "plt.scatter(y_pred, y_test)\n",
        "plt.title('Predicting Energy')\n",
        "plt.show()"
      ],
      "metadata": {
        "id": "VHD4NkKEW5Pk",
        "outputId": "179888f3-8ea2-4afc-db39-260fff01fb7a",
        "colab": {
          "base_uri": "https://localhost:8080/",
          "height": 452
        }
      },
      "execution_count": null,
      "outputs": [
        {
          "output_type": "display_data",
          "data": {
            "text/plain": [
              "<Figure size 640x480 with 1 Axes>"
            ],
            "image/png": "[encoded data removed]"
          },
          "metadata": {}
        }
      ]
    },
    {
      "cell_type": "markdown",
      "source": [
        "A polynomial model might work better here."
      ],
      "metadata": {
        "id": "NkuHYe39blcN"
      }
    },
    {
      "cell_type": "code",
      "source": [
        "import numpy as np\n",
        "from sklearn.linear_model import LinearRegression\n",
        "from sklearn.metrics import mean_squared_error\n",
        "from sklearn.model_selection import train_test_split\n",
        "from sklearn.preprocessing import PolynomialFeatures, StandardScaler\n",
        "import matplotlib.pyplot as plt\n",
        "\n",
        "# # Drop unnecessary columns\n",
        "# df2 = df.drop(columns=['year', 'acousticness', 'artists', 'popularity', 'danceability', 'explicit', 'id', 'instrumentalness', 'liveness', 'name', 'mode', 'release_date', 'speechiness'])\n",
        "\n",
        "# # Split data into features (X) and target variable (y)\n",
        "# X = df2.drop('energy', axis=1)\n",
        "# y = df['energy']\n",
        "\n",
        "# # Split data into training and testing sets\n",
        "# X_train, X_test, y_train, y_test = train_test_split(X, y, test_size=0.2, random_state=42)\n",
        "\n",
        "# # Initialize StandardScaler\n",
        "# sc = StandardScaler()\n",
        "\n",
        "# # Fit and transform training data, transform testing data\n",
        "# X_train = sc.fit_transform(X_train)\n",
        "# X_test = sc.transform(X_test)\n",
        "\n",
        "# Transform features into polynomial features of degree 2\n",
        "poly = PolynomialFeatures(degree=2)\n",
        "X_train_poly = poly.fit_transform(X_train)\n",
        "X_test_poly = poly.transform(X_test)\n",
        "\n",
        "# Initialize LinearRegression model\n",
        "lr = LinearRegression()\n",
        "\n",
        "# Fit the polynomial features to the model\n",
        "lr.fit(X_train_poly, y_train)\n",
        "\n",
        "# Predict on the testing set\n",
        "y_pred = lr.predict(X_test_poly)\n",
        "\n",
        "# Calculate mean squared error\n",
        "mse = mean_squared_error(y_test, y_pred)\n",
        "\n",
        "# Print root mean squared error\n",
        "print(\"Root Mean Squared Error:\", np.sqrt(mse))\n",
        "\n",
        "# Plot predicted vs. actual energy values\n",
        "plt.scatter(y_pred, y_test)\n",
        "plt.title('Predicting Energy')\n",
        "plt.xlabel('Predicted Energy')\n",
        "plt.ylabel('Actual Energy')\n",
        "plt.show()"
      ],
      "metadata": {
        "id": "Kt02tDZAW5SV",
        "outputId": "6cc58185-804f-45dc-ba50-1e5d7f4607cc",
        "colab": {
          "base_uri": "https://localhost:8080/",
          "height": 489
        }
      },
      "execution_count": null,
      "outputs": [
        {
          "output_type": "stream",
          "name": "stdout",
          "text": [
            "Root Mean Squared Error: 0.14664460408301241\n"
          ]
        },
        {
          "output_type": "display_data",
          "data": {
            "text/plain": [
              "<Figure size 640x480 with 1 Axes>"
            ],
            "image/png": "[encoded data removed]"
          },
          "metadata": {}
        }
      ]
    },
    {
      "cell_type": "code",
      "source": [
        "# Transform features into polynomial features of degree 3\n",
        "poly = PolynomialFeatures(degree=3)\n",
        "X_train_poly = poly.fit_transform(X_train)\n",
        "X_test_poly = poly.transform(X_test)\n",
        "\n",
        "# Initialize LinearRegression model\n",
        "lr = LinearRegression()\n",
        "\n",
        "# Fit the polynomial features to the model\n",
        "lr.fit(X_train_poly, y_train)\n",
        "\n",
        "# Predict on the testing set\n",
        "y_pred = lr.predict(X_test_poly)\n",
        "\n",
        "# Calculate mean squared error\n",
        "mse = mean_squared_error(y_test, y_pred)\n",
        "\n",
        "# Print root mean squared error\n",
        "print(\"Root Mean Squared Error:\", np.sqrt(mse))\n",
        "\n",
        "# Plot predicted vs. actual energy values\n",
        "plt.scatter(y_pred, y_test)\n",
        "plt.title('Predicting Energy')\n",
        "plt.xlabel('Predicted Energy')\n",
        "plt.ylabel('Actual Energy')\n",
        "plt.show()"
      ],
      "metadata": {
        "outputId": "cc03e18c-34ad-49b4-a945-9e5fdf407901",
        "colab": {
          "base_uri": "https://localhost:8080/",
          "height": 489
        },
        "id": "3ILStFVYVjH-"
      },
      "execution_count": null,
      "outputs": [
        {
          "output_type": "stream",
          "name": "stdout",
          "text": [
            "Root Mean Squared Error: 0.14435144660062713\n"
          ]
        },
        {
          "output_type": "display_data",
          "data": {
            "text/plain": [
              "<Figure size 640x480 with 1 Axes>"
            ],
            "image/png": "[encoded data removed]"
          },
          "metadata": {}
        }
      ]
    },
    {
      "cell_type": "markdown",
      "source": [
        "We see that a polynomial value of 2 fits energy the best."
      ],
      "metadata": {
        "id": "UXJC0B2Fdimk"
      }
    },
    {
      "cell_type": "code",
      "source": [],
      "metadata": {
        "id": "jikrnM7KdlXO"
      },
      "execution_count": null,
      "outputs": []
    },
    {
      "cell_type": "markdown",
      "source": [
        "### Valence"
      ],
      "metadata": {
        "id": "nIv9jxRWxH30"
      }
    },
    {
      "cell_type": "code",
      "source": [],
      "metadata": {
        "id": "FnI1tkbaxJPK"
      },
      "execution_count": null,
      "outputs": []
    },
    {
      "cell_type": "code",
      "source": [
        "import numpy as np\n",
        "from sklearn.linear_model import LinearRegression\n",
        "from sklearn.metrics import mean_squared_error\n",
        "from sklearn.model_selection import train_test_split\n",
        "from sklearn.preprocessing import PolynomialFeatures, StandardScaler\n",
        "import matplotlib.pyplot as plt\n",
        "\n",
        "# Drop unnecessary columns\n",
        "df2 = df.drop(columns=['year', 'acousticness', 'artists', 'popularity', 'explicit', 'id', 'instrumentalness', 'liveness', 'name', 'release_date', 'speechiness'])\n",
        "\n",
        "# Split data into features (X) and target variable (y)\n",
        "X = df2.drop('valence', axis=1)\n",
        "y = df['valence']\n",
        "\n",
        "# Split data into training and testing sets\n",
        "X_train, X_test, y_train, y_test = train_test_split(X, y, test_size=0.2, random_state=42)\n",
        "\n",
        "# Initialize StandardScaler\n",
        "sc = StandardScaler()\n",
        "\n",
        "# Fit and transform training data, transform testing data\n",
        "X_train = sc.fit_transform(X_train)\n",
        "X_test = sc.transform(X_test)\n",
        "\n",
        "# Initialize LinearRegression model\n",
        "lr = LinearRegression()\n",
        "\n",
        "# Fit the polynomial features to the model\n",
        "lr.fit(X_train, y_train)\n",
        "\n",
        "# Predict on the testing set\n",
        "y_pred = lr.predict(X_test)\n",
        "\n",
        "# Calculate mean squared error\n",
        "mse = mean_squared_error(y_test, y_pred)\n",
        "\n",
        "# Print root mean squared error\n",
        "print(\"Root Mean Squared Error:\", np.sqrt(mse))\n",
        "\n",
        "# Plot predicted vs. actual energy values\n",
        "plt.scatter(y_pred, y_test)\n",
        "plt.title('Predicting Valence')\n",
        "plt.xlabel('Predicted Valence')\n",
        "plt.ylabel('Actual Valence')\n",
        "plt.show()"
      ],
      "metadata": {
        "id": "b64iFZhZxYZv",
        "outputId": "eb8430b4-62f3-4c0e-bbf6-97142f060469",
        "colab": {
          "base_uri": "https://localhost:8080/",
          "height": 489
        }
      },
      "execution_count": null,
      "outputs": [
        {
          "output_type": "stream",
          "name": "stdout",
          "text": [
            "Root Mean Squared Error: 0.2035714924595121\n"
          ]
        },
        {
          "output_type": "display_data",
          "data": {
            "text/plain": [
              "<Figure size 640x480 with 1 Axes>"
            ],
            "image/png": "[encoded data removed]"
          },
          "metadata": {}
        }
      ]
    },
    {
      "cell_type": "code",
      "source": [
        "import numpy as np\n",
        "import statsmodels.api as sm\n",
        "\n",
        "# Split data into training and testing sets\n",
        "X_train, X_test, y_train, y_test = train_test_split(X, y, test_size=0.2, random_state=42)\n",
        "\n",
        "column_names = X_train.columns\n",
        "\n",
        "# Initialize and apply StandardScaler\n",
        "sc = StandardScaler()\n",
        "X_train_scaled = sc.fit_transform(X_train)\n",
        "X_test_scaled = sc.transform(X_test)\n",
        "\n",
        "# Convert scaled arrays back into pandas DataFrames with column names\n",
        "X_train_scaled_df = pd.DataFrame(X_train_scaled, columns=column_names, index=X_train.index)\n",
        "X_test_scaled_df = pd.DataFrame(X_test_scaled, columns=column_names, index=X_test.index)\n",
        "\n",
        "# Add constant for intercept term\n",
        "X_train_sm = sm.add_constant(X_train_scaled_df)\n",
        "X_test_sm = sm.add_constant(X_test_scaled_df)\n",
        "\n",
        "# Fit the OLS model\n",
        "model = sm.OLS(y_train, X_train_sm)\n",
        "results = model.fit()\n",
        "\n",
        "# Print the summary with variable names\n",
        "print(results.summary())\n"
      ],
      "metadata": {
        "id": "RuZ3oSFfw0Gr",
        "outputId": "5eee568f-7af4-41cd-c8b0-89189c8208f7",
        "colab": {
          "base_uri": "https://localhost:8080/"
        }
      },
      "execution_count": null,
      "outputs": [
        {
          "output_type": "stream",
          "name": "stdout",
          "text": [
            "                            OLS Regression Results                            \n",
            "==============================================================================\n",
            "Dep. Variable:                valence   R-squared:                       0.401\n",
            "Model:                            OLS   Adj. R-squared:                  0.401\n",
            "Method:                 Least Squares   F-statistic:                 1.304e+04\n",
            "Date:                Sat, 23 Mar 2024   Prob (F-statistic):               0.00\n",
            "Time:                        19:24:07   Log-Likelihood:                 23464.\n",
            "No. Observations:              136522   AIC:                        -4.691e+04\n",
            "Df Residuals:                  136514   BIC:                        -4.683e+04\n",
            "Df Model:                           7                                         \n",
            "Covariance Type:            nonrobust                                         \n",
            "================================================================================\n",
            "                   coef    std err          t      P>|t|      [0.025      0.975]\n",
            "--------------------------------------------------------------------------------\n",
            "const            0.5287      0.001    958.693      0.000       0.528       0.530\n",
            "danceability     0.1319      0.001    226.079      0.000       0.131       0.133\n",
            "duration_ms     -0.0338      0.001    -60.254      0.000      -0.035      -0.033\n",
            "energy           0.0720      0.001     80.148      0.000       0.070       0.074\n",
            "key              0.0035      0.001      6.362      0.000       0.002       0.005\n",
            "loudness        -0.0177      0.001    -19.611      0.000      -0.019      -0.016\n",
            "mode             0.0120      0.001     21.593      0.000       0.011       0.013\n",
            "tempo            0.0295      0.001     51.686      0.000       0.028       0.031\n",
            "==============================================================================\n",
            "Omnibus:                      958.247   Durbin-Watson:                   2.001\n",
            "Prob(Omnibus):                  0.000   Jarque-Bera (JB):              948.964\n",
            "Skew:                          -0.189   Prob(JB):                    8.61e-207\n",
            "Kurtosis:                       2.846   Cond. No.                         3.08\n",
            "==============================================================================\n",
            "\n",
            "Notes:\n",
            "[1] Standard Errors assume that the covariance matrix of the errors is correctly specified.\n"
          ]
        }
      ]
    },
    {
      "cell_type": "markdown",
      "source": [
        "### Popularity"
      ],
      "metadata": {
        "id": "o3Vl3hFdxaBl"
      }
    },
    {
      "cell_type": "code",
      "source": [
        "# Drop unnecessary columns\n",
        "df2 = df.drop(columns=['year', 'acousticness', 'artists', 'explicit', 'id', 'instrumentalness', 'liveness', 'name', 'release_date', 'speechiness'])\n",
        "\n",
        "# Split data into features (X) and target variable (y)\n",
        "X = df2.drop('popularity', axis=1)\n",
        "y = df['popularity']\n",
        "\n",
        "# Split data into training and testing sets\n",
        "X_train, X_test, y_train, y_test = train_test_split(X, y, test_size=0.2, random_state=42)\n",
        "\n",
        "column_names = X_train.columns\n",
        "\n",
        "# Initialize and apply StandardScaler\n",
        "sc = StandardScaler()\n",
        "X_train_scaled = sc.fit_transform(X_train)\n",
        "X_test_scaled = sc.transform(X_test)\n",
        "\n",
        "# Convert scaled arrays back into pandas DataFrames with column names\n",
        "X_train_scaled_df = pd.DataFrame(X_train_scaled, columns=column_names, index=X_train.index)\n",
        "X_test_scaled_df = pd.DataFrame(X_test_scaled, columns=column_names, index=X_test.index)\n",
        "\n",
        "# Add constant for intercept term\n",
        "X_train_sm = sm.add_constant(X_train_scaled_df)\n",
        "X_test_sm = sm.add_constant(X_test_scaled_df)\n",
        "\n",
        "# Fit the OLS model\n",
        "model = sm.OLS(y_train, X_train_sm)\n",
        "results = model.fit()\n",
        "\n",
        "# Print the summary with variable names\n",
        "print(results.summary())"
      ],
      "metadata": {
        "id": "EIov2TzmxbkB",
        "outputId": "a3688d63-0e71-4a69-e150-43183d87a597",
        "colab": {
          "base_uri": "https://localhost:8080/"
        }
      },
      "execution_count": null,
      "outputs": [
        {
          "output_type": "stream",
          "name": "stdout",
          "text": [
            "                            OLS Regression Results                            \n",
            "==============================================================================\n",
            "Dep. Variable:             popularity   R-squared:                       0.322\n",
            "Model:                            OLS   Adj. R-squared:                  0.322\n",
            "Method:                 Least Squares   F-statistic:                     8104.\n",
            "Date:                Sat, 23 Mar 2024   Prob (F-statistic):               0.00\n",
            "Time:                        19:25:13   Log-Likelihood:            -5.8803e+05\n",
            "No. Observations:              136522   AIC:                         1.176e+06\n",
            "Df Residuals:                  136513   BIC:                         1.176e+06\n",
            "Df Model:                           8                                         \n",
            "Covariance Type:            nonrobust                                         \n",
            "================================================================================\n",
            "                   coef    std err          t      P>|t|      [0.025      0.975]\n",
            "--------------------------------------------------------------------------------\n",
            "const           31.4388      0.049    646.684      0.000      31.344      31.534\n",
            "valence         -7.0528      0.063   -112.307      0.000      -7.176      -6.930\n",
            "danceability     5.4260      0.060     89.969      0.000       5.308       5.544\n",
            "duration_ms      0.3795      0.050      7.585      0.000       0.281       0.478\n",
            "energy           8.8260      0.081    108.905      0.000       8.667       8.985\n",
            "key             -0.1077      0.049     -2.199      0.028      -0.204      -0.012\n",
            "loudness         3.4881      0.080     43.805      0.000       3.332       3.644\n",
            "mode             0.1351      0.049      2.746      0.006       0.039       0.232\n",
            "tempo            1.1600      0.051     22.809      0.000       1.060       1.260\n",
            "==============================================================================\n",
            "Omnibus:                      784.229   Durbin-Watson:                   2.003\n",
            "Prob(Omnibus):                  0.000   Jarque-Bera (JB):              774.899\n",
            "Skew:                           0.170   Prob(JB):                    5.41e-169\n",
            "Kurtosis:                       2.857   Cond. No.                         3.41\n",
            "==============================================================================\n",
            "\n",
            "Notes:\n",
            "[1] Standard Errors assume that the covariance matrix of the errors is correctly specified.\n"
          ]
        }
      ]
    },
    {
      "cell_type": "markdown",
      "source": [
        "Looking at the t-statistics, `valence`, `energy`, and `danceability` are the most significant variables."
      ],
      "metadata": {
        "id": "s_907G06xxxF"
      }
    },
    {
      "cell_type": "markdown",
      "source": [
        "After doing this preliminary modeling among the features we can't engineer, it seems like `danceability` and `energy` are good candidates for imputation through additional models. `Mode` can be calculated simply by using the major/minor key of the piece along with the overall prevelance of major vs minor chords (ex. 50 bars of major chords vs 10 bars of minor chords would score high in valence)<br>Other non-feature engineerable variables such as `liveness` we will have to drop which is fine as it doesn't contain much variance in its distribution."
      ],
      "metadata": {
        "id": "6sGerbeTytGZ"
      }
    },
    {
      "cell_type": "code",
      "source": [],
      "metadata": {
        "id": "2pM7QMm4zHSa"
      },
      "execution_count": null,
      "outputs": []
    },
    {
      "cell_type": "markdown",
      "source": [
        "# Data Preprocessing"
      ],
      "metadata": {
        "id": "KnmQ2c7-W110"
      }
    },
    {
      "cell_type": "code",
      "source": [
        "df.info()"
      ],
      "metadata": {
        "id": "M40NZ7mBW3bV",
        "outputId": "2b1df222-97e6-447b-f445-839ace96f6a9",
        "colab": {
          "base_uri": "https://localhost:8080/"
        }
      },
      "execution_count": 5,
      "outputs": [
        {
          "output_type": "stream",
          "name": "stdout",
          "text": [
            "<class 'pandas.core.frame.DataFrame'>\n",
            "RangeIndex: 170653 entries, 0 to 170652\n",
            "Data columns (total 19 columns):\n",
            " #   Column            Non-Null Count   Dtype  \n",
            "---  ------            --------------   -----  \n",
            " 0   valence           170653 non-null  float64\n",
            " 1   year              170653 non-null  int64  \n",
            " 2   acousticness      170653 non-null  float64\n",
            " 3   artists           170653 non-null  object \n",
            " 4   danceability      170653 non-null  float64\n",
            " 5   duration_ms       170653 non-null  int64  \n",
            " 6   energy            170653 non-null  float64\n",
            " 7   explicit          170653 non-null  int64  \n",
            " 8   id                170653 non-null  object \n",
            " 9   instrumentalness  170653 non-null  float64\n",
            " 10  key               170653 non-null  int64  \n",
            " 11  liveness          170653 non-null  float64\n",
            " 12  loudness          170653 non-null  float64\n",
            " 13  mode              170653 non-null  int64  \n",
            " 14  name              170653 non-null  object \n",
            " 15  popularity        170653 non-null  int64  \n",
            " 16  release_date      170653 non-null  object \n",
            " 17  speechiness       170653 non-null  float64\n",
            " 18  tempo             170653 non-null  float64\n",
            "dtypes: float64(9), int64(6), object(4)\n",
            "memory usage: 24.7+ MB\n"
          ]
        }
      ]
    },
    {
      "cell_type": "code",
      "source": [
        "# Remove unnecessary columns\n",
        "X = df.drop(columns=['year', 'acousticness', 'artists', 'explicit', 'id', 'instrumentalness', 'liveness', 'name', 'release_date', 'speechiness', 'popularity'])\n",
        "y = df['popularity']"
      ],
      "metadata": {
        "id": "bUgrJqEkW7qi"
      },
      "execution_count": 5,
      "outputs": []
    },
    {
      "cell_type": "code",
      "source": [
        "# Splitting\n",
        "from sklearn.model_selection import train_test_split\n",
        "X_train, X_test, y_train, y_test = train_test_split(X, y, test_size=0.2, random_state=22)"
      ],
      "metadata": {
        "id": "qatyPePXXRCx"
      },
      "execution_count": 6,
      "outputs": []
    },
    {
      "cell_type": "code",
      "source": [
        "# Scaling\n",
        "from sklearn.preprocessing import StandardScaler\n",
        "sc = StandardScaler()\n",
        "X_train_scaled = sc.fit_transform(X_train)\n",
        "X_test_scaled = sc.transform(X_test)"
      ],
      "metadata": {
        "id": "cfKCI9COXWMo"
      },
      "execution_count": 7,
      "outputs": []
    },
    {
      "cell_type": "code",
      "source": [
        "X_train_scaled.shape, X_test_scaled.shape"
      ],
      "metadata": {
        "id": "qjSrajFHXYkS",
        "outputId": "1ff8ce7a-dcb7-47de-bd88-87e092c03a06",
        "colab": {
          "base_uri": "https://localhost:8080/"
        }
      },
      "execution_count": 8,
      "outputs": [
        {
          "output_type": "execute_result",
          "data": {
            "text/plain": [
              "((136522, 8), (34131, 8))"
            ]
          },
          "metadata": {},
          "execution_count": 8
        }
      ]
    },
    {
      "cell_type": "markdown",
      "source": [
        "# Modeling"
      ],
      "metadata": {
        "id": "b97dWVcmXeJ8"
      }
    },
    {
      "cell_type": "markdown",
      "source": [
        "## Random Forest"
      ],
      "metadata": {
        "id": "FNK3mkrnadlI"
      }
    },
    {
      "cell_type": "code",
      "source": [
        "from sklearn.ensemble import RandomForestRegressor\n",
        "from sklearn.metrics import mean_squared_error, r2_score"
      ],
      "metadata": {
        "id": "e3z0-49uafCm"
      },
      "execution_count": null,
      "outputs": []
    },
    {
      "cell_type": "code",
      "source": [
        "rf = RandomForestRegressor()\n",
        "rf.fit(X_train_scaled, y_train)"
      ],
      "metadata": {
        "id": "XuHYzCG4ahjK",
        "outputId": "009c6f44-0379-45f5-c9d5-c5b1c1a997ae",
        "colab": {
          "base_uri": "https://localhost:8080/",
          "height": 74
        }
      },
      "execution_count": null,
      "outputs": [
        {
          "output_type": "execute_result",
          "data": {
            "text/plain": [
              "RandomForestRegressor()"
            ],
            "text/html": [
              "<style>#sk-container-id-4 {color: black;background-color: white;}#sk-container-id-4 pre{padding: 0;}#sk-container-id-4 div.sk-toggleable {background-color: white;}#sk-container-id-4 label.sk-toggleable__label {cursor: pointer;display: block;width: 100%;margin-bottom: 0;padding: 0.3em;box-sizing: border-box;text-align: center;}#sk-container-id-4 label.sk-toggleable__label-arrow:before {content: \"▸\";float: left;margin-right: 0.25em;color: #696969;}#sk-container-id-4 label.sk-toggleable__label-arrow:hover:before {color: black;}#sk-container-id-4 div.sk-estimator:hover label.sk-toggleable__label-arrow:before {color: black;}#sk-container-id-4 div.sk-toggleable__content {max-height: 0;max-width: 0;overflow: hidden;text-align: left;background-color: #f0f8ff;}#sk-container-id-4 div.sk-toggleable__content pre {margin: 0.2em;color: black;border-radius: 0.25em;background-color: #f0f8ff;}#sk-container-id-4 input.sk-toggleable__control:checked~div.sk-toggleable__content {max-height: 200px;max-width: 100%;overflow: auto;}#sk-container-id-4 input.sk-toggleable__control:checked~label.sk-toggleable__label-arrow:before {content: \"▾\";}#sk-container-id-4 div.sk-estimator input.sk-toggleable__control:checked~label.sk-toggleable__label {background-color: #d4ebff;}#sk-container-id-4 div.sk-label input.sk-toggleable__control:checked~label.sk-toggleable__label {background-color: #d4ebff;}#sk-container-id-4 input.sk-hidden--visually {border: 0;clip: rect(1px 1px 1px 1px);clip: rect(1px, 1px, 1px, 1px);height: 1px;margin: -1px;overflow: hidden;padding: 0;position: absolute;width: 1px;}#sk-container-id-4 div.sk-estimator {font-family: monospace;background-color: #f0f8ff;border: 1px dotted black;border-radius: 0.25em;box-sizing: border-box;margin-bottom: 0.5em;}#sk-container-id-4 div.sk-estimator:hover {background-color: #d4ebff;}#sk-container-id-4 div.sk-parallel-item::after {content: \"\";width: 100%;border-bottom: 1px solid gray;flex-grow: 1;}#sk-container-id-4 div.sk-label:hover label.sk-toggleable__label {background-color: #d4ebff;}#sk-container-id-4 div.sk-serial::before {content: \"\";position: absolute;border-left: 1px solid gray;box-sizing: border-box;top: 0;bottom: 0;left: 50%;z-index: 0;}#sk-container-id-4 div.sk-serial {display: flex;flex-direction: column;align-items: center;background-color: white;padding-right: 0.2em;padding-left: 0.2em;position: relative;}#sk-container-id-4 div.sk-item {position: relative;z-index: 1;}#sk-container-id-4 div.sk-parallel {display: flex;align-items: stretch;justify-content: center;background-color: white;position: relative;}#sk-container-id-4 div.sk-item::before, #sk-container-id-4 div.sk-parallel-item::before {content: \"\";position: absolute;border-left: 1px solid gray;box-sizing: border-box;top: 0;bottom: 0;left: 50%;z-index: -1;}#sk-container-id-4 div.sk-parallel-item {display: flex;flex-direction: column;z-index: 1;position: relative;background-color: white;}#sk-container-id-4 div.sk-parallel-item:first-child::after {align-self: flex-end;width: 50%;}#sk-container-id-4 div.sk-parallel-item:last-child::after {align-self: flex-start;width: 50%;}#sk-container-id-4 div.sk-parallel-item:only-child::after {width: 0;}#sk-container-id-4 div.sk-dashed-wrapped {border: 1px dashed gray;margin: 0 0.4em 0.5em 0.4em;box-sizing: border-box;padding-bottom: 0.4em;background-color: white;}#sk-container-id-4 div.sk-label label {font-family: monospace;font-weight: bold;display: inline-block;line-height: 1.2em;}#sk-container-id-4 div.sk-label-container {text-align: center;}#sk-container-id-4 div.sk-container {/* jupyter's `normalize.less` sets `[hidden] { display: none; }` but bootstrap.min.css set `[hidden] { display: none !important; }` so we also need the `!important` here to be able to override the default hidden behavior on the sphinx rendered scikit-learn.org. See: https://github.com/scikit-learn/scikit-learn/issues/21755 */display: inline-block !important;position: relative;}#sk-container-id-4 div.sk-text-repr-fallback {display: none;}</style><div id=\"sk-container-id-4\" class=\"sk-top-container\"><div class=\"sk-text-repr-fallback\"><pre>RandomForestRegressor()</pre><b>In a Jupyter environment, please rerun this cell to show the HTML representation or trust the notebook. <br />On GitHub, the HTML representation is unable to render, please try loading this page with nbviewer.org.</b></div><div class=\"sk-container\" hidden><div class=\"sk-item\"><div class=\"sk-estimator sk-toggleable\"><input class=\"sk-toggleable__control sk-hidden--visually\" id=\"sk-estimator-id-6\" type=\"checkbox\" checked><label for=\"sk-estimator-id-6\" class=\"sk-toggleable__label sk-toggleable__label-arrow\">RandomForestRegressor</label><div class=\"sk-toggleable__content\"><pre>RandomForestRegressor()</pre></div></div></div></div></div>"
            ]
          },
          "metadata": {},
          "execution_count": 31
        }
      ]
    },
    {
      "cell_type": "code",
      "source": [
        "# Predict on the test set\n",
        "y_pred_baseline = rf.predict(X_test_scaled)\n",
        "\n",
        "# Calculate RMSE and R2 for the baseline model\n",
        "rmse_baseline = np.sqrt(mean_squared_error(y_test, y_pred_baseline))\n",
        "r2_baseline = r2_score(y_test, y_pred_baseline)\n",
        "\n",
        "print(f\"Baseline RMSE: {rmse_baseline:.2f}\")\n",
        "print(f\"Baseline R2: {r2_baseline:.2f}\")"
      ],
      "metadata": {
        "id": "8LH_TUGMajYB",
        "outputId": "ebb9ca92-c74d-4771-f6a1-50db2646db9f",
        "colab": {
          "base_uri": "https://localhost:8080/"
        }
      },
      "execution_count": null,
      "outputs": [
        {
          "output_type": "stream",
          "name": "stdout",
          "text": [
            "Baseline RMSE: 15.90\n",
            "Baseline R2: 0.47\n"
          ]
        }
      ]
    },
    {
      "cell_type": "markdown",
      "source": [
        "## Artificial Neural Network (ANN)\n",
        "We will implement a ANN with two hidden layers and utilize the swish and relu activation functions along with some dropout regularization."
      ],
      "metadata": {
        "id": "NdxbHMIQVytC"
      }
    },
    {
      "cell_type": "code",
      "source": [
        "import tensorflow as tf\n",
        "from tensorflow.keras.models import Sequential\n",
        "from tensorflow.keras.layers import Dense, Dropout\n",
        "from tensorflow.keras.optimizers import Adam\n",
        "from sklearn.model_selection import train_test_split\n",
        "from sklearn.preprocessing import StandardScaler\n",
        "import numpy as np"
      ],
      "metadata": {
        "id": "alysJ1DhV5g_"
      },
      "execution_count": 9,
      "outputs": []
    },
    {
      "cell_type": "code",
      "source": [
        "model = Sequential([\n",
        "    Dense(256, activation='swish', input_shape=(X_train.shape[1],)),\n",
        "    Dropout(0.4),\n",
        "    Dense(128, activation='swish', input_shape=(X_train.shape[1],)),\n",
        "    Dropout(0.3),\n",
        "    Dense(64, activation='relu'),\n",
        "    Dense(1)  # Output layer for regression; no activation function\n",
        "])\n",
        "\n",
        "# Compile the model\n",
        "model.compile(optimizer=Adam(learning_rate=0.001),\n",
        "              loss='mean_squared_error',\n",
        "              metrics=['mean_squared_error', 'mean_absolute_error'])"
      ],
      "metadata": {
        "id": "NFKL-h4cXGYg"
      },
      "execution_count": 14,
      "outputs": []
    },
    {
      "cell_type": "code",
      "source": [
        "history = model.fit(X_train_scaled, y_train, epochs=100, batch_size=32, validation_split=0.2, verbose=1)"
      ],
      "metadata": {
        "id": "1V41EKoLbcsk",
        "outputId": "9a6d2130-59df-40ad-baec-796df1d7e6e4",
        "colab": {
          "base_uri": "https://localhost:8080/"
        }
      },
      "execution_count": 15,
      "outputs": [
        {
          "output_type": "stream",
          "name": "stdout",
          "text": [
            "Epoch 1/100\n",
            "3414/3414 [==============================] - 14s 4ms/step - loss: 317.8004 - mean_squared_error: 317.8004 - mean_absolute_error: 14.0963 - val_loss: 274.4798 - val_mean_squared_error: 274.4798 - val_mean_absolute_error: 13.1689\n",
            "Epoch 2/100\n",
            "3414/3414 [==============================] - 12s 4ms/step - loss: 281.8569 - mean_squared_error: 281.8569 - mean_absolute_error: 13.3856 - val_loss: 270.0283 - val_mean_squared_error: 270.0283 - val_mean_absolute_error: 13.0835\n",
            "Epoch 3/100\n",
            "3414/3414 [==============================] - 12s 4ms/step - loss: 278.5670 - mean_squared_error: 278.5670 - mean_absolute_error: 13.2899 - val_loss: 266.3301 - val_mean_squared_error: 266.3301 - val_mean_absolute_error: 13.0244\n",
            "Epoch 4/100\n",
            "3414/3414 [==============================] - 12s 4ms/step - loss: 276.1781 - mean_squared_error: 276.1781 - mean_absolute_error: 13.2257 - val_loss: 266.1433 - val_mean_squared_error: 266.1433 - val_mean_absolute_error: 13.0195\n",
            "Epoch 5/100\n",
            "3414/3414 [==============================] - 12s 4ms/step - loss: 274.1781 - mean_squared_error: 274.1781 - mean_absolute_error: 13.1664 - val_loss: 264.6212 - val_mean_squared_error: 264.6212 - val_mean_absolute_error: 12.8713\n",
            "Epoch 6/100\n",
            "3414/3414 [==============================] - 12s 4ms/step - loss: 272.9098 - mean_squared_error: 272.9098 - mean_absolute_error: 13.1221 - val_loss: 263.3578 - val_mean_squared_error: 263.3578 - val_mean_absolute_error: 12.8628\n",
            "Epoch 7/100\n",
            "3414/3414 [==============================] - 12s 4ms/step - loss: 271.7057 - mean_squared_error: 271.7057 - mean_absolute_error: 13.0928 - val_loss: 261.2048 - val_mean_squared_error: 261.2048 - val_mean_absolute_error: 12.7584\n",
            "Epoch 8/100\n",
            "3414/3414 [==============================] - 12s 4ms/step - loss: 270.8221 - mean_squared_error: 270.8221 - mean_absolute_error: 13.0575 - val_loss: 263.9655 - val_mean_squared_error: 263.9655 - val_mean_absolute_error: 12.7048\n",
            "Epoch 9/100\n",
            "3414/3414 [==============================] - 12s 4ms/step - loss: 269.4661 - mean_squared_error: 269.4661 - mean_absolute_error: 13.0274 - val_loss: 262.0012 - val_mean_squared_error: 262.0012 - val_mean_absolute_error: 12.7829\n",
            "Epoch 10/100\n",
            "3414/3414 [==============================] - 12s 4ms/step - loss: 269.0785 - mean_squared_error: 269.0785 - mean_absolute_error: 13.0036 - val_loss: 260.6263 - val_mean_squared_error: 260.6263 - val_mean_absolute_error: 12.8441\n",
            "Epoch 11/100\n",
            "3414/3414 [==============================] - 12s 4ms/step - loss: 268.7346 - mean_squared_error: 268.7346 - mean_absolute_error: 12.9947 - val_loss: 260.3318 - val_mean_squared_error: 260.3318 - val_mean_absolute_error: 12.7654\n",
            "Epoch 12/100\n",
            "3414/3414 [==============================] - 12s 3ms/step - loss: 267.6558 - mean_squared_error: 267.6558 - mean_absolute_error: 12.9639 - val_loss: 258.9703 - val_mean_squared_error: 258.9703 - val_mean_absolute_error: 12.7607\n",
            "Epoch 13/100\n",
            "3414/3414 [==============================] - 12s 4ms/step - loss: 266.9523 - mean_squared_error: 266.9523 - mean_absolute_error: 12.9469 - val_loss: 262.2930 - val_mean_squared_error: 262.2930 - val_mean_absolute_error: 12.7443\n",
            "Epoch 14/100\n",
            "3414/3414 [==============================] - 12s 4ms/step - loss: 266.7876 - mean_squared_error: 266.7876 - mean_absolute_error: 12.9467 - val_loss: 258.6114 - val_mean_squared_error: 258.6114 - val_mean_absolute_error: 12.6275\n",
            "Epoch 15/100\n",
            "3414/3414 [==============================] - 12s 4ms/step - loss: 265.5691 - mean_squared_error: 265.5691 - mean_absolute_error: 12.9034 - val_loss: 260.3763 - val_mean_squared_error: 260.3763 - val_mean_absolute_error: 12.7597\n",
            "Epoch 16/100\n",
            "3414/3414 [==============================] - 12s 4ms/step - loss: 266.0779 - mean_squared_error: 266.0779 - mean_absolute_error: 12.9164 - val_loss: 259.7497 - val_mean_squared_error: 259.7497 - val_mean_absolute_error: 12.6861\n",
            "Epoch 17/100\n",
            "3414/3414 [==============================] - 12s 4ms/step - loss: 266.1772 - mean_squared_error: 266.1772 - mean_absolute_error: 12.9085 - val_loss: 258.2988 - val_mean_squared_error: 258.2988 - val_mean_absolute_error: 12.6394\n",
            "Epoch 18/100\n",
            "3414/3414 [==============================] - 12s 4ms/step - loss: 265.6329 - mean_squared_error: 265.6329 - mean_absolute_error: 12.9057 - val_loss: 260.5124 - val_mean_squared_error: 260.5124 - val_mean_absolute_error: 12.7597\n",
            "Epoch 19/100\n",
            "3414/3414 [==============================] - 12s 3ms/step - loss: 264.6950 - mean_squared_error: 264.6950 - mean_absolute_error: 12.8690 - val_loss: 258.3246 - val_mean_squared_error: 258.3246 - val_mean_absolute_error: 12.7077\n",
            "Epoch 20/100\n",
            "3414/3414 [==============================] - 12s 4ms/step - loss: 264.3952 - mean_squared_error: 264.3952 - mean_absolute_error: 12.8655 - val_loss: 260.7878 - val_mean_squared_error: 260.7878 - val_mean_absolute_error: 12.6713\n",
            "Epoch 21/100\n",
            "3414/3414 [==============================] - 12s 4ms/step - loss: 264.3872 - mean_squared_error: 264.3872 - mean_absolute_error: 12.8462 - val_loss: 256.6990 - val_mean_squared_error: 256.6990 - val_mean_absolute_error: 12.5548\n",
            "Epoch 22/100\n",
            "3414/3414 [==============================] - 12s 4ms/step - loss: 264.3161 - mean_squared_error: 264.3161 - mean_absolute_error: 12.8542 - val_loss: 258.1019 - val_mean_squared_error: 258.1019 - val_mean_absolute_error: 12.5515\n",
            "Epoch 23/100\n",
            "3414/3414 [==============================] - 12s 4ms/step - loss: 264.4294 - mean_squared_error: 264.4294 - mean_absolute_error: 12.8551 - val_loss: 259.5710 - val_mean_squared_error: 259.5710 - val_mean_absolute_error: 12.5874\n",
            "Epoch 24/100\n",
            "3414/3414 [==============================] - 12s 4ms/step - loss: 264.2788 - mean_squared_error: 264.2788 - mean_absolute_error: 12.8582 - val_loss: 257.6660 - val_mean_squared_error: 257.6660 - val_mean_absolute_error: 12.5897\n",
            "Epoch 25/100\n",
            "3414/3414 [==============================] - 12s 4ms/step - loss: 263.5908 - mean_squared_error: 263.5908 - mean_absolute_error: 12.8333 - val_loss: 257.4392 - val_mean_squared_error: 257.4392 - val_mean_absolute_error: 12.5506\n",
            "Epoch 26/100\n",
            "3414/3414 [==============================] - 12s 3ms/step - loss: 263.8497 - mean_squared_error: 263.8497 - mean_absolute_error: 12.8408 - val_loss: 257.2019 - val_mean_squared_error: 257.2019 - val_mean_absolute_error: 12.5983\n",
            "Epoch 27/100\n",
            "3414/3414 [==============================] - 12s 4ms/step - loss: 263.2777 - mean_squared_error: 263.2777 - mean_absolute_error: 12.8124 - val_loss: 260.5876 - val_mean_squared_error: 260.5876 - val_mean_absolute_error: 12.6433\n",
            "Epoch 28/100\n",
            "3414/3414 [==============================] - 12s 4ms/step - loss: 263.0105 - mean_squared_error: 263.0105 - mean_absolute_error: 12.8214 - val_loss: 259.0127 - val_mean_squared_error: 259.0127 - val_mean_absolute_error: 12.6491\n",
            "Epoch 29/100\n",
            "3414/3414 [==============================] - 12s 4ms/step - loss: 263.4825 - mean_squared_error: 263.4825 - mean_absolute_error: 12.8282 - val_loss: 257.9860 - val_mean_squared_error: 257.9860 - val_mean_absolute_error: 12.5495\n",
            "Epoch 30/100\n",
            "3414/3414 [==============================] - 12s 4ms/step - loss: 262.8477 - mean_squared_error: 262.8477 - mean_absolute_error: 12.8090 - val_loss: 256.3639 - val_mean_squared_error: 256.3639 - val_mean_absolute_error: 12.5483\n",
            "Epoch 31/100\n",
            "3414/3414 [==============================] - 12s 4ms/step - loss: 262.8304 - mean_squared_error: 262.8304 - mean_absolute_error: 12.8056 - val_loss: 257.9814 - val_mean_squared_error: 257.9814 - val_mean_absolute_error: 12.6699\n",
            "Epoch 32/100\n",
            "3414/3414 [==============================] - 12s 3ms/step - loss: 263.0796 - mean_squared_error: 263.0796 - mean_absolute_error: 12.8216 - val_loss: 256.0980 - val_mean_squared_error: 256.0980 - val_mean_absolute_error: 12.5400\n",
            "Epoch 33/100\n",
            "3414/3414 [==============================] - 12s 4ms/step - loss: 262.6263 - mean_squared_error: 262.6263 - mean_absolute_error: 12.8092 - val_loss: 257.2968 - val_mean_squared_error: 257.2968 - val_mean_absolute_error: 12.4899\n",
            "Epoch 34/100\n",
            "3414/3414 [==============================] - 12s 4ms/step - loss: 262.5248 - mean_squared_error: 262.5248 - mean_absolute_error: 12.7946 - val_loss: 257.7208 - val_mean_squared_error: 257.7208 - val_mean_absolute_error: 12.5250\n",
            "Epoch 35/100\n",
            "3414/3414 [==============================] - 12s 4ms/step - loss: 262.8478 - mean_squared_error: 262.8478 - mean_absolute_error: 12.8111 - val_loss: 258.9378 - val_mean_squared_error: 258.9378 - val_mean_absolute_error: 12.7016\n",
            "Epoch 36/100\n",
            "3414/3414 [==============================] - 12s 4ms/step - loss: 262.0516 - mean_squared_error: 262.0516 - mean_absolute_error: 12.7801 - val_loss: 257.7115 - val_mean_squared_error: 257.7115 - val_mean_absolute_error: 12.5657\n",
            "Epoch 37/100\n",
            "3414/3414 [==============================] - 12s 4ms/step - loss: 261.5113 - mean_squared_error: 261.5113 - mean_absolute_error: 12.7757 - val_loss: 256.4364 - val_mean_squared_error: 256.4364 - val_mean_absolute_error: 12.4797\n",
            "Epoch 38/100\n",
            "3414/3414 [==============================] - 12s 4ms/step - loss: 261.9642 - mean_squared_error: 261.9642 - mean_absolute_error: 12.7767 - val_loss: 255.6626 - val_mean_squared_error: 255.6626 - val_mean_absolute_error: 12.5466\n",
            "Epoch 39/100\n",
            "3414/3414 [==============================] - 12s 4ms/step - loss: 262.3245 - mean_squared_error: 262.3245 - mean_absolute_error: 12.8027 - val_loss: 257.8017 - val_mean_squared_error: 257.8017 - val_mean_absolute_error: 12.6295\n",
            "Epoch 40/100\n",
            "3414/3414 [==============================] - 12s 4ms/step - loss: 261.6584 - mean_squared_error: 261.6584 - mean_absolute_error: 12.7707 - val_loss: 257.4678 - val_mean_squared_error: 257.4678 - val_mean_absolute_error: 12.5209\n",
            "Epoch 41/100\n",
            "3414/3414 [==============================] - 12s 4ms/step - loss: 261.7991 - mean_squared_error: 261.7991 - mean_absolute_error: 12.7746 - val_loss: 255.3355 - val_mean_squared_error: 255.3355 - val_mean_absolute_error: 12.6031\n",
            "Epoch 42/100\n",
            "3414/3414 [==============================] - 12s 4ms/step - loss: 261.3471 - mean_squared_error: 261.3471 - mean_absolute_error: 12.7740 - val_loss: 254.5324 - val_mean_squared_error: 254.5324 - val_mean_absolute_error: 12.5147\n",
            "Epoch 43/100\n",
            "3414/3414 [==============================] - 12s 4ms/step - loss: 261.4362 - mean_squared_error: 261.4362 - mean_absolute_error: 12.7624 - val_loss: 255.9068 - val_mean_squared_error: 255.9068 - val_mean_absolute_error: 12.5477\n",
            "Epoch 44/100\n",
            "3414/3414 [==============================] - 12s 4ms/step - loss: 261.3238 - mean_squared_error: 261.3238 - mean_absolute_error: 12.7556 - val_loss: 256.3789 - val_mean_squared_error: 256.3789 - val_mean_absolute_error: 12.5102\n",
            "Epoch 45/100\n",
            "3414/3414 [==============================] - 12s 4ms/step - loss: 261.0572 - mean_squared_error: 261.0572 - mean_absolute_error: 12.7592 - val_loss: 255.2226 - val_mean_squared_error: 255.2226 - val_mean_absolute_error: 12.5090\n",
            "Epoch 46/100\n",
            "3414/3414 [==============================] - 12s 4ms/step - loss: 261.4452 - mean_squared_error: 261.4452 - mean_absolute_error: 12.7644 - val_loss: 255.9379 - val_mean_squared_error: 255.9379 - val_mean_absolute_error: 12.5960\n",
            "Epoch 47/100\n",
            "3414/3414 [==============================] - 12s 4ms/step - loss: 261.1292 - mean_squared_error: 261.1292 - mean_absolute_error: 12.7601 - val_loss: 255.0507 - val_mean_squared_error: 255.0507 - val_mean_absolute_error: 12.5001\n",
            "Epoch 48/100\n",
            "3414/3414 [==============================] - 12s 4ms/step - loss: 260.8683 - mean_squared_error: 260.8683 - mean_absolute_error: 12.7450 - val_loss: 254.6526 - val_mean_squared_error: 254.6526 - val_mean_absolute_error: 12.5134\n",
            "Epoch 49/100\n",
            "3414/3414 [==============================] - 12s 4ms/step - loss: 260.5815 - mean_squared_error: 260.5815 - mean_absolute_error: 12.7373 - val_loss: 255.2518 - val_mean_squared_error: 255.2518 - val_mean_absolute_error: 12.6557\n",
            "Epoch 50/100\n",
            "3414/3414 [==============================] - 12s 4ms/step - loss: 260.7033 - mean_squared_error: 260.7033 - mean_absolute_error: 12.7349 - val_loss: 255.3247 - val_mean_squared_error: 255.3247 - val_mean_absolute_error: 12.5405\n",
            "Epoch 51/100\n",
            "3414/3414 [==============================] - 12s 4ms/step - loss: 260.5293 - mean_squared_error: 260.5293 - mean_absolute_error: 12.7415 - val_loss: 256.3207 - val_mean_squared_error: 256.3207 - val_mean_absolute_error: 12.5802\n",
            "Epoch 52/100\n",
            "3414/3414 [==============================] - 12s 4ms/step - loss: 260.3823 - mean_squared_error: 260.3823 - mean_absolute_error: 12.7245 - val_loss: 256.9607 - val_mean_squared_error: 256.9607 - val_mean_absolute_error: 12.6731\n",
            "Epoch 53/100\n",
            "3414/3414 [==============================] - 12s 4ms/step - loss: 259.9893 - mean_squared_error: 259.9893 - mean_absolute_error: 12.7310 - val_loss: 255.0220 - val_mean_squared_error: 255.0220 - val_mean_absolute_error: 12.4703\n",
            "Epoch 54/100\n",
            "3414/3414 [==============================] - 12s 4ms/step - loss: 260.2348 - mean_squared_error: 260.2348 - mean_absolute_error: 12.7391 - val_loss: 254.9870 - val_mean_squared_error: 254.9870 - val_mean_absolute_error: 12.4223\n",
            "Epoch 55/100\n",
            "3414/3414 [==============================] - 12s 4ms/step - loss: 260.1057 - mean_squared_error: 260.1057 - mean_absolute_error: 12.7216 - val_loss: 254.6869 - val_mean_squared_error: 254.6869 - val_mean_absolute_error: 12.5627\n",
            "Epoch 56/100\n",
            "3414/3414 [==============================] - 12s 4ms/step - loss: 259.4167 - mean_squared_error: 259.4167 - mean_absolute_error: 12.7111 - val_loss: 256.7057 - val_mean_squared_error: 256.7057 - val_mean_absolute_error: 12.5452\n",
            "Epoch 57/100\n",
            "3414/3414 [==============================] - 12s 4ms/step - loss: 260.1712 - mean_squared_error: 260.1712 - mean_absolute_error: 12.7285 - val_loss: 256.1439 - val_mean_squared_error: 256.1439 - val_mean_absolute_error: 12.4840\n",
            "Epoch 58/100\n",
            "3414/3414 [==============================] - 12s 4ms/step - loss: 260.5582 - mean_squared_error: 260.5582 - mean_absolute_error: 12.7382 - val_loss: 255.0903 - val_mean_squared_error: 255.0903 - val_mean_absolute_error: 12.4748\n",
            "Epoch 59/100\n",
            "3414/3414 [==============================] - 12s 4ms/step - loss: 260.1963 - mean_squared_error: 260.1963 - mean_absolute_error: 12.7251 - val_loss: 255.0378 - val_mean_squared_error: 255.0378 - val_mean_absolute_error: 12.5573\n",
            "Epoch 60/100\n",
            "3414/3414 [==============================] - 12s 4ms/step - loss: 259.9296 - mean_squared_error: 259.9296 - mean_absolute_error: 12.7169 - val_loss: 256.4130 - val_mean_squared_error: 256.4130 - val_mean_absolute_error: 12.5561\n",
            "Epoch 61/100\n",
            "3414/3414 [==============================] - 12s 4ms/step - loss: 260.0853 - mean_squared_error: 260.0853 - mean_absolute_error: 12.7171 - val_loss: 255.4149 - val_mean_squared_error: 255.4149 - val_mean_absolute_error: 12.5493\n",
            "Epoch 62/100\n",
            "3414/3414 [==============================] - 12s 4ms/step - loss: 259.7764 - mean_squared_error: 259.7764 - mean_absolute_error: 12.7105 - val_loss: 256.2194 - val_mean_squared_error: 256.2194 - val_mean_absolute_error: 12.5409\n",
            "Epoch 63/100\n",
            "3414/3414 [==============================] - 12s 4ms/step - loss: 259.9306 - mean_squared_error: 259.9306 - mean_absolute_error: 12.7072 - val_loss: 255.3922 - val_mean_squared_error: 255.3922 - val_mean_absolute_error: 12.5738\n",
            "Epoch 64/100\n",
            "3414/3414 [==============================] - 12s 4ms/step - loss: 259.7133 - mean_squared_error: 259.7133 - mean_absolute_error: 12.7108 - val_loss: 256.3036 - val_mean_squared_error: 256.3036 - val_mean_absolute_error: 12.4573\n",
            "Epoch 65/100\n",
            "3414/3414 [==============================] - 12s 4ms/step - loss: 259.7766 - mean_squared_error: 259.7766 - mean_absolute_error: 12.7200 - val_loss: 257.0515 - val_mean_squared_error: 257.0515 - val_mean_absolute_error: 12.5612\n",
            "Epoch 66/100\n",
            "3414/3414 [==============================] - 12s 4ms/step - loss: 259.5419 - mean_squared_error: 259.5419 - mean_absolute_error: 12.7137 - val_loss: 254.3582 - val_mean_squared_error: 254.3582 - val_mean_absolute_error: 12.4860\n",
            "Epoch 67/100\n",
            "3414/3414 [==============================] - 12s 4ms/step - loss: 259.0076 - mean_squared_error: 259.0076 - mean_absolute_error: 12.6910 - val_loss: 254.6334 - val_mean_squared_error: 254.6334 - val_mean_absolute_error: 12.4875\n",
            "Epoch 68/100\n",
            "3414/3414 [==============================] - 12s 4ms/step - loss: 259.3907 - mean_squared_error: 259.3907 - mean_absolute_error: 12.7019 - val_loss: 255.2703 - val_mean_squared_error: 255.2703 - val_mean_absolute_error: 12.4753\n",
            "Epoch 69/100\n",
            "3414/3414 [==============================] - 12s 4ms/step - loss: 259.2527 - mean_squared_error: 259.2527 - mean_absolute_error: 12.6948 - val_loss: 255.8622 - val_mean_squared_error: 255.8622 - val_mean_absolute_error: 12.5085\n",
            "Epoch 70/100\n",
            "3414/3414 [==============================] - 12s 4ms/step - loss: 259.3843 - mean_squared_error: 259.3843 - mean_absolute_error: 12.7030 - val_loss: 256.2455 - val_mean_squared_error: 256.2455 - val_mean_absolute_error: 12.5210\n",
            "Epoch 71/100\n",
            "3414/3414 [==============================] - 12s 4ms/step - loss: 259.1035 - mean_squared_error: 259.1035 - mean_absolute_error: 12.6982 - val_loss: 254.1787 - val_mean_squared_error: 254.1787 - val_mean_absolute_error: 12.5546\n",
            "Epoch 72/100\n",
            "3414/3414 [==============================] - 12s 4ms/step - loss: 258.7960 - mean_squared_error: 258.7960 - mean_absolute_error: 12.6921 - val_loss: 255.6262 - val_mean_squared_error: 255.6262 - val_mean_absolute_error: 12.4638\n",
            "Epoch 73/100\n",
            "3414/3414 [==============================] - 12s 4ms/step - loss: 259.0554 - mean_squared_error: 259.0554 - mean_absolute_error: 12.6855 - val_loss: 257.7608 - val_mean_squared_error: 257.7608 - val_mean_absolute_error: 12.6235\n",
            "Epoch 74/100\n",
            "3414/3414 [==============================] - 13s 4ms/step - loss: 258.1755 - mean_squared_error: 258.1755 - mean_absolute_error: 12.6596 - val_loss: 255.3064 - val_mean_squared_error: 255.3064 - val_mean_absolute_error: 12.5672\n",
            "Epoch 75/100\n",
            "3414/3414 [==============================] - 13s 4ms/step - loss: 258.8670 - mean_squared_error: 258.8670 - mean_absolute_error: 12.6757 - val_loss: 258.1067 - val_mean_squared_error: 258.1067 - val_mean_absolute_error: 12.6616\n",
            "Epoch 76/100\n",
            "3414/3414 [==============================] - 13s 4ms/step - loss: 258.6281 - mean_squared_error: 258.6281 - mean_absolute_error: 12.6839 - val_loss: 254.5002 - val_mean_squared_error: 254.5002 - val_mean_absolute_error: 12.5208\n",
            "Epoch 77/100\n",
            "3414/3414 [==============================] - 13s 4ms/step - loss: 258.6678 - mean_squared_error: 258.6678 - mean_absolute_error: 12.6888 - val_loss: 254.1970 - val_mean_squared_error: 254.1970 - val_mean_absolute_error: 12.4902\n",
            "Epoch 78/100\n",
            "3414/3414 [==============================] - 12s 4ms/step - loss: 258.2824 - mean_squared_error: 258.2824 - mean_absolute_error: 12.6690 - val_loss: 256.4325 - val_mean_squared_error: 256.4325 - val_mean_absolute_error: 12.4953\n",
            "Epoch 79/100\n",
            "3414/3414 [==============================] - 12s 4ms/step - loss: 258.7121 - mean_squared_error: 258.7121 - mean_absolute_error: 12.6775 - val_loss: 256.5855 - val_mean_squared_error: 256.5855 - val_mean_absolute_error: 12.6228\n",
            "Epoch 80/100\n",
            "3414/3414 [==============================] - 12s 4ms/step - loss: 258.1741 - mean_squared_error: 258.1741 - mean_absolute_error: 12.6783 - val_loss: 255.2258 - val_mean_squared_error: 255.2258 - val_mean_absolute_error: 12.5871\n",
            "Epoch 81/100\n",
            "3414/3414 [==============================] - 13s 4ms/step - loss: 258.5919 - mean_squared_error: 258.5919 - mean_absolute_error: 12.6820 - val_loss: 259.2879 - val_mean_squared_error: 259.2879 - val_mean_absolute_error: 12.6933\n",
            "Epoch 82/100\n",
            "3414/3414 [==============================] - 14s 4ms/step - loss: 258.4406 - mean_squared_error: 258.4406 - mean_absolute_error: 12.6800 - val_loss: 256.6243 - val_mean_squared_error: 256.6243 - val_mean_absolute_error: 12.6076\n",
            "Epoch 83/100\n",
            "3414/3414 [==============================] - 13s 4ms/step - loss: 258.8145 - mean_squared_error: 258.8145 - mean_absolute_error: 12.6938 - val_loss: 254.1323 - val_mean_squared_error: 254.1323 - val_mean_absolute_error: 12.5165\n",
            "Epoch 84/100\n",
            "3414/3414 [==============================] - 13s 4ms/step - loss: 258.2345 - mean_squared_error: 258.2345 - mean_absolute_error: 12.6775 - val_loss: 253.5065 - val_mean_squared_error: 253.5065 - val_mean_absolute_error: 12.5274\n",
            "Epoch 85/100\n",
            "3414/3414 [==============================] - 12s 4ms/step - loss: 258.5228 - mean_squared_error: 258.5228 - mean_absolute_error: 12.6733 - val_loss: 254.3145 - val_mean_squared_error: 254.3145 - val_mean_absolute_error: 12.5392\n",
            "Epoch 86/100\n",
            "3414/3414 [==============================] - 12s 4ms/step - loss: 258.0995 - mean_squared_error: 258.0995 - mean_absolute_error: 12.6687 - val_loss: 254.2998 - val_mean_squared_error: 254.2998 - val_mean_absolute_error: 12.5005\n",
            "Epoch 87/100\n",
            "3414/3414 [==============================] - 12s 4ms/step - loss: 258.0867 - mean_squared_error: 258.0867 - mean_absolute_error: 12.6620 - val_loss: 256.6642 - val_mean_squared_error: 256.6642 - val_mean_absolute_error: 12.6655\n",
            "Epoch 88/100\n",
            "3414/3414 [==============================] - 12s 4ms/step - loss: 258.2775 - mean_squared_error: 258.2775 - mean_absolute_error: 12.6695 - val_loss: 254.9879 - val_mean_squared_error: 254.9879 - val_mean_absolute_error: 12.5636\n",
            "Epoch 89/100\n",
            "3414/3414 [==============================] - 13s 4ms/step - loss: 258.1858 - mean_squared_error: 258.1858 - mean_absolute_error: 12.6684 - val_loss: 256.6717 - val_mean_squared_error: 256.6717 - val_mean_absolute_error: 12.6384\n",
            "Epoch 90/100\n",
            "3414/3414 [==============================] - 12s 4ms/step - loss: 258.5423 - mean_squared_error: 258.5423 - mean_absolute_error: 12.6790 - val_loss: 254.0202 - val_mean_squared_error: 254.0202 - val_mean_absolute_error: 12.5634\n",
            "Epoch 91/100\n",
            "3414/3414 [==============================] - 12s 4ms/step - loss: 258.1069 - mean_squared_error: 258.1069 - mean_absolute_error: 12.6672 - val_loss: 257.7717 - val_mean_squared_error: 257.7717 - val_mean_absolute_error: 12.6048\n",
            "Epoch 92/100\n",
            "3414/3414 [==============================] - 12s 3ms/step - loss: 257.8340 - mean_squared_error: 257.8340 - mean_absolute_error: 12.6546 - val_loss: 255.8318 - val_mean_squared_error: 255.8318 - val_mean_absolute_error: 12.5842\n",
            "Epoch 93/100\n",
            "3414/3414 [==============================] - 12s 4ms/step - loss: 258.1887 - mean_squared_error: 258.1887 - mean_absolute_error: 12.6700 - val_loss: 254.9212 - val_mean_squared_error: 254.9212 - val_mean_absolute_error: 12.5787\n",
            "Epoch 94/100\n",
            "3414/3414 [==============================] - 12s 3ms/step - loss: 257.7100 - mean_squared_error: 257.7100 - mean_absolute_error: 12.6591 - val_loss: 255.7647 - val_mean_squared_error: 255.7647 - val_mean_absolute_error: 12.5273\n",
            "Epoch 95/100\n",
            "3414/3414 [==============================] - 12s 4ms/step - loss: 257.8434 - mean_squared_error: 257.8434 - mean_absolute_error: 12.6611 - val_loss: 255.8870 - val_mean_squared_error: 255.8870 - val_mean_absolute_error: 12.5409\n",
            "Epoch 96/100\n",
            "3414/3414 [==============================] - 12s 4ms/step - loss: 258.0723 - mean_squared_error: 258.0723 - mean_absolute_error: 12.6723 - val_loss: 257.6164 - val_mean_squared_error: 257.6164 - val_mean_absolute_error: 12.4885\n",
            "Epoch 97/100\n",
            "3414/3414 [==============================] - 12s 4ms/step - loss: 258.1229 - mean_squared_error: 258.1229 - mean_absolute_error: 12.6590 - val_loss: 258.3446 - val_mean_squared_error: 258.3446 - val_mean_absolute_error: 12.6662\n",
            "Epoch 98/100\n",
            "3414/3414 [==============================] - 12s 3ms/step - loss: 257.5423 - mean_squared_error: 257.5423 - mean_absolute_error: 12.6573 - val_loss: 257.7224 - val_mean_squared_error: 257.7224 - val_mean_absolute_error: 12.5647\n",
            "Epoch 99/100\n",
            "3414/3414 [==============================] - 12s 4ms/step - loss: 258.1288 - mean_squared_error: 258.1288 - mean_absolute_error: 12.6699 - val_loss: 258.9355 - val_mean_squared_error: 258.9355 - val_mean_absolute_error: 12.6491\n",
            "Epoch 100/100\n",
            "3414/3414 [==============================] - 12s 4ms/step - loss: 257.6815 - mean_squared_error: 257.6815 - mean_absolute_error: 12.6543 - val_loss: 254.1217 - val_mean_squared_error: 254.1217 - val_mean_absolute_error: 12.5979\n"
          ]
        }
      ]
    },
    {
      "cell_type": "code",
      "source": [
        "test_loss, test_mse, test_mae = model.evaluate(X_test_scaled, y_test, verbose=2)\n",
        "print(f\"Test MSE: {test_mse:.3f}, Test MAE: {test_mae:.3f}\")"
      ],
      "metadata": {
        "id": "yTotwiR4cXqi",
        "outputId": "75c17a9d-6986-4e41-cb4f-066c97d98f0d",
        "colab": {
          "base_uri": "https://localhost:8080/"
        }
      },
      "execution_count": 16,
      "outputs": [
        {
          "output_type": "stream",
          "name": "stdout",
          "text": [
            "1067/1067 - 2s - loss: 256.4274 - mean_squared_error: 256.4274 - mean_absolute_error: 12.6757 - 2s/epoch - 2ms/step\n",
            "Test MSE: 256.427, Test MAE: 12.676\n"
          ]
        }
      ]
    },
    {
      "cell_type": "code",
      "source": [
        "from sklearn.metrics import mean_squared_error, r2_score\n",
        "\n",
        "y_pred = model.predict(X_test_scaled).flatten()\n",
        "\n",
        "# Calculate RMSE and R2 Score\n",
        "rmse_ann = np.sqrt(mean_squared_error(y_test, y_pred))\n",
        "r2_ann = r2_score(y_test, y_pred)\n",
        "\n",
        "print(f\"ANN RMSE: {rmse_ann:.2f}\")\n",
        "print(f\"ANN R2: {r2_ann:.2f}\")"
      ],
      "metadata": {
        "id": "IOKy6vk-cZ_e",
        "outputId": "0251deed-bce6-4207-bc8f-4b7111f4bcb1",
        "colab": {
          "base_uri": "https://localhost:8080/"
        }
      },
      "execution_count": 18,
      "outputs": [
        {
          "output_type": "stream",
          "name": "stdout",
          "text": [
            "1067/1067 [==============================] - 2s 2ms/step\n",
            "ANN RMSE: 16.01\n",
            "ANN R2: 0.46\n"
          ]
        }
      ]
    },
    {
      "cell_type": "code",
      "source": [
        "plt.plot(history.history['mean_squared_error'], label='MSE (training data)')\n",
        "plt.plot(history.history['val_mean_squared_error'], label='MSE (validation data)')\n",
        "plt.title('MSE for Spotify Popularity Prediction')\n",
        "plt.ylabel('MSE value')\n",
        "plt.xlabel('No. epoch')\n",
        "plt.legend(loc=\"upper left\")\n",
        "plt.show()"
      ],
      "metadata": {
        "id": "5gdY0aumceUD",
        "outputId": "a15b5647-3a5e-43ca-f406-634c78aeb674",
        "colab": {
          "base_uri": "https://localhost:8080/",
          "height": 472
        }
      },
      "execution_count": 19,
      "outputs": [
        {
          "output_type": "display_data",
          "data": {
            "text/plain": [
              "<Figure size 640x480 with 1 Axes>"
            ],
            "image/png": "[encoded data removed]"
          },
          "metadata": {}
        }
      ]
    },
    {
      "cell_type": "markdown",
      "source": [
        "We see no great improvement over our Random Forest model."
      ],
      "metadata": {
        "id": "84n1ANlOibJa"
      }
    },
    {
      "cell_type": "markdown",
      "source": [
        "## XGBoost"
      ],
      "metadata": {
        "id": "QlI13bn7XgPU"
      }
    },
    {
      "cell_type": "code",
      "source": [
        "from xgboost import XGBRegressor\n",
        "from sklearn.metrics import mean_squared_error, r2_score\n",
        "import numpy as np"
      ],
      "metadata": {
        "id": "EVfwhZ1mXiqG"
      },
      "execution_count": null,
      "outputs": []
    },
    {
      "cell_type": "code",
      "source": [
        "xgb = XGBRegressor()\n",
        "xgb.fit(X_train_scaled, y_train)"
      ],
      "metadata": {
        "colab": {
          "base_uri": "https://localhost:8080/",
          "height": 248
        },
        "id": "AtGoXiLcXnNv",
        "outputId": "0dd3491c-2f7a-4454-8273-8c7b9fdc0359"
      },
      "execution_count": null,
      "outputs": [
        {
          "output_type": "execute_result",
          "data": {
            "text/plain": [
              "XGBRegressor(base_score=None, booster=None, callbacks=None,\n",
              "             colsample_bylevel=None, colsample_bynode=None,\n",
              "             colsample_bytree=None, device=None, early_stopping_rounds=None,\n",
              "             enable_categorical=False, eval_metric=None, feature_types=None,\n",
              "             gamma=None, grow_policy=None, importance_type=None,\n",
              "             interaction_constraints=None, learning_rate=None, max_bin=None,\n",
              "             max_cat_threshold=None, max_cat_to_onehot=None,\n",
              "             max_delta_step=None, max_depth=None, max_leaves=None,\n",
              "             min_child_weight=None, missing=nan, monotone_constraints=None,\n",
              "             multi_strategy=None, n_estimators=None, n_jobs=None,\n",
              "             num_parallel_tree=None, random_state=None, ...)"
            ],
            "text/html": [
              "<style>#sk-container-id-2 {color: black;background-color: white;}#sk-container-id-2 pre{padding: 0;}#sk-container-id-2 div.sk-toggleable {background-color: white;}#sk-container-id-2 label.sk-toggleable__label {cursor: pointer;display: block;width: 100%;margin-bottom: 0;padding: 0.3em;box-sizing: border-box;text-align: center;}#sk-container-id-2 label.sk-toggleable__label-arrow:before {content: \"▸\";float: left;margin-right: 0.25em;color: #696969;}#sk-container-id-2 label.sk-toggleable__label-arrow:hover:before {color: black;}#sk-container-id-2 div.sk-estimator:hover label.sk-toggleable__label-arrow:before {color: black;}#sk-container-id-2 div.sk-toggleable__content {max-height: 0;max-width: 0;overflow: hidden;text-align: left;background-color: #f0f8ff;}#sk-container-id-2 div.sk-toggleable__content pre {margin: 0.2em;color: black;border-radius: 0.25em;background-color: #f0f8ff;}#sk-container-id-2 input.sk-toggleable__control:checked~div.sk-toggleable__content {max-height: 200px;max-width: 100%;overflow: auto;}#sk-container-id-2 input.sk-toggleable__control:checked~label.sk-toggleable__label-arrow:before {content: \"▾\";}#sk-container-id-2 div.sk-estimator input.sk-toggleable__control:checked~label.sk-toggleable__label {background-color: #d4ebff;}#sk-container-id-2 div.sk-label input.sk-toggleable__control:checked~label.sk-toggleable__label {background-color: #d4ebff;}#sk-container-id-2 input.sk-hidden--visually {border: 0;clip: rect(1px 1px 1px 1px);clip: rect(1px, 1px, 1px, 1px);height: 1px;margin: -1px;overflow: hidden;padding: 0;position: absolute;width: 1px;}#sk-container-id-2 div.sk-estimator {font-family: monospace;background-color: #f0f8ff;border: 1px dotted black;border-radius: 0.25em;box-sizing: border-box;margin-bottom: 0.5em;}#sk-container-id-2 div.sk-estimator:hover {background-color: #d4ebff;}#sk-container-id-2 div.sk-parallel-item::after {content: \"\";width: 100%;border-bottom: 1px solid gray;flex-grow: 1;}#sk-container-id-2 div.sk-label:hover label.sk-toggleable__label {background-color: #d4ebff;}#sk-container-id-2 div.sk-serial::before {content: \"\";position: absolute;border-left: 1px solid gray;box-sizing: border-box;top: 0;bottom: 0;left: 50%;z-index: 0;}#sk-container-id-2 div.sk-serial {display: flex;flex-direction: column;align-items: center;background-color: white;padding-right: 0.2em;padding-left: 0.2em;position: relative;}#sk-container-id-2 div.sk-item {position: relative;z-index: 1;}#sk-container-id-2 div.sk-parallel {display: flex;align-items: stretch;justify-content: center;background-color: white;position: relative;}#sk-container-id-2 div.sk-item::before, #sk-container-id-2 div.sk-parallel-item::before {content: \"\";position: absolute;border-left: 1px solid gray;box-sizing: border-box;top: 0;bottom: 0;left: 50%;z-index: -1;}#sk-container-id-2 div.sk-parallel-item {display: flex;flex-direction: column;z-index: 1;position: relative;background-color: white;}#sk-container-id-2 div.sk-parallel-item:first-child::after {align-self: flex-end;width: 50%;}#sk-container-id-2 div.sk-parallel-item:last-child::after {align-self: flex-start;width: 50%;}#sk-container-id-2 div.sk-parallel-item:only-child::after {width: 0;}#sk-container-id-2 div.sk-dashed-wrapped {border: 1px dashed gray;margin: 0 0.4em 0.5em 0.4em;box-sizing: border-box;padding-bottom: 0.4em;background-color: white;}#sk-container-id-2 div.sk-label label {font-family: monospace;font-weight: bold;display: inline-block;line-height: 1.2em;}#sk-container-id-2 div.sk-label-container {text-align: center;}#sk-container-id-2 div.sk-container {/* jupyter's `normalize.less` sets `[hidden] { display: none; }` but bootstrap.min.css set `[hidden] { display: none !important; }` so we also need the `!important` here to be able to override the default hidden behavior on the sphinx rendered scikit-learn.org. See: https://github.com/scikit-learn/scikit-learn/issues/21755 */display: inline-block !important;position: relative;}#sk-container-id-2 div.sk-text-repr-fallback {display: none;}</style><div id=\"sk-container-id-2\" class=\"sk-top-container\"><div class=\"sk-text-repr-fallback\"><pre>XGBRegressor(base_score=None, booster=None, callbacks=None,\n",
              "             colsample_bylevel=None, colsample_bynode=None,\n",
              "             colsample_bytree=None, device=None, early_stopping_rounds=None,\n",
              "             enable_categorical=False, eval_metric=None, feature_types=None,\n",
              "             gamma=None, grow_policy=None, importance_type=None,\n",
              "             interaction_constraints=None, learning_rate=None, max_bin=None,\n",
              "             max_cat_threshold=None, max_cat_to_onehot=None,\n",
              "             max_delta_step=None, max_depth=None, max_leaves=None,\n",
              "             min_child_weight=None, missing=nan, monotone_constraints=None,\n",
              "             multi_strategy=None, n_estimators=None, n_jobs=None,\n",
              "             num_parallel_tree=None, random_state=None, ...)</pre><b>In a Jupyter environment, please rerun this cell to show the HTML representation or trust the notebook. <br />On GitHub, the HTML representation is unable to render, please try loading this page with nbviewer.org.</b></div><div class=\"sk-container\" hidden><div class=\"sk-item\"><div class=\"sk-estimator sk-toggleable\"><input class=\"sk-toggleable__control sk-hidden--visually\" id=\"sk-estimator-id-2\" type=\"checkbox\" checked><label for=\"sk-estimator-id-2\" class=\"sk-toggleable__label sk-toggleable__label-arrow\">XGBRegressor</label><div class=\"sk-toggleable__content\"><pre>XGBRegressor(base_score=None, booster=None, callbacks=None,\n",
              "             colsample_bylevel=None, colsample_bynode=None,\n",
              "             colsample_bytree=None, device=None, early_stopping_rounds=None,\n",
              "             enable_categorical=False, eval_metric=None, feature_types=None,\n",
              "             gamma=None, grow_policy=None, importance_type=None,\n",
              "             interaction_constraints=None, learning_rate=None, max_bin=None,\n",
              "             max_cat_threshold=None, max_cat_to_onehot=None,\n",
              "             max_delta_step=None, max_depth=None, max_leaves=None,\n",
              "             min_child_weight=None, missing=nan, monotone_constraints=None,\n",
              "             multi_strategy=None, n_estimators=None, n_jobs=None,\n",
              "             num_parallel_tree=None, random_state=None, ...)</pre></div></div></div></div></div>"
            ]
          },
          "metadata": {},
          "execution_count": 22
        }
      ]
    },
    {
      "cell_type": "code",
      "source": [
        "y_pred = xgb.predict(X_test_scaled)"
      ],
      "metadata": {
        "id": "I9BmlaPJXrPz"
      },
      "execution_count": null,
      "outputs": []
    },
    {
      "cell_type": "code",
      "source": [
        "rmse = np.sqrt(mean_squared_error(y_test, y_pred))\n",
        "r2 = r2_score(y_test, y_pred)\n",
        "\n",
        "print(f\"RMSE: {rmse:.2f}\")\n",
        "print(f\"R2: {r2:.2f}\")"
      ],
      "metadata": {
        "colab": {
          "base_uri": "https://localhost:8080/"
        },
        "id": "XIh5QLltXvLU",
        "outputId": "427e387f-75b4-4f81-e528-06c146c89bf7"
      },
      "execution_count": null,
      "outputs": [
        {
          "output_type": "stream",
          "name": "stdout",
          "text": [
            "RMSE: 15.99\n",
            "R2: 0.46\n"
          ]
        }
      ]
    },
    {
      "cell_type": "markdown",
      "source": [
        "Our XGboost model obtains an RMSE of 15.99 and R-squared of 46% which is a great improvement over our baseline linear regression model in the Extraction_Demo notebook. Let's see if we can tune for the best hyperparameters."
      ],
      "metadata": {
        "id": "iDsB-1jVYCYp"
      }
    },
    {
      "cell_type": "code",
      "source": [
        "# define hyperparameter space\n",
        "from sklearn.model_selection import RandomizedSearchCV\n",
        "\n",
        "param_dist = {\n",
        "    'n_estimators': [100, 200, 300, 400, 500],\n",
        "    'learning_rate': [0.01, 0.05, 0.1, 0.2],\n",
        "    'max_depth': [3, 4, 5, 6, 7],\n",
        "    'min_child_weight': [1, 2, 3, 4],\n",
        "    'gamma': [0, 0.1, 0.2, 0.3, 0.4],\n",
        "    'subsample': [0.6, 0.7, 0.8, 0.9, 1.0],\n",
        "    'colsample_bytree': [0.6, 0.7, 0.8, 0.9, 1.0],\n",
        "}"
      ],
      "metadata": {
        "id": "yMfpwM1vYQLx"
      },
      "execution_count": null,
      "outputs": []
    },
    {
      "cell_type": "code",
      "source": [
        "# Initialize the XGBRegressor\n",
        "xgb = XGBRegressor()\n",
        "\n",
        "# Setup RandomizedSearchCV\n",
        "random_search = RandomizedSearchCV(xgb, param_distributions=param_dist,\n",
        "                                   n_iter=25, scoring='neg_mean_squared_error',\n",
        "                                   n_jobs=-1, cv=5, verbose=3, random_state=22)\n",
        "\n",
        "# Fit RandomizedSearchCV\n",
        "random_search.fit(X_train_scaled, y_train)"
      ],
      "metadata": {
        "id": "bruOyU8LY9bp",
        "outputId": "055692b3-397e-486f-abd4-2d458c4eff8f",
        "colab": {
          "base_uri": "https://localhost:8080/",
          "height": 133
        }
      },
      "execution_count": null,
      "outputs": [
        {
          "output_type": "stream",
          "name": "stdout",
          "text": [
            "Fitting 5 folds for each of 25 candidates, totalling 125 fits\n"
          ]
        },
        {
          "output_type": "execute_result",
          "data": {
            "text/plain": [
              "RandomizedSearchCV(cv=5,\n",
              "                   estimator=XGBRegressor(base_score=None, booster=None,\n",
              "                                          callbacks=None,\n",
              "                                          colsample_bylevel=None,\n",
              "                                          colsample_bynode=None,\n",
              "                                          colsample_bytree=None, device=None,\n",
              "                                          early_stopping_rounds=None,\n",
              "                                          enable_categorical=False,\n",
              "                                          eval_metric=None, feature_types=None,\n",
              "                                          gamma=None, grow_policy=None,\n",
              "                                          importance_type=None,\n",
              "                                          interaction_constraints=None,\n",
              "                                          learning_rate=...\n",
              "                                          random_state=None, ...),\n",
              "                   n_iter=25, n_jobs=-1,\n",
              "                   param_distributions={'colsample_bytree': [0.6, 0.7, 0.8, 0.9,\n",
              "                                                             1.0],\n",
              "                                        'gamma': [0, 0.1, 0.2, 0.3, 0.4],\n",
              "                                        'learning_rate': [0.01, 0.05, 0.1, 0.2],\n",
              "                                        'max_depth': [3, 4, 5, 6, 7],\n",
              "                                        'min_child_weight': [1, 2, 3, 4],\n",
              "                                        'n_estimators': [100, 200, 300, 400,\n",
              "                                                         500],\n",
              "                                        'subsample': [0.6, 0.7, 0.8, 0.9, 1.0]},\n",
              "                   random_state=22, scoring='neg_mean_squared_error',\n",
              "                   verbose=3)"
            ],
            "text/html": [
              "<style>#sk-container-id-3 {color: black;background-color: white;}#sk-container-id-3 pre{padding: 0;}#sk-container-id-3 div.sk-toggleable {background-color: white;}#sk-container-id-3 label.sk-toggleable__label {cursor: pointer;display: block;width: 100%;margin-bottom: 0;padding: 0.3em;box-sizing: border-box;text-align: center;}#sk-container-id-3 label.sk-toggleable__label-arrow:before {content: \"▸\";float: left;margin-right: 0.25em;color: #696969;}#sk-container-id-3 label.sk-toggleable__label-arrow:hover:before {color: black;}#sk-container-id-3 div.sk-estimator:hover label.sk-toggleable__label-arrow:before {color: black;}#sk-container-id-3 div.sk-toggleable__content {max-height: 0;max-width: 0;overflow: hidden;text-align: left;background-color: #f0f8ff;}#sk-container-id-3 div.sk-toggleable__content pre {margin: 0.2em;color: black;border-radius: 0.25em;background-color: #f0f8ff;}#sk-container-id-3 input.sk-toggleable__control:checked~div.sk-toggleable__content {max-height: 200px;max-width: 100%;overflow: auto;}#sk-container-id-3 input.sk-toggleable__control:checked~label.sk-toggleable__label-arrow:before {content: \"▾\";}#sk-container-id-3 div.sk-estimator input.sk-toggleable__control:checked~label.sk-toggleable__label {background-color: #d4ebff;}#sk-container-id-3 div.sk-label input.sk-toggleable__control:checked~label.sk-toggleable__label {background-color: #d4ebff;}#sk-container-id-3 input.sk-hidden--visually {border: 0;clip: rect(1px 1px 1px 1px);clip: rect(1px, 1px, 1px, 1px);height: 1px;margin: -1px;overflow: hidden;padding: 0;position: absolute;width: 1px;}#sk-container-id-3 div.sk-estimator {font-family: monospace;background-color: #f0f8ff;border: 1px dotted black;border-radius: 0.25em;box-sizing: border-box;margin-bottom: 0.5em;}#sk-container-id-3 div.sk-estimator:hover {background-color: #d4ebff;}#sk-container-id-3 div.sk-parallel-item::after {content: \"\";width: 100%;border-bottom: 1px solid gray;flex-grow: 1;}#sk-container-id-3 div.sk-label:hover label.sk-toggleable__label {background-color: #d4ebff;}#sk-container-id-3 div.sk-serial::before {content: \"\";position: absolute;border-left: 1px solid gray;box-sizing: border-box;top: 0;bottom: 0;left: 50%;z-index: 0;}#sk-container-id-3 div.sk-serial {display: flex;flex-direction: column;align-items: center;background-color: white;padding-right: 0.2em;padding-left: 0.2em;position: relative;}#sk-container-id-3 div.sk-item {position: relative;z-index: 1;}#sk-container-id-3 div.sk-parallel {display: flex;align-items: stretch;justify-content: center;background-color: white;position: relative;}#sk-container-id-3 div.sk-item::before, #sk-container-id-3 div.sk-parallel-item::before {content: \"\";position: absolute;border-left: 1px solid gray;box-sizing: border-box;top: 0;bottom: 0;left: 50%;z-index: -1;}#sk-container-id-3 div.sk-parallel-item {display: flex;flex-direction: column;z-index: 1;position: relative;background-color: white;}#sk-container-id-3 div.sk-parallel-item:first-child::after {align-self: flex-end;width: 50%;}#sk-container-id-3 div.sk-parallel-item:last-child::after {align-self: flex-start;width: 50%;}#sk-container-id-3 div.sk-parallel-item:only-child::after {width: 0;}#sk-container-id-3 div.sk-dashed-wrapped {border: 1px dashed gray;margin: 0 0.4em 0.5em 0.4em;box-sizing: border-box;padding-bottom: 0.4em;background-color: white;}#sk-container-id-3 div.sk-label label {font-family: monospace;font-weight: bold;display: inline-block;line-height: 1.2em;}#sk-container-id-3 div.sk-label-container {text-align: center;}#sk-container-id-3 div.sk-container {/* jupyter's `normalize.less` sets `[hidden] { display: none; }` but bootstrap.min.css set `[hidden] { display: none !important; }` so we also need the `!important` here to be able to override the default hidden behavior on the sphinx rendered scikit-learn.org. See: https://github.com/scikit-learn/scikit-learn/issues/21755 */display: inline-block !important;position: relative;}#sk-container-id-3 div.sk-text-repr-fallback {display: none;}</style><div id=\"sk-container-id-3\" class=\"sk-top-container\"><div class=\"sk-text-repr-fallback\"><pre>RandomizedSearchCV(cv=5,\n",
              "                   estimator=XGBRegressor(base_score=None, booster=None,\n",
              "                                          callbacks=None,\n",
              "                                          colsample_bylevel=None,\n",
              "                                          colsample_bynode=None,\n",
              "                                          colsample_bytree=None, device=None,\n",
              "                                          early_stopping_rounds=None,\n",
              "                                          enable_categorical=False,\n",
              "                                          eval_metric=None, feature_types=None,\n",
              "                                          gamma=None, grow_policy=None,\n",
              "                                          importance_type=None,\n",
              "                                          interaction_constraints=None,\n",
              "                                          learning_rate=...\n",
              "                                          random_state=None, ...),\n",
              "                   n_iter=25, n_jobs=-1,\n",
              "                   param_distributions={&#x27;colsample_bytree&#x27;: [0.6, 0.7, 0.8, 0.9,\n",
              "                                                             1.0],\n",
              "                                        &#x27;gamma&#x27;: [0, 0.1, 0.2, 0.3, 0.4],\n",
              "                                        &#x27;learning_rate&#x27;: [0.01, 0.05, 0.1, 0.2],\n",
              "                                        &#x27;max_depth&#x27;: [3, 4, 5, 6, 7],\n",
              "                                        &#x27;min_child_weight&#x27;: [1, 2, 3, 4],\n",
              "                                        &#x27;n_estimators&#x27;: [100, 200, 300, 400,\n",
              "                                                         500],\n",
              "                                        &#x27;subsample&#x27;: [0.6, 0.7, 0.8, 0.9, 1.0]},\n",
              "                   random_state=22, scoring=&#x27;neg_mean_squared_error&#x27;,\n",
              "                   verbose=3)</pre><b>In a Jupyter environment, please rerun this cell to show the HTML representation or trust the notebook. <br />On GitHub, the HTML representation is unable to render, please try loading this page with nbviewer.org.</b></div><div class=\"sk-container\" hidden><div class=\"sk-item sk-dashed-wrapped\"><div class=\"sk-label-container\"><div class=\"sk-label sk-toggleable\"><input class=\"sk-toggleable__control sk-hidden--visually\" id=\"sk-estimator-id-3\" type=\"checkbox\" ><label for=\"sk-estimator-id-3\" class=\"sk-toggleable__label sk-toggleable__label-arrow\">RandomizedSearchCV</label><div class=\"sk-toggleable__content\"><pre>RandomizedSearchCV(cv=5,\n",
              "                   estimator=XGBRegressor(base_score=None, booster=None,\n",
              "                                          callbacks=None,\n",
              "                                          colsample_bylevel=None,\n",
              "                                          colsample_bynode=None,\n",
              "                                          colsample_bytree=None, device=None,\n",
              "                                          early_stopping_rounds=None,\n",
              "                                          enable_categorical=False,\n",
              "                                          eval_metric=None, feature_types=None,\n",
              "                                          gamma=None, grow_policy=None,\n",
              "                                          importance_type=None,\n",
              "                                          interaction_constraints=None,\n",
              "                                          learning_rate=...\n",
              "                                          random_state=None, ...),\n",
              "                   n_iter=25, n_jobs=-1,\n",
              "                   param_distributions={&#x27;colsample_bytree&#x27;: [0.6, 0.7, 0.8, 0.9,\n",
              "                                                             1.0],\n",
              "                                        &#x27;gamma&#x27;: [0, 0.1, 0.2, 0.3, 0.4],\n",
              "                                        &#x27;learning_rate&#x27;: [0.01, 0.05, 0.1, 0.2],\n",
              "                                        &#x27;max_depth&#x27;: [3, 4, 5, 6, 7],\n",
              "                                        &#x27;min_child_weight&#x27;: [1, 2, 3, 4],\n",
              "                                        &#x27;n_estimators&#x27;: [100, 200, 300, 400,\n",
              "                                                         500],\n",
              "                                        &#x27;subsample&#x27;: [0.6, 0.7, 0.8, 0.9, 1.0]},\n",
              "                   random_state=22, scoring=&#x27;neg_mean_squared_error&#x27;,\n",
              "                   verbose=3)</pre></div></div></div><div class=\"sk-parallel\"><div class=\"sk-parallel-item\"><div class=\"sk-item\"><div class=\"sk-label-container\"><div class=\"sk-label sk-toggleable\"><input class=\"sk-toggleable__control sk-hidden--visually\" id=\"sk-estimator-id-4\" type=\"checkbox\" ><label for=\"sk-estimator-id-4\" class=\"sk-toggleable__label sk-toggleable__label-arrow\">estimator: XGBRegressor</label><div class=\"sk-toggleable__content\"><pre>XGBRegressor(base_score=None, booster=None, callbacks=None,\n",
              "             colsample_bylevel=None, colsample_bynode=None,\n",
              "             colsample_bytree=None, device=None, early_stopping_rounds=None,\n",
              "             enable_categorical=False, eval_metric=None, feature_types=None,\n",
              "             gamma=None, grow_policy=None, importance_type=None,\n",
              "             interaction_constraints=None, learning_rate=None, max_bin=None,\n",
              "             max_cat_threshold=None, max_cat_to_onehot=None,\n",
              "             max_delta_step=None, max_depth=None, max_leaves=None,\n",
              "             min_child_weight=None, missing=nan, monotone_constraints=None,\n",
              "             multi_strategy=None, n_estimators=None, n_jobs=None,\n",
              "             num_parallel_tree=None, random_state=None, ...)</pre></div></div></div><div class=\"sk-serial\"><div class=\"sk-item\"><div class=\"sk-estimator sk-toggleable\"><input class=\"sk-toggleable__control sk-hidden--visually\" id=\"sk-estimator-id-5\" type=\"checkbox\" ><label for=\"sk-estimator-id-5\" class=\"sk-toggleable__label sk-toggleable__label-arrow\">XGBRegressor</label><div class=\"sk-toggleable__content\"><pre>XGBRegressor(base_score=None, booster=None, callbacks=None,\n",
              "             colsample_bylevel=None, colsample_bynode=None,\n",
              "             colsample_bytree=None, device=None, early_stopping_rounds=None,\n",
              "             enable_categorical=False, eval_metric=None, feature_types=None,\n",
              "             gamma=None, grow_policy=None, importance_type=None,\n",
              "             interaction_constraints=None, learning_rate=None, max_bin=None,\n",
              "             max_cat_threshold=None, max_cat_to_onehot=None,\n",
              "             max_delta_step=None, max_depth=None, max_leaves=None,\n",
              "             min_child_weight=None, missing=nan, monotone_constraints=None,\n",
              "             multi_strategy=None, n_estimators=None, n_jobs=None,\n",
              "             num_parallel_tree=None, random_state=None, ...)</pre></div></div></div></div></div></div></div></div></div></div>"
            ]
          },
          "metadata": {},
          "execution_count": 27
        }
      ]
    },
    {
      "cell_type": "code",
      "source": [
        "# Evaluate best model\n",
        "best_model = random_search.best_estimator_\n",
        "\n",
        "# Making predictions with the best model\n",
        "y_pred = best_model.predict(X_test_scaled)\n",
        "\n",
        "# Calculate RMSE and R2 for the best model\n",
        "rmse_best = np.sqrt(mean_squared_error(y_test, y_pred))\n",
        "r2_best = r2_score(y_test, y_pred)\n",
        "\n",
        "print(f\"Best RMSE: {rmse_best:.2f}\")\n",
        "print(f\"Best R2: {r2_best:.2f}\")"
      ],
      "metadata": {
        "id": "Ww28T33cZA4-",
        "outputId": "5424a0df-d6a6-4ee4-b7a3-8e3f9b96104a",
        "colab": {
          "base_uri": "https://localhost:8080/"
        }
      },
      "execution_count": null,
      "outputs": [
        {
          "output_type": "stream",
          "name": "stdout",
          "text": [
            "Best RMSE: 15.83\n",
            "Best R2: 0.47\n"
          ]
        }
      ]
    },
    {
      "cell_type": "code",
      "source": [
        "# Plot\n",
        "import matplotlib.pyplot as plt\n",
        "\n",
        "# Extract the mean test scores (neg_mean_squared_error) and convert to RMSE\n",
        "mean_test_scores = np.sqrt(-random_search.cv_results_['mean_test_score'])\n",
        "\n",
        "# Plotting RMSE scores from Random Search\n",
        "plt.figure(figsize=(10, 6))\n",
        "plt.plot(range(len(mean_test_scores)), mean_test_scores, marker='o', color='b', label='RMSE')\n",
        "plt.title('RMSE Scores for Different Hyperparameter Combinations')\n",
        "plt.xlabel('Hyperparameter combination')\n",
        "plt.ylabel('RMSE')\n",
        "plt.legend()\n",
        "plt.show()"
      ],
      "metadata": {
        "id": "JAudkG6XZKfs",
        "outputId": "1ad9792d-a5a2-4496-a2b0-1731ab8e5260",
        "colab": {
          "base_uri": "https://localhost:8080/",
          "height": 564
        }
      },
      "execution_count": null,
      "outputs": [
        {
          "output_type": "display_data",
          "data": {
            "text/plain": [
              "<Figure size 1000x600 with 1 Axes>"
            ],
            "image/png": "[encoded data removed]"
          },
          "metadata": {}
        }
      ]
    },
    {
      "cell_type": "markdown",
      "source": [
        "As we can see, our XGBoost model hovers around the 15 rmse limit and doesn't improve much."
      ],
      "metadata": {
        "id": "ezgdv-HkZdWp"
      }
    },
    {
      "cell_type": "code",
      "source": [],
      "metadata": {
        "id": "JkEIpqU4ZiUG"
      },
      "execution_count": null,
      "outputs": []
    }
  ]
}