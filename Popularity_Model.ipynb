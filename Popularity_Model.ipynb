{
  "nbformat": 4,
  "nbformat_minor": 0,
  "metadata": {
    "colab": {
      "provenance": [],
      "authorship_tag": "ABX9TyO8Yv+CGmqFqiT32fi6Bv4m",
      "include_colab_link": true
    },
    "kernelspec": {
      "name": "python3",
      "display_name": "Python 3"
    },
    "language_info": {
      "name": "python"
    }
  },
  "cells": [
    {
      "cell_type": "markdown",
      "metadata": {
        "id": "view-in-github",
        "colab_type": "text"
      },
      "source": [
        "<a href=\"https://colab.research.google.com/github/brianellis1997/Music_Generation/blob/main/Popularity_Model.ipynb\" target=\"_parent\"><img src=\"https://colab.research.google.com/assets/colab-badge.svg\" alt=\"Open In Colab\"/></a>"
      ]
    },
    {
      "cell_type": "code",
      "source": [
        "!git clone https://github.com/brianellis1997/Music_Generation.git"
      ],
      "metadata": {
        "colab": {
          "base_uri": "https://localhost:8080/"
        },
        "id": "Xqvo69MVYiV-",
        "outputId": "75f5fbba-cfe3-46c2-95e4-0c540968bfbf"
      },
      "execution_count": 1,
      "outputs": [
        {
          "output_type": "stream",
          "name": "stdout",
          "text": [
            "Cloning into 'Music_Generation'...\n",
            "remote: Enumerating objects: 141, done.\u001b[K\n",
            "remote: Counting objects: 100% (141/141), done.\u001b[K\n",
            "remote: Compressing objects: 100% (130/130), done.\u001b[K\n",
            "remote: Total 141 (delta 66), reused 36 (delta 7), pack-reused 0\u001b[K\n",
            "Receiving objects: 100% (141/141), 904.28 KiB | 6.75 MiB/s, done.\n",
            "Resolving deltas: 100% (66/66), done.\n"
          ]
        }
      ]
    },
    {
      "cell_type": "code",
      "source": [
        "from google.colab import drive\n",
        "drive.mount('/content/drive')"
      ],
      "metadata": {
        "id": "kFqAxbBlhxGs",
        "outputId": "2b29adf5-d8b8-4dc8-d115-a588c485c1d0",
        "colab": {
          "base_uri": "https://localhost:8080/"
        }
      },
      "execution_count": 2,
      "outputs": [
        {
          "output_type": "stream",
          "name": "stdout",
          "text": [
            "Mounted at /content/drive\n"
          ]
        }
      ]
    },
    {
      "cell_type": "code",
      "source": [
        "import pandas as pd\n",
        "from matplotlib import pyplot as plt"
      ],
      "metadata": {
        "id": "fUjNUjHGfKQ0"
      },
      "execution_count": 6,
      "outputs": []
    },
    {
      "cell_type": "code",
      "source": [
        "df = pd.read_csv('/content/drive/MyDrive/DS340/spotify_data.csv')\n",
        "df.info()"
      ],
      "metadata": {
        "colab": {
          "base_uri": "https://localhost:8080/"
        },
        "id": "zxWn8O_ffMbq",
        "outputId": "9452be61-6166-4ea4-a1de-9e0a2575c3ea"
      },
      "execution_count": 4,
      "outputs": [
        {
          "output_type": "stream",
          "name": "stdout",
          "text": [
            "<class 'pandas.core.frame.DataFrame'>\n",
            "RangeIndex: 170653 entries, 0 to 170652\n",
            "Data columns (total 19 columns):\n",
            " #   Column            Non-Null Count   Dtype  \n",
            "---  ------            --------------   -----  \n",
            " 0   valence           170653 non-null  float64\n",
            " 1   year              170653 non-null  int64  \n",
            " 2   acousticness      170653 non-null  float64\n",
            " 3   artists           170653 non-null  object \n",
            " 4   danceability      170653 non-null  float64\n",
            " 5   duration_ms       170653 non-null  int64  \n",
            " 6   energy            170653 non-null  float64\n",
            " 7   explicit          170653 non-null  int64  \n",
            " 8   id                170653 non-null  object \n",
            " 9   instrumentalness  170653 non-null  float64\n",
            " 10  key               170653 non-null  int64  \n",
            " 11  liveness          170653 non-null  float64\n",
            " 12  loudness          170653 non-null  float64\n",
            " 13  mode              170653 non-null  int64  \n",
            " 14  name              170653 non-null  object \n",
            " 15  popularity        170653 non-null  int64  \n",
            " 16  release_date      170653 non-null  object \n",
            " 17  speechiness       170653 non-null  float64\n",
            " 18  tempo             170653 non-null  float64\n",
            "dtypes: float64(9), int64(6), object(4)\n",
            "memory usage: 24.7+ MB\n"
          ]
        }
      ]
    },
    {
      "cell_type": "code",
      "source": [
        "df.head()"
      ],
      "metadata": {
        "colab": {
          "base_uri": "https://localhost:8080/",
          "height": 504
        },
        "id": "VCD1DJ43fTzA",
        "outputId": "c834e946-96ed-4d86-ae05-818a3a00014a"
      },
      "execution_count": 5,
      "outputs": [
        {
          "output_type": "execute_result",
          "data": {
            "text/plain": [
              "   valence  year  acousticness  \\\n",
              "0   0.0594  1921         0.982   \n",
              "1   0.9630  1921         0.732   \n",
              "2   0.0394  1921         0.961   \n",
              "3   0.1650  1921         0.967   \n",
              "4   0.2530  1921         0.957   \n",
              "\n",
              "                                             artists  danceability  \\\n",
              "0  ['Sergei Rachmaninoff', 'James Levine', 'Berli...         0.279   \n",
              "1                                     ['Dennis Day']         0.819   \n",
              "2  ['KHP Kridhamardawa Karaton Ngayogyakarta Hadi...         0.328   \n",
              "3                                   ['Frank Parker']         0.275   \n",
              "4                                     ['Phil Regan']         0.418   \n",
              "\n",
              "   duration_ms  energy  explicit                      id  instrumentalness  \\\n",
              "0       831667   0.211         0  4BJqT0PrAfrxzMOxytFOIz          0.878000   \n",
              "1       180533   0.341         0  7xPhfUan2yNtyFG0cUWkt8          0.000000   \n",
              "2       500062   0.166         0  1o6I8BglA6ylDMrIELygv1          0.913000   \n",
              "3       210000   0.309         0  3ftBPsC5vPBKxYSee08FDH          0.000028   \n",
              "4       166693   0.193         0  4d6HGyGT8e121BsdKmw9v6          0.000002   \n",
              "\n",
              "   key  liveness  loudness  mode  \\\n",
              "0   10     0.665   -20.096     1   \n",
              "1    7     0.160   -12.441     1   \n",
              "2    3     0.101   -14.850     1   \n",
              "3    5     0.381    -9.316     1   \n",
              "4    3     0.229   -10.096     1   \n",
              "\n",
              "                                                name  popularity release_date  \\\n",
              "0  Piano Concerto No. 3 in D Minor, Op. 30: III. ...           4         1921   \n",
              "1                            Clancy Lowered the Boom           5         1921   \n",
              "2                                          Gati Bali           5         1921   \n",
              "3                                          Danny Boy           3         1921   \n",
              "4                        When Irish Eyes Are Smiling           2         1921   \n",
              "\n",
              "   speechiness    tempo  \n",
              "0       0.0366   80.954  \n",
              "1       0.4150   60.936  \n",
              "2       0.0339  110.339  \n",
              "3       0.0354  100.109  \n",
              "4       0.0380  101.665  "
            ],
            "text/html": [
              "\n",
              "  <div id=\"df-3980731c-d083-45e9-a6c1-f6205fded3eb\" class=\"colab-df-container\">\n",
              "    <div>\n",
              "<style scoped>\n",
              "    .dataframe tbody tr th:only-of-type {\n",
              "        vertical-align: middle;\n",
              "    }\n",
              "\n",
              "    .dataframe tbody tr th {\n",
              "        vertical-align: top;\n",
              "    }\n",
              "\n",
              "    .dataframe thead th {\n",
              "        text-align: right;\n",
              "    }\n",
              "</style>\n",
              "<table border=\"1\" class=\"dataframe\">\n",
              "  <thead>\n",
              "    <tr style=\"text-align: right;\">\n",
              "      <th></th>\n",
              "      <th>valence</th>\n",
              "      <th>year</th>\n",
              "      <th>acousticness</th>\n",
              "      <th>artists</th>\n",
              "      <th>danceability</th>\n",
              "      <th>duration_ms</th>\n",
              "      <th>energy</th>\n",
              "      <th>explicit</th>\n",
              "      <th>id</th>\n",
              "      <th>instrumentalness</th>\n",
              "      <th>key</th>\n",
              "      <th>liveness</th>\n",
              "      <th>loudness</th>\n",
              "      <th>mode</th>\n",
              "      <th>name</th>\n",
              "      <th>popularity</th>\n",
              "      <th>release_date</th>\n",
              "      <th>speechiness</th>\n",
              "      <th>tempo</th>\n",
              "    </tr>\n",
              "  </thead>\n",
              "  <tbody>\n",
              "    <tr>\n",
              "      <th>0</th>\n",
              "      <td>0.0594</td>\n",
              "      <td>1921</td>\n",
              "      <td>0.982</td>\n",
              "      <td>['Sergei Rachmaninoff', 'James Levine', 'Berli...</td>\n",
              "      <td>0.279</td>\n",
              "      <td>831667</td>\n",
              "      <td>0.211</td>\n",
              "      <td>0</td>\n",
              "      <td>4BJqT0PrAfrxzMOxytFOIz</td>\n",
              "      <td>0.878000</td>\n",
              "      <td>10</td>\n",
              "      <td>0.665</td>\n",
              "      <td>-20.096</td>\n",
              "      <td>1</td>\n",
              "      <td>Piano Concerto No. 3 in D Minor, Op. 30: III. ...</td>\n",
              "      <td>4</td>\n",
              "      <td>1921</td>\n",
              "      <td>0.0366</td>\n",
              "      <td>80.954</td>\n",
              "    </tr>\n",
              "    <tr>\n",
              "      <th>1</th>\n",
              "      <td>0.9630</td>\n",
              "      <td>1921</td>\n",
              "      <td>0.732</td>\n",
              "      <td>['Dennis Day']</td>\n",
              "      <td>0.819</td>\n",
              "      <td>180533</td>\n",
              "      <td>0.341</td>\n",
              "      <td>0</td>\n",
              "      <td>7xPhfUan2yNtyFG0cUWkt8</td>\n",
              "      <td>0.000000</td>\n",
              "      <td>7</td>\n",
              "      <td>0.160</td>\n",
              "      <td>-12.441</td>\n",
              "      <td>1</td>\n",
              "      <td>Clancy Lowered the Boom</td>\n",
              "      <td>5</td>\n",
              "      <td>1921</td>\n",
              "      <td>0.4150</td>\n",
              "      <td>60.936</td>\n",
              "    </tr>\n",
              "    <tr>\n",
              "      <th>2</th>\n",
              "      <td>0.0394</td>\n",
              "      <td>1921</td>\n",
              "      <td>0.961</td>\n",
              "      <td>['KHP Kridhamardawa Karaton Ngayogyakarta Hadi...</td>\n",
              "      <td>0.328</td>\n",
              "      <td>500062</td>\n",
              "      <td>0.166</td>\n",
              "      <td>0</td>\n",
              "      <td>1o6I8BglA6ylDMrIELygv1</td>\n",
              "      <td>0.913000</td>\n",
              "      <td>3</td>\n",
              "      <td>0.101</td>\n",
              "      <td>-14.850</td>\n",
              "      <td>1</td>\n",
              "      <td>Gati Bali</td>\n",
              "      <td>5</td>\n",
              "      <td>1921</td>\n",
              "      <td>0.0339</td>\n",
              "      <td>110.339</td>\n",
              "    </tr>\n",
              "    <tr>\n",
              "      <th>3</th>\n",
              "      <td>0.1650</td>\n",
              "      <td>1921</td>\n",
              "      <td>0.967</td>\n",
              "      <td>['Frank Parker']</td>\n",
              "      <td>0.275</td>\n",
              "      <td>210000</td>\n",
              "      <td>0.309</td>\n",
              "      <td>0</td>\n",
              "      <td>3ftBPsC5vPBKxYSee08FDH</td>\n",
              "      <td>0.000028</td>\n",
              "      <td>5</td>\n",
              "      <td>0.381</td>\n",
              "      <td>-9.316</td>\n",
              "      <td>1</td>\n",
              "      <td>Danny Boy</td>\n",
              "      <td>3</td>\n",
              "      <td>1921</td>\n",
              "      <td>0.0354</td>\n",
              "      <td>100.109</td>\n",
              "    </tr>\n",
              "    <tr>\n",
              "      <th>4</th>\n",
              "      <td>0.2530</td>\n",
              "      <td>1921</td>\n",
              "      <td>0.957</td>\n",
              "      <td>['Phil Regan']</td>\n",
              "      <td>0.418</td>\n",
              "      <td>166693</td>\n",
              "      <td>0.193</td>\n",
              "      <td>0</td>\n",
              "      <td>4d6HGyGT8e121BsdKmw9v6</td>\n",
              "      <td>0.000002</td>\n",
              "      <td>3</td>\n",
              "      <td>0.229</td>\n",
              "      <td>-10.096</td>\n",
              "      <td>1</td>\n",
              "      <td>When Irish Eyes Are Smiling</td>\n",
              "      <td>2</td>\n",
              "      <td>1921</td>\n",
              "      <td>0.0380</td>\n",
              "      <td>101.665</td>\n",
              "    </tr>\n",
              "  </tbody>\n",
              "</table>\n",
              "</div>\n",
              "    <div class=\"colab-df-buttons\">\n",
              "\n",
              "  <div class=\"colab-df-container\">\n",
              "    <button class=\"colab-df-convert\" onclick=\"convertToInteractive('df-3980731c-d083-45e9-a6c1-f6205fded3eb')\"\n",
              "            title=\"Convert this dataframe to an interactive table.\"\n",
              "            style=\"display:none;\">\n",
              "\n",
              "  <svg xmlns=\"http://www.w3.org/2000/svg\" height=\"24px\" viewBox=\"0 -960 960 960\">\n",
              "    <path d=\"M120-120v-720h720v720H120Zm60-500h600v-160H180v160Zm220 220h160v-160H400v160Zm0 220h160v-160H400v160ZM180-400h160v-160H180v160Zm440 0h160v-160H620v160ZM180-180h160v-160H180v160Zm440 0h160v-160H620v160Z\"/>\n",
              "  </svg>\n",
              "    </button>\n",
              "\n",
              "  <style>\n",
              "    .colab-df-container {\n",
              "      display:flex;\n",
              "      gap: 12px;\n",
              "    }\n",
              "\n",
              "    .colab-df-convert {\n",
              "      background-color: #E8F0FE;\n",
              "      border: none;\n",
              "      border-radius: 50%;\n",
              "      cursor: pointer;\n",
              "      display: none;\n",
              "      fill: #1967D2;\n",
              "      height: 32px;\n",
              "      padding: 0 0 0 0;\n",
              "      width: 32px;\n",
              "    }\n",
              "\n",
              "    .colab-df-convert:hover {\n",
              "      background-color: #E2EBFA;\n",
              "      box-shadow: 0px 1px 2px rgba(60, 64, 67, 0.3), 0px 1px 3px 1px rgba(60, 64, 67, 0.15);\n",
              "      fill: #174EA6;\n",
              "    }\n",
              "\n",
              "    .colab-df-buttons div {\n",
              "      margin-bottom: 4px;\n",
              "    }\n",
              "\n",
              "    [theme=dark] .colab-df-convert {\n",
              "      background-color: #3B4455;\n",
              "      fill: #D2E3FC;\n",
              "    }\n",
              "\n",
              "    [theme=dark] .colab-df-convert:hover {\n",
              "      background-color: #434B5C;\n",
              "      box-shadow: 0px 1px 3px 1px rgba(0, 0, 0, 0.15);\n",
              "      filter: drop-shadow(0px 1px 2px rgba(0, 0, 0, 0.3));\n",
              "      fill: #FFFFFF;\n",
              "    }\n",
              "  </style>\n",
              "\n",
              "    <script>\n",
              "      const buttonEl =\n",
              "        document.querySelector('#df-3980731c-d083-45e9-a6c1-f6205fded3eb button.colab-df-convert');\n",
              "      buttonEl.style.display =\n",
              "        google.colab.kernel.accessAllowed ? 'block' : 'none';\n",
              "\n",
              "      async function convertToInteractive(key) {\n",
              "        const element = document.querySelector('#df-3980731c-d083-45e9-a6c1-f6205fded3eb');\n",
              "        const dataTable =\n",
              "          await google.colab.kernel.invokeFunction('convertToInteractive',\n",
              "                                                    [key], {});\n",
              "        if (!dataTable) return;\n",
              "\n",
              "        const docLinkHtml = 'Like what you see? Visit the ' +\n",
              "          '<a target=\"_blank\" href=https://colab.research.google.com/notebooks/data_table.ipynb>data table notebook</a>'\n",
              "          + ' to learn more about interactive tables.';\n",
              "        element.innerHTML = '';\n",
              "        dataTable['output_type'] = 'display_data';\n",
              "        await google.colab.output.renderOutput(dataTable, element);\n",
              "        const docLink = document.createElement('div');\n",
              "        docLink.innerHTML = docLinkHtml;\n",
              "        element.appendChild(docLink);\n",
              "      }\n",
              "    </script>\n",
              "  </div>\n",
              "\n",
              "\n",
              "<div id=\"df-5cb2a588-8431-4b1c-850e-06cb00a86fd6\">\n",
              "  <button class=\"colab-df-quickchart\" onclick=\"quickchart('df-5cb2a588-8431-4b1c-850e-06cb00a86fd6')\"\n",
              "            title=\"Suggest charts\"\n",
              "            style=\"display:none;\">\n",
              "\n",
              "<svg xmlns=\"http://www.w3.org/2000/svg\" height=\"24px\"viewBox=\"0 0 24 24\"\n",
              "     width=\"24px\">\n",
              "    <g>\n",
              "        <path d=\"M19 3H5c-1.1 0-2 .9-2 2v14c0 1.1.9 2 2 2h14c1.1 0 2-.9 2-2V5c0-1.1-.9-2-2-2zM9 17H7v-7h2v7zm4 0h-2V7h2v10zm4 0h-2v-4h2v4z\"/>\n",
              "    </g>\n",
              "</svg>\n",
              "  </button>\n",
              "\n",
              "<style>\n",
              "  .colab-df-quickchart {\n",
              "      --bg-color: #E8F0FE;\n",
              "      --fill-color: #1967D2;\n",
              "      --hover-bg-color: #E2EBFA;\n",
              "      --hover-fill-color: #174EA6;\n",
              "      --disabled-fill-color: #AAA;\n",
              "      --disabled-bg-color: #DDD;\n",
              "  }\n",
              "\n",
              "  [theme=dark] .colab-df-quickchart {\n",
              "      --bg-color: #3B4455;\n",
              "      --fill-color: #D2E3FC;\n",
              "      --hover-bg-color: #434B5C;\n",
              "      --hover-fill-color: #FFFFFF;\n",
              "      --disabled-bg-color: #3B4455;\n",
              "      --disabled-fill-color: #666;\n",
              "  }\n",
              "\n",
              "  .colab-df-quickchart {\n",
              "    background-color: var(--bg-color);\n",
              "    border: none;\n",
              "    border-radius: 50%;\n",
              "    cursor: pointer;\n",
              "    display: none;\n",
              "    fill: var(--fill-color);\n",
              "    height: 32px;\n",
              "    padding: 0;\n",
              "    width: 32px;\n",
              "  }\n",
              "\n",
              "  .colab-df-quickchart:hover {\n",
              "    background-color: var(--hover-bg-color);\n",
              "    box-shadow: 0 1px 2px rgba(60, 64, 67, 0.3), 0 1px 3px 1px rgba(60, 64, 67, 0.15);\n",
              "    fill: var(--button-hover-fill-color);\n",
              "  }\n",
              "\n",
              "  .colab-df-quickchart-complete:disabled,\n",
              "  .colab-df-quickchart-complete:disabled:hover {\n",
              "    background-color: var(--disabled-bg-color);\n",
              "    fill: var(--disabled-fill-color);\n",
              "    box-shadow: none;\n",
              "  }\n",
              "\n",
              "  .colab-df-spinner {\n",
              "    border: 2px solid var(--fill-color);\n",
              "    border-color: transparent;\n",
              "    border-bottom-color: var(--fill-color);\n",
              "    animation:\n",
              "      spin 1s steps(1) infinite;\n",
              "  }\n",
              "\n",
              "  @keyframes spin {\n",
              "    0% {\n",
              "      border-color: transparent;\n",
              "      border-bottom-color: var(--fill-color);\n",
              "      border-left-color: var(--fill-color);\n",
              "    }\n",
              "    20% {\n",
              "      border-color: transparent;\n",
              "      border-left-color: var(--fill-color);\n",
              "      border-top-color: var(--fill-color);\n",
              "    }\n",
              "    30% {\n",
              "      border-color: transparent;\n",
              "      border-left-color: var(--fill-color);\n",
              "      border-top-color: var(--fill-color);\n",
              "      border-right-color: var(--fill-color);\n",
              "    }\n",
              "    40% {\n",
              "      border-color: transparent;\n",
              "      border-right-color: var(--fill-color);\n",
              "      border-top-color: var(--fill-color);\n",
              "    }\n",
              "    60% {\n",
              "      border-color: transparent;\n",
              "      border-right-color: var(--fill-color);\n",
              "    }\n",
              "    80% {\n",
              "      border-color: transparent;\n",
              "      border-right-color: var(--fill-color);\n",
              "      border-bottom-color: var(--fill-color);\n",
              "    }\n",
              "    90% {\n",
              "      border-color: transparent;\n",
              "      border-bottom-color: var(--fill-color);\n",
              "    }\n",
              "  }\n",
              "</style>\n",
              "\n",
              "  <script>\n",
              "    async function quickchart(key) {\n",
              "      const quickchartButtonEl =\n",
              "        document.querySelector('#' + key + ' button');\n",
              "      quickchartButtonEl.disabled = true;  // To prevent multiple clicks.\n",
              "      quickchartButtonEl.classList.add('colab-df-spinner');\n",
              "      try {\n",
              "        const charts = await google.colab.kernel.invokeFunction(\n",
              "            'suggestCharts', [key], {});\n",
              "      } catch (error) {\n",
              "        console.error('Error during call to suggestCharts:', error);\n",
              "      }\n",
              "      quickchartButtonEl.classList.remove('colab-df-spinner');\n",
              "      quickchartButtonEl.classList.add('colab-df-quickchart-complete');\n",
              "    }\n",
              "    (() => {\n",
              "      let quickchartButtonEl =\n",
              "        document.querySelector('#df-5cb2a588-8431-4b1c-850e-06cb00a86fd6 button');\n",
              "      quickchartButtonEl.style.display =\n",
              "        google.colab.kernel.accessAllowed ? 'block' : 'none';\n",
              "    })();\n",
              "  </script>\n",
              "</div>\n",
              "\n",
              "    </div>\n",
              "  </div>\n"
            ],
            "application/vnd.google.colaboratory.intrinsic+json": {
              "type": "dataframe",
              "variable_name": "df"
            }
          },
          "metadata": {},
          "execution_count": 5
        }
      ]
    },
    {
      "cell_type": "code",
      "source": [
        "plt.hist(df['popularity'])\n",
        "plt.title('Distribution of Popularity')\n",
        "plt.xlabel('Popularity Value')\n",
        "plt.show()"
      ],
      "metadata": {
        "colab": {
          "base_uri": "https://localhost:8080/",
          "height": 472
        },
        "id": "KTgDlLVNfYKg",
        "outputId": "de433382-d293-471f-b1e7-be53bc90ffc6"
      },
      "execution_count": 9,
      "outputs": [
        {
          "output_type": "display_data",
          "data": {
            "text/plain": [
              "<Figure size 640x480 with 1 Axes>"
            ],
            "image/png": "[encoded data removed]"
          },
          "metadata": {}
        }
      ]
    },
    {
      "cell_type": "code",
      "source": [
        "plt.scatter(x=df['duration_ms'], y=df['popularity'])\n",
        "plt.xlabel('Duration (ms)')\n",
        "plt.ylabel('Popularity')\n",
        "plt.title('Duration vs Popularity')\n",
        "plt.show()"
      ],
      "metadata": {
        "colab": {
          "base_uri": "https://localhost:8080/",
          "height": 472
        },
        "id": "fMieZd2jfkGb",
        "outputId": "e7f53c23-3afc-4b9d-fb6f-33b44d0835ac"
      },
      "execution_count": 10,
      "outputs": [
        {
          "output_type": "display_data",
          "data": {
            "text/plain": [
              "<Figure size 640x480 with 1 Axes>"
            ],
            "image/png": "[encoded data removed]"
          },
          "metadata": {}
        }
      ]
    },
    {
      "cell_type": "code",
      "source": [
        "plt.scatter(x=df['tempo'], y=df['popularity'])\n",
        "plt.xlabel('Tempo (bpm)')\n",
        "plt.ylabel('Popularity')\n",
        "plt.title('Tempo vs Popularity')\n",
        "plt.show()"
      ],
      "metadata": {
        "colab": {
          "base_uri": "https://localhost:8080/",
          "height": 472
        },
        "id": "V0ETLH6Tf-KP",
        "outputId": "61aee7ee-f28b-4a76-a428-a098d8205cb5"
      },
      "execution_count": 11,
      "outputs": [
        {
          "output_type": "display_data",
          "data": {
            "text/plain": [
              "<Figure size 640x480 with 1 Axes>"
            ],
            "image/png": "[encoded data removed]"
          },
          "metadata": {}
        }
      ]
    },
    {
      "cell_type": "code",
      "source": [
        "plt.scatter(x=df['tempo'], y=df['danceability'])\n",
        "plt.xlabel('Tempo (bpm)')\n",
        "plt.ylabel('Danceability')\n",
        "plt.title('Tempo vs Danceability')\n",
        "plt.show()"
      ],
      "metadata": {
        "colab": {
          "base_uri": "https://localhost:8080/",
          "height": 472
        },
        "id": "PZi0tnNQgLAT",
        "outputId": "174a49e2-0da9-4dd0-ddfb-4131d29feb4a"
      },
      "execution_count": 13,
      "outputs": [
        {
          "output_type": "display_data",
          "data": {
            "text/plain": [
              "<Figure size 640x480 with 1 Axes>"
            ],
            "image/png": "[encoded data removed]"
          },
          "metadata": {}
        }
      ]
    },
    {
      "cell_type": "code",
      "source": [
        "plt.hist(df['key'])\n",
        "plt.title('Distribution of Key')\n",
        "plt.xlabel('Key')\n",
        "plt.show()"
      ],
      "metadata": {
        "colab": {
          "base_uri": "https://localhost:8080/",
          "height": 472
        },
        "id": "IppaBDjhgSNK",
        "outputId": "3c5684b3-fdc6-4926-b9ca-f8126ef288ae"
      },
      "execution_count": 14,
      "outputs": [
        {
          "output_type": "display_data",
          "data": {
            "text/plain": [
              "<Figure size 640x480 with 1 Axes>"
            ],
            "image/png": "[encoded data removed]"
          },
          "metadata": {}
        }
      ]
    },
    {
      "cell_type": "code",
      "source": [
        "plt.hist(df['tempo'])\n",
        "plt.title('Distribution of Tempo')\n",
        "plt.xlabel('Tempo (bpm)')\n",
        "plt.show()"
      ],
      "metadata": {
        "colab": {
          "base_uri": "https://localhost:8080/",
          "height": 472
        },
        "id": "CR7zZQktgm7U",
        "outputId": "907f9a5c-6368-43d0-d565-752ff9114547"
      },
      "execution_count": 15,
      "outputs": [
        {
          "output_type": "display_data",
          "data": {
            "text/plain": [
              "<Figure size 640x480 with 1 Axes>"
            ],
            "image/png": "[encoded data removed]"
          },
          "metadata": {}
        }
      ]
    },
    {
      "cell_type": "code",
      "source": [
        "plt.hist(df['speechiness'])\n",
        "plt.title('Distribution of Speechiness')\n",
        "plt.xlabel('Speechiness')\n",
        "plt.show()"
      ],
      "metadata": {
        "colab": {
          "base_uri": "https://localhost:8080/",
          "height": 472
        },
        "id": "OqLlZZQng1dj",
        "outputId": "2dea9d2e-828a-410b-ac28-266fe3fc691e"
      },
      "execution_count": 16,
      "outputs": [
        {
          "output_type": "display_data",
          "data": {
            "text/plain": [
              "<Figure size 640x480 with 1 Axes>"
            ],
            "image/png": "[encoded data removed]"
          },
          "metadata": {}
        }
      ]
    },
    {
      "cell_type": "code",
      "source": [
        "df['mode'].value_counts()"
      ],
      "metadata": {
        "colab": {
          "base_uri": "https://localhost:8080/"
        },
        "id": "LSZLLTcVhG_4",
        "outputId": "e27dfec4-c43d-4dc0-b293-52db3c99e5d5"
      },
      "execution_count": 17,
      "outputs": [
        {
          "output_type": "execute_result",
          "data": {
            "text/plain": [
              "1    120635\n",
              "0     50018\n",
              "Name: mode, dtype: int64"
            ]
          },
          "metadata": {},
          "execution_count": 17
        }
      ]
    },
    {
      "cell_type": "code",
      "source": [],
      "metadata": {
        "id": "h8NpoMWshhir"
      },
      "execution_count": null,
      "outputs": []
    },
    {
      "cell_type": "code",
      "source": [
        "from music21 import *\n",
        "\n",
        "# Load MIDI file\n",
        "midi_file_path = '/content/drive/MyDrive/DS340/Johann Sebastian Bach/Invention 1, BWV 772.mid'\n",
        "midi_stream = converter.parse(midi_file_path)\n",
        "\n",
        "# Extract key signature\n",
        "key_signature = None\n",
        "for event in midi_stream.flat.getElementsByClass('KeySignature'):\n",
        "    key_signature = event\n",
        "    break\n",
        "\n",
        "if key_signature:\n",
        "    print(\"Key signature:\", key_signature)\n",
        "else:\n",
        "    print(\"Key signature not found in the MIDI file.\")"
      ],
      "metadata": {
        "colab": {
          "base_uri": "https://localhost:8080/"
        },
        "id": "5CS8gei642YE",
        "outputId": "90426910-7815-49db-e770-054a7a22713d"
      },
      "execution_count": 81,
      "outputs": [
        {
          "output_type": "stream",
          "name": "stdout",
          "text": [
            "Key signature: G# major\n"
          ]
        },
        {
          "output_type": "stream",
          "name": "stderr",
          "text": [
            "/usr/local/lib/python3.10/dist-packages/music21/stream/base.py:3694: Music21DeprecationWarning: .flat is deprecated.  Call .flatten() instead\n",
            "  return self.iter().getElementsByClass(classFilterList)\n"
          ]
        }
      ]
    },
    {
      "cell_type": "code",
      "source": [
        "# Get total duration of the piece\n",
        "total_duration = midi_stream.duration.quarterLength\n",
        "\n",
        "print(\"Total duration:\", total_duration, \"quarters\")"
      ],
      "metadata": {
        "colab": {
          "base_uri": "https://localhost:8080/"
        },
        "id": "s0SSqfm_5CfZ",
        "outputId": "2d57e48b-6993-41e3-910d-2f7b298a5361"
      },
      "execution_count": 35,
      "outputs": [
        {
          "output_type": "stream",
          "name": "stdout",
          "text": [
            "Total duration: 88.0 quarters\n"
          ]
        }
      ]
    },
    {
      "cell_type": "code",
      "source": [
        "88/80"
      ],
      "metadata": {
        "colab": {
          "base_uri": "https://localhost:8080/"
        },
        "id": "P5FmVvx55Dba",
        "outputId": "2aae100f-36f6-40eb-ee24-cc692ccb9ad3"
      },
      "execution_count": 38,
      "outputs": [
        {
          "output_type": "execute_result",
          "data": {
            "text/plain": [
              "1.1"
            ]
          },
          "metadata": {},
          "execution_count": 38
        }
      ]
    },
    {
      "cell_type": "code",
      "source": [
        "# Extract tempo\n",
        "tempo = None\n",
        "for event in midi_stream.flat.notesAndRests:\n",
        "    if isinstance(event, event.MetronomeMark):\n",
        "        tempo = event\n",
        "        break\n",
        "\n",
        "if tempo:\n",
        "    print(\"Tempo:\", tempo)\n",
        "else:\n",
        "    print(\"Tempo information not found in the MIDI file.\")"
      ],
      "metadata": {
        "colab": {
          "base_uri": "https://localhost:8080/",
          "height": 265
        },
        "id": "ViMWHgXW5zaI",
        "outputId": "2f1fcb37-b9a0-41ad-f419-b268b221a1a8"
      },
      "execution_count": 55,
      "outputs": [
        {
          "output_type": "stream",
          "name": "stderr",
          "text": [
            "/usr/local/lib/python3.10/dist-packages/music21/stream/base.py:3694: Music21DeprecationWarning: .flat is deprecated.  Call .flatten() instead\n",
            "  return self.iter().getElementsByClass(classFilterList)\n"
          ]
        },
        {
          "output_type": "error",
          "ename": "AttributeError",
          "evalue": "'Rest' object has no attribute 'MetronomeMark'",
          "traceback": [
            "\u001b[0;31m---------------------------------------------------------------------------\u001b[0m",
            "\u001b[0;31mAttributeError\u001b[0m                            Traceback (most recent call last)",
            "\u001b[0;32m<ipython-input-55-90aaa5bdf965>\u001b[0m in \u001b[0;36m<cell line: 3>\u001b[0;34m()\u001b[0m\n\u001b[1;32m      2\u001b[0m \u001b[0mtempo\u001b[0m \u001b[0;34m=\u001b[0m \u001b[0;32mNone\u001b[0m\u001b[0;34m\u001b[0m\u001b[0;34m\u001b[0m\u001b[0m\n\u001b[1;32m      3\u001b[0m \u001b[0;32mfor\u001b[0m \u001b[0mevent\u001b[0m \u001b[0;32min\u001b[0m \u001b[0mmidi_stream\u001b[0m\u001b[0;34m.\u001b[0m\u001b[0mflat\u001b[0m\u001b[0;34m.\u001b[0m\u001b[0mnotesAndRests\u001b[0m\u001b[0;34m:\u001b[0m\u001b[0;34m\u001b[0m\u001b[0;34m\u001b[0m\u001b[0m\n\u001b[0;32m----> 4\u001b[0;31m     \u001b[0;32mif\u001b[0m \u001b[0misinstance\u001b[0m\u001b[0;34m(\u001b[0m\u001b[0mevent\u001b[0m\u001b[0;34m,\u001b[0m \u001b[0mevent\u001b[0m\u001b[0;34m.\u001b[0m\u001b[0mMetronomeMark\u001b[0m\u001b[0;34m)\u001b[0m\u001b[0;34m:\u001b[0m\u001b[0;34m\u001b[0m\u001b[0;34m\u001b[0m\u001b[0m\n\u001b[0m\u001b[1;32m      5\u001b[0m         \u001b[0mtempo\u001b[0m \u001b[0;34m=\u001b[0m \u001b[0mevent\u001b[0m\u001b[0;34m\u001b[0m\u001b[0;34m\u001b[0m\u001b[0m\n\u001b[1;32m      6\u001b[0m         \u001b[0;32mbreak\u001b[0m\u001b[0;34m\u001b[0m\u001b[0;34m\u001b[0m\u001b[0m\n",
            "\u001b[0;31mAttributeError\u001b[0m: 'Rest' object has no attribute 'MetronomeMark'"
          ]
        }
      ]
    },
    {
      "cell_type": "code",
      "source": [
        "all_parts = []\n",
        "for part in midi_stream.parts:\n",
        "  part_tuples=[]\n",
        "  try:\n",
        "    track_name = part[0].bestName()\n",
        "  except AttributeError:\n",
        "    track_name = \"None\"\n",
        "  part_tuples.append(track_name)\n",
        "  for even in part:\n",
        "    for y in event.contextSites():\n",
        "      if y[0] is part:\n",
        "        offset=y[1]\n",
        "    if getattr(event, 'isNote', None) and event.isNote:\n",
        "      part_tuples.append([event.quarterLength, event.pitch.midi, offset])\n",
        "    if getattr(event, 'isRest', None) and event.isRest:\n",
        "      part_tuples.append([event.quarterLength, 'Rest', offset])\n",
        "\n",
        "  all_parts.append(part_tuples)"
      ],
      "metadata": {
        "id": "kr7hqGKt7-Cw"
      },
      "execution_count": 58,
      "outputs": []
    },
    {
      "cell_type": "code",
      "source": [
        "tempo = None\n",
        "for event in midi_stream.flat:\n",
        "  if event.str.contains('MetronomeMark')\n",
        "  tempo = event"
      ],
      "metadata": {
        "colab": {
          "base_uri": "https://localhost:8080/"
        },
        "id": "b6dqrqgP8jDD",
        "outputId": "8139543f-0b11-4666-e007-f61d0b32cf2e"
      },
      "execution_count": 79,
      "outputs": [
        {
          "output_type": "stream",
          "name": "stdout",
          "text": [
            "<music21.metadata.Metadata object at 0x792128372c50>\n",
            "RH: \n",
            "LH: \n",
            "<music21.clef.TrebleClef>\n",
            "<music21.clef.BassClef>\n",
            "<music21.tempo.MetronomeMark andantino Quarter=80>\n",
            "<music21.tempo.MetronomeMark andantino Quarter=80>\n",
            "G# major\n",
            "G# major\n",
            "<music21.meter.TimeSignature 4/4>\n",
            "<music21.meter.TimeSignature 4/4>\n",
            "<music21.note.Rest 16th>\n",
            "<music21.note.Rest 2.25ql>\n",
            "<music21.note.Note C>\n",
            "<music21.note.Note D>\n",
            "<music21.note.Note E>\n",
            "<music21.note.Note F>\n",
            "<music21.note.Note D>\n",
            "<music21.note.Note E>\n",
            "<music21.note.Note C>\n",
            "<music21.note.Note G>\n",
            "<music21.note.Note C>\n",
            "<music21.note.Note C>\n",
            "<music21.note.Note D>\n",
            "<music21.note.Note E>\n",
            "<music21.note.Note B>\n",
            "<music21.note.Note F>\n",
            "<music21.note.Note D>\n",
            "<music21.note.Note C>\n",
            "<music21.note.Note E>\n",
            "<music21.note.Note C>\n",
            "<music21.note.Note D>\n",
            "<music21.note.Note G>\n",
            "<music21.note.Note G>\n",
            "<music21.note.Note A>\n",
            "<music21.note.Note G>\n",
            "<music21.note.Note B>\n",
            "<music21.note.Note C>\n",
            "<music21.note.Rest 1.25ql>\n",
            "<music21.note.Note A>\n",
            "<music21.note.Note B>\n",
            "<music21.note.Note G>\n",
            "<music21.note.Note D>\n",
            "<music21.note.Note G>\n",
            "<music21.note.Note G>\n",
            "<music21.note.Note A>\n",
            "<music21.note.Note B>\n",
            "<music21.note.Note F>\n",
            "<music21.note.Note C>\n",
            "<music21.note.Note A>\n",
            "<music21.note.Note G>\n",
            "<music21.note.Note B>\n",
            "<music21.note.Note G>\n",
            "<music21.note.Note E>\n",
            "<music21.note.Note C>\n",
            "<music21.note.Note A>\n",
            "<music21.note.Note G>\n",
            "<music21.note.Note B>\n",
            "<music21.note.Note F>\n",
            "<music21.note.Note E>\n",
            "<music21.note.Note C>\n",
            "<music21.note.Note G>\n",
            "<music21.note.Note F>\n",
            "<music21.note.Note D>\n",
            "<music21.note.Note A>\n",
            "<music21.note.Note G>\n",
            "<music21.note.Note E>\n",
            "<music21.note.Note F>\n",
            "<music21.note.Note E>\n",
            "<music21.note.Note G>\n",
            "<music21.note.Note D>\n",
            "<music21.note.Note C>\n",
            "<music21.note.Note A>\n",
            "<music21.note.Note E>\n",
            "<music21.note.Note D>\n",
            "<music21.note.Note B>\n",
            "<music21.note.Note F>\n",
            "<music21.note.Note E>\n",
            "<music21.note.Note C>\n",
            "<music21.note.Note D>\n",
            "<music21.note.Note C>\n",
            "<music21.note.Note E>\n",
            "<music21.note.Note B>\n",
            "<music21.note.Note A>\n",
            "<music21.note.Note F#>\n",
            "<music21.note.Note C>\n",
            "<music21.note.Note B>\n",
            "<music21.note.Note G>\n",
            "<music21.note.Note D>\n",
            "<music21.note.Note C>\n",
            "<music21.note.Note A>\n",
            "<music21.note.Note B>\n",
            "<music21.note.Note A>\n",
            "<music21.note.Note B>\n",
            "<music21.note.Note G>\n",
            "<music21.note.Note F#>\n",
            "<music21.note.Note C>\n",
            "<music21.note.Note A>\n",
            "<music21.note.Note G>\n",
            "<music21.note.Note B>\n",
            "<music21.note.Note A>\n",
            "<music21.note.Rest 16th>\n",
            "<music21.note.Note D>\n",
            "<music21.note.Note D>\n",
            "<music21.note.Note E>\n",
            "<music21.note.Note F#>\n",
            "<music21.note.Note C>\n",
            "<music21.note.Note G>\n",
            "<music21.note.Note E>\n",
            "<music21.note.Note F#>\n",
            "<music21.note.Note D>\n",
            "<music21.note.Note D>\n",
            "<music21.note.Note B>\n",
            "<music21.note.Note G>\n",
            "<music21.note.Note A>\n",
            "<music21.note.Note G>\n",
            "<music21.note.Note B>\n",
            "<music21.note.Note F#>\n",
            "<music21.note.Note E>\n",
            "<music21.note.Note C>\n",
            "<music21.note.Note G>\n",
            "<music21.note.Note F#>\n",
            "<music21.note.Note D>\n",
            "<music21.note.Note A>\n",
            "<music21.note.Note G>\n",
            "<music21.note.Note E>\n",
            "<music21.note.Note B>\n",
            "<music21.note.Note A>\n",
            "<music21.note.Note F#>\n",
            "<music21.note.Note C>\n",
            "<music21.note.Note B>\n",
            "<music21.note.Note G>\n",
            "<music21.note.Note D>\n",
            "<music21.note.Note C>\n",
            "<music21.note.Note E>\n",
            "<music21.note.Note E>\n",
            "<music21.note.Note D>\n",
            "<music21.note.Note B>\n",
            "<music21.chord.Chord B4 C5>\n",
            "<music21.note.Note D>\n",
            "<music21.note.Note G>\n",
            "<music21.note.Note C>\n",
            "<music21.note.Note B>\n",
            "<music21.note.Note D>\n",
            "<music21.note.Note A>\n",
            "<music21.note.Note D>\n",
            "<music21.note.Note G>\n",
            "<music21.note.Note G>\n",
            "<music21.note.Rest 16th>\n",
            "<music21.note.Note G>\n",
            "<music21.note.Note A>\n",
            "<music21.note.Note B>\n",
            "<music21.note.Rest 1.25ql>\n",
            "<music21.note.Note C>\n",
            "<music21.note.Note A>\n",
            "<music21.note.Note B>\n",
            "<music21.note.Note G>\n",
            "<music21.note.Note D>\n",
            "<music21.note.Note G>\n",
            "<music21.note.Note A>\n",
            "<music21.note.Note G>\n",
            "<music21.note.Note B>\n",
            "<music21.note.Note C>\n",
            "<music21.note.Note F#>\n",
            "<music21.note.Note A>\n",
            "<music21.note.Note B>\n",
            "<music21.note.Note G>\n",
            "<music21.note.Note G>\n",
            "<music21.note.Note F#>\n",
            "<music21.note.Note A>\n",
            "<music21.note.Note D>\n",
            "<music21.note.Note E>\n",
            "<music21.note.Note F#>\n",
            "<music21.note.Rest 1.25ql>\n",
            "<music21.note.Note G>\n",
            "<music21.note.Note E>\n",
            "<music21.note.Note F#>\n",
            "<music21.note.Note D>\n",
            "<music21.note.Note A>\n",
            "<music21.note.Note A>\n",
            "<music21.note.Note B>\n",
            "<music21.note.Note D>\n",
            "<music21.note.Note C>\n",
            "<music21.note.Note D>\n",
            "<music21.note.Note C>\n",
            "<music21.note.Note B>\n",
            "<music21.note.Note C>\n",
            "<music21.note.Note D>\n",
            "<music21.note.Note A>\n",
            "<music21.note.Note B>\n",
            "<music21.note.Note G>\n",
            "<music21.note.Note G>\n",
            "<music21.note.Note F>\n",
            "<music21.note.Note E>\n",
            "<music21.note.Rest 1.25ql>\n",
            "<music21.note.Note D>\n",
            "<music21.note.Note F>\n",
            "<music21.note.Note E>\n",
            "<music21.note.Note G>\n",
            "<music21.note.Note F>\n",
            "<music21.note.Note D>\n",
            "<music21.note.Note C>\n",
            "<music21.note.Note E>\n",
            "<music21.note.Note B>\n",
            "<music21.note.Note A>\n",
            "<music21.note.Note F>\n",
            "<music21.note.Note C>\n",
            "<music21.note.Note B>\n",
            "<music21.note.Note D>\n",
            "<music21.note.Note D>\n",
            "<music21.note.Note C>\n",
            "<music21.note.Note E>\n",
            "<music21.note.Note A>\n",
            "<music21.note.Note G>\n",
            "<music21.note.Note F>\n",
            "<music21.note.Rest 1.25ql>\n",
            "<music21.note.Note E>\n",
            "<music21.note.Note G>\n",
            "<music21.note.Note F>\n",
            "<music21.note.Note A>\n",
            "<music21.note.Note G>\n",
            "<music21.note.Note E>\n",
            "<music21.note.Note D>\n",
            "<music21.note.Note F>\n",
            "<music21.note.Note C>\n",
            "<music21.note.Note B>\n",
            "<music21.note.Note G>\n",
            "<music21.note.Note D>\n",
            "<music21.note.Note C#>\n",
            "<music21.note.Note E>\n",
            "<music21.note.Note E>\n",
            "<music21.note.Note D>\n",
            "<music21.note.Note F>\n",
            "<music21.note.Note B->\n",
            "<music21.note.Note C#>\n",
            "<music21.note.Note A>\n",
            "<music21.note.Note G>\n",
            "<music21.note.Note D>\n",
            "<music21.note.Note F>\n",
            "<music21.note.Note A>\n",
            "<music21.note.Note E>\n",
            "<music21.note.Note G>\n",
            "<music21.note.Note B->\n",
            "<music21.note.Note F>\n",
            "<music21.note.Note A>\n",
            "<music21.note.Note G>\n",
            "<music21.note.Note A>\n",
            "<music21.note.Note F>\n",
            "<music21.note.Note E>\n",
            "<music21.note.Note B>\n",
            "<music21.note.Note D>\n",
            "<music21.note.Note F>\n",
            "<music21.note.Note C#>\n",
            "<music21.note.Note E>\n",
            "<music21.note.Note G>\n",
            "<music21.note.Note D>\n",
            "<music21.note.Note F>\n",
            "<music21.note.Note E>\n",
            "<music21.note.Note F#>\n",
            "<music21.note.Note D>\n",
            "<music21.note.Note C>\n",
            "<music21.note.Note G#>\n",
            "<music21.note.Note B>\n",
            "<music21.note.Note D>\n",
            "<music21.note.Note A>\n",
            "<music21.note.Note C>\n",
            "<music21.note.Note E>\n",
            "<music21.note.Note B>\n",
            "<music21.note.Note D>\n",
            "<music21.note.Note C>\n",
            "<music21.note.Note C>\n",
            "<music21.note.Note B>\n",
            "<music21.note.Note A>\n",
            "<music21.note.Note D>\n",
            "<music21.note.Note G#>\n",
            "<music21.note.Note B>\n",
            "<music21.note.Note A>\n",
            "<music21.note.Note C>\n",
            "<music21.note.Rest 16th>\n",
            "<music21.note.Note B>\n",
            "<music21.note.Note E>\n",
            "<music21.note.Note F#>\n",
            "<music21.note.Note E>\n",
            "<music21.note.Note G#>\n",
            "<music21.note.Note A>\n",
            "<music21.note.Note D>\n",
            "<music21.note.Note F#>\n",
            "<music21.note.Note G#>\n",
            "<music21.note.Note E>\n",
            "<music21.note.Note E>\n",
            "<music21.note.Note E>\n",
            "<music21.note.Note C>\n",
            "<music21.note.Note D>\n",
            "<music21.note.Note B>\n",
            "<music21.note.Note C>\n",
            "<music21.note.Note A>\n",
            "<music21.note.Note E>\n",
            "<music21.note.Note G>\n",
            "<music21.note.Note D>\n",
            "<music21.note.Note F#>\n",
            "<music21.note.Note C>\n",
            "<music21.note.Note A>\n",
            "<music21.note.Note B>\n",
            "<music21.note.Note G#>\n",
            "<music21.note.Note D>\n",
            "<music21.note.Note B>\n",
            "<music21.note.Note C>\n",
            "<music21.note.Note A>\n",
            "<music21.note.Note A>\n",
            "<music21.note.Note C>\n",
            "<music21.note.Note G#>\n",
            "<music21.note.Note B>\n",
            "<music21.note.Note B>\n",
            "<music21.note.Note D>\n",
            "<music21.note.Note A>\n",
            "<music21.note.Note C>\n",
            "<music21.note.Note E>\n",
            "<music21.note.Note E>\n",
            "<music21.note.Note F>\n",
            "<music21.note.Note D>\n",
            "<music21.note.Note D>\n",
            "<music21.note.Note F>\n",
            "<music21.note.Note G#>\n",
            "<music21.note.Note E>\n",
            "<music21.note.Note F>\n",
            "<music21.note.Note E>\n",
            "<music21.note.Note A>\n",
            "<music21.note.Note D>\n",
            "<music21.note.Note C>\n",
            "<music21.note.Note E>\n",
            "<music21.note.Note B>\n",
            "<music21.note.Note E>\n",
            "<music21.note.Note A>\n",
            "<music21.note.Note A>\n",
            "<music21.note.Note A>\n",
            "<music21.note.Note A>\n",
            "<music21.note.Note G>\n",
            "<music21.note.Note A>\n",
            "<music21.note.Note F>\n",
            "<music21.note.Note E>\n",
            "<music21.note.Rest 1.25ql>\n",
            "<music21.note.Note G>\n",
            "<music21.note.Note F>\n",
            "<music21.note.Note A>\n",
            "<music21.note.Note G>\n",
            "<music21.note.Note E>\n",
            "<music21.note.Note D>\n",
            "<music21.note.Note C>\n",
            "<music21.note.Note B>\n",
            "<music21.note.Note D>\n",
            "<music21.note.Note C#>\n",
            "<music21.note.Note E>\n",
            "<music21.note.Rest 16th>\n",
            "<music21.note.Note D>\n",
            "<music21.note.Note E>\n",
            "<music21.note.Note F>\n",
            "<music21.note.Note G>\n",
            "<music21.note.Note A>\n",
            "<music21.note.Note F>\n",
            "<music21.note.Note G>\n",
            "<music21.note.Note E>\n",
            "<music21.note.Note F>\n",
            "<music21.note.Rest 16th>\n",
            "<music21.note.Note A>\n",
            "<music21.note.Note B>\n",
            "<music21.note.Note C>\n",
            "<music21.note.Note D>\n",
            "<music21.note.Note B>\n",
            "<music21.note.Note C>\n",
            "<music21.note.Note A>\n",
            "<music21.note.Rest 16th>\n",
            "<music21.note.Note B>\n",
            "<music21.note.Note G>\n",
            "<music21.note.Note F>\n",
            "<music21.note.Note E>\n",
            "<music21.note.Note D>\n",
            "<music21.note.Note F>\n",
            "<music21.note.Note E>\n",
            "<music21.note.Note G>\n",
            "<music21.note.Note F>\n",
            "<music21.note.Rest 16th>\n",
            "<music21.note.Note D>\n",
            "<music21.note.Note C>\n",
            "<music21.note.Note B>\n",
            "<music21.note.Note A>\n",
            "<music21.note.Note C>\n",
            "<music21.note.Note B>\n",
            "<music21.note.Note D>\n",
            "<music21.note.Rest 16th>\n",
            "<music21.note.Note C>\n",
            "<music21.note.Note D>\n",
            "<music21.note.Note E>\n",
            "<music21.note.Note F>\n",
            "<music21.note.Note G>\n",
            "<music21.note.Note E>\n",
            "<music21.note.Note F>\n",
            "<music21.note.Note D>\n",
            "<music21.note.Note E>\n",
            "<music21.note.Rest 16th>\n",
            "<music21.note.Note G>\n",
            "<music21.note.Note A>\n",
            "<music21.note.Note B->\n",
            "<music21.note.Note C>\n",
            "<music21.note.Note A>\n",
            "<music21.note.Note B->\n",
            "<music21.note.Note G>\n",
            "<music21.note.Rest 16th>\n",
            "<music21.note.Note A>\n",
            "<music21.note.Note C>\n",
            "<music21.note.Note D>\n",
            "<music21.note.Note B->\n",
            "<music21.note.Note E>\n",
            "<music21.note.Note F>\n",
            "<music21.note.Note A>\n",
            "<music21.note.Note D>\n",
            "<music21.note.Note E>\n",
            "<music21.note.Note G>\n",
            "<music21.note.Note C>\n",
            "<music21.note.Note D>\n",
            "<music21.note.Note F>\n",
            "<music21.note.Note E>\n",
            "<music21.note.Note F>\n",
            "<music21.note.Note D>\n",
            "<music21.note.Note G>\n",
            "<music21.note.Note A>\n",
            "<music21.note.Note C>\n",
            "<music21.note.Note F>\n",
            "<music21.note.Note G>\n",
            "<music21.note.Note B->\n",
            "<music21.note.Note E>\n",
            "<music21.note.Note F>\n",
            "<music21.note.Note A>\n",
            "<music21.note.Note G>\n",
            "<music21.note.Note A>\n",
            "<music21.note.Note F>\n",
            "<music21.note.Note B>\n",
            "<music21.note.Note C>\n",
            "<music21.note.Note E>\n",
            "<music21.note.Note A>\n",
            "<music21.note.Note B>\n",
            "<music21.note.Note D>\n",
            "<music21.note.Note G>\n",
            "<music21.note.Note C>\n",
            "<music21.note.Note E>\n",
            "<music21.note.Note D>\n",
            "<music21.note.Note G>\n",
            "<music21.note.Note E>\n",
            "<music21.note.Note F>\n",
            "<music21.note.Note E>\n",
            "<music21.note.Note G>\n",
            "<music21.note.Note E>\n",
            "<music21.note.Note D>\n",
            "<music21.note.Note F>\n",
            "<music21.note.Note C>\n",
            "<music21.note.Note D>\n",
            "<music21.note.Note C>\n",
            "<music21.note.Note E>\n",
            "<music21.note.Note B->\n",
            "<music21.note.Note A>\n",
            "<music21.note.Note C>\n",
            "<music21.note.Note G>\n",
            "<music21.note.Note F>\n",
            "<music21.note.Note D>\n",
            "<music21.note.Note A>\n",
            "<music21.note.Note G>\n",
            "<music21.note.Note E>\n",
            "<music21.note.Note B->\n",
            "<music21.note.Note A>\n",
            "<music21.note.Note F>\n",
            "<music21.note.Note B>\n",
            "<music21.note.Note D>\n",
            "<music21.note.Note C>\n",
            "<music21.note.Note E>\n",
            "<music21.note.Note E>\n",
            "<music21.note.Note F>\n",
            "<music21.note.Note D>\n",
            "<music21.note.Note G>\n",
            "<music21.note.Note C>\n",
            "<music21.note.Note F>\n",
            "<music21.note.Note G>\n",
            "<music21.note.Note B>\n",
            "<music21.chord.Chord E4 G4 C5>\n",
            "<music21.chord.Chord C2 C3>\n",
            "<music21.bar.Barline type=final>\n",
            "<music21.bar.Barline type=final>\n"
          ]
        },
        {
          "output_type": "stream",
          "name": "stderr",
          "text": [
            "/usr/local/lib/python3.10/dist-packages/IPython/core/interactiveshell.py:3553: Music21DeprecationWarning: .flat is deprecated.  Call .flatten() instead\n",
            "  exec(code_obj, self.user_global_ns, self.user_ns)\n"
          ]
        }
      ]
    },
    {
      "cell_type": "code",
      "source": [
        "\n",
        "# Extract tempo\n",
        "tempo = None\n",
        "for event in midi_stream.flat:\n",
        "    if 'MetronomeMark' in event.classes:\n",
        "        tempo = event\n",
        "        break\n",
        "\n",
        "if tempo:\n",
        "    print(\"Tempo:\", tempo)\n",
        "else:\n",
        "    print(\"Tempo information not found in the MIDI file.\")\n"
      ],
      "metadata": {
        "colab": {
          "base_uri": "https://localhost:8080/"
        },
        "id": "BUutRbOvBfGl",
        "outputId": "a3d79620-70b0-4ab7-ea57-e2fa55ee4e80"
      },
      "execution_count": 82,
      "outputs": [
        {
          "output_type": "stream",
          "name": "stdout",
          "text": [
            "Tempo: <music21.tempo.MetronomeMark andantino Quarter=80>\n"
          ]
        },
        {
          "output_type": "stream",
          "name": "stderr",
          "text": [
            "/usr/local/lib/python3.10/dist-packages/IPython/core/interactiveshell.py:3553: Music21DeprecationWarning: .flat is deprecated.  Call .flatten() instead\n",
            "  exec(code_obj, self.user_global_ns, self.user_ns)\n"
          ]
        }
      ]
    },
    {
      "cell_type": "code",
      "source": [
        "# Extract tempo\n",
        "tempo_value = None\n",
        "for event in midi_stream.flat:\n",
        "    if 'MetronomeMark' in event.classes:\n",
        "        tempo_value = int(event.number)\n",
        "        break\n",
        "\n",
        "if tempo_value is not None:\n",
        "    print(\"Tempo:\", tempo_value)\n",
        "else:\n",
        "    print(\"Tempo information not found in the MIDI file.\")"
      ],
      "metadata": {
        "colab": {
          "base_uri": "https://localhost:8080/"
        },
        "id": "rxcLXupW_qZl",
        "outputId": "a08b1bd1-a154-428a-b6d2-69b995013c78"
      },
      "execution_count": 83,
      "outputs": [
        {
          "output_type": "stream",
          "name": "stdout",
          "text": [
            "Tempo: 80\n"
          ]
        }
      ]
    },
    {
      "cell_type": "code",
      "source": [
        "type(tempo_value)"
      ],
      "metadata": {
        "colab": {
          "base_uri": "https://localhost:8080/"
        },
        "id": "Jct6PLrgCdI8",
        "outputId": "c8e48699-09a1-432e-ad72-2da04ca1b9a4"
      },
      "execution_count": 85,
      "outputs": [
        {
          "output_type": "execute_result",
          "data": {
            "text/plain": [
              "int"
            ]
          },
          "metadata": {},
          "execution_count": 85
        }
      ]
    },
    {
      "cell_type": "code",
      "source": [
        "tempo_value"
      ],
      "metadata": {
        "colab": {
          "base_uri": "https://localhost:8080/"
        },
        "id": "8FsunR4jDZWu",
        "outputId": "8e0a9035-ca14-4d89-a088-145ef3b47638"
      },
      "execution_count": 86,
      "outputs": [
        {
          "output_type": "execute_result",
          "data": {
            "text/plain": [
              "80"
            ]
          },
          "metadata": {},
          "execution_count": 86
        }
      ]
    },
    {
      "cell_type": "code",
      "source": [],
      "metadata": {
        "id": "-ODVnu0VDb0a"
      },
      "execution_count": null,
      "outputs": []
    }
  ]
}